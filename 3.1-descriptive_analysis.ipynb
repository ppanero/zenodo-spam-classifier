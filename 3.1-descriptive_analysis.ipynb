{
 "cells": [
  {
   "cell_type": "markdown",
   "metadata": {},
   "source": [
    "# Descriptive analysis"
   ]
  },
  {
   "cell_type": "code",
   "execution_count": 1,
   "metadata": {},
   "outputs": [],
   "source": [
    "import pandas as pd\n",
    "import seaborn as sns\n",
    "from matplotlib import pyplot as plt"
   ]
  },
  {
   "cell_type": "code",
   "execution_count": 2,
   "metadata": {},
   "outputs": [],
   "source": [
    "base_path = \".\""
   ]
  },
  {
   "cell_type": "code",
   "execution_count": 3,
   "metadata": {},
   "outputs": [],
   "source": [
    "filepath = f\"{base_path}/datasets/zenodo_open_metadata_2020-10-19.jsonl\"\n",
    "\n",
    "df = pd.read_json(filepath, lines=True)  # The file is JSONLines"
   ]
  },
  {
   "cell_type": "code",
   "execution_count": 4,
   "metadata": {},
   "outputs": [
    {
     "name": "stdout",
     "output_type": "stream",
     "text": [
      "Column names: alternate_identifiers, imprint, references, thesis, keywords, contributors, title, subjects, meeting, access_right, files, part_of, description, journal, communities, publication_date, owners, doi, license, notes, spam, recid, creators, resource_type, related_identifiers\n",
      "\n",
      "Dataset dimensions (rows, columns): (1722305, 25)\n",
      "\n"
     ]
    },
    {
     "data": {
      "text/html": [
       "<div>\n",
       "<style scoped>\n",
       "    .dataframe tbody tr th:only-of-type {\n",
       "        vertical-align: middle;\n",
       "    }\n",
       "\n",
       "    .dataframe tbody tr th {\n",
       "        vertical-align: top;\n",
       "    }\n",
       "\n",
       "    .dataframe thead th {\n",
       "        text-align: right;\n",
       "    }\n",
       "</style>\n",
       "<table border=\"1\" class=\"dataframe\">\n",
       "  <thead>\n",
       "    <tr style=\"text-align: right;\">\n",
       "      <th></th>\n",
       "      <th>alternate_identifiers</th>\n",
       "      <th>imprint</th>\n",
       "      <th>references</th>\n",
       "      <th>thesis</th>\n",
       "      <th>keywords</th>\n",
       "      <th>contributors</th>\n",
       "      <th>title</th>\n",
       "      <th>subjects</th>\n",
       "      <th>meeting</th>\n",
       "      <th>access_right</th>\n",
       "      <th>...</th>\n",
       "      <th>publication_date</th>\n",
       "      <th>owners</th>\n",
       "      <th>doi</th>\n",
       "      <th>license</th>\n",
       "      <th>notes</th>\n",
       "      <th>spam</th>\n",
       "      <th>recid</th>\n",
       "      <th>creators</th>\n",
       "      <th>resource_type</th>\n",
       "      <th>related_identifiers</th>\n",
       "    </tr>\n",
       "  </thead>\n",
       "  <tbody>\n",
       "    <tr>\n",
       "      <th>0</th>\n",
       "      <td>None</td>\n",
       "      <td>None</td>\n",
       "      <td>None</td>\n",
       "      <td>None</td>\n",
       "      <td>None</td>\n",
       "      <td>None</td>\n",
       "      <td>The Geodynamic World Builder</td>\n",
       "      <td>None</td>\n",
       "      <td>None</td>\n",
       "      <td>open</td>\n",
       "      <td>...</td>\n",
       "      <td>2020-06-18</td>\n",
       "      <td>[79483]</td>\n",
       "      <td>10.5281/zenodo.3900603</td>\n",
       "      <td>LGPL-2.1-or-later</td>\n",
       "      <td>None</td>\n",
       "      <td>False</td>\n",
       "      <td>3900603</td>\n",
       "      <td>[{'orcid': '0000-0003-0035-7723', 'affiliation...</td>\n",
       "      <td>{'type': 'software'}</td>\n",
       "      <td>[{'scheme': 'url', 'relation': 'isSupplementTo...</td>\n",
       "    </tr>\n",
       "    <tr>\n",
       "      <th>1</th>\n",
       "      <td>None</td>\n",
       "      <td>None</td>\n",
       "      <td>None</td>\n",
       "      <td>None</td>\n",
       "      <td>[Alignment, Ambiguous characters, InDel, Maxim...</td>\n",
       "      <td>None</td>\n",
       "      <td>Evidence of Absence Treated as Absence of Evid...</td>\n",
       "      <td>None</td>\n",
       "      <td>{'dates': 'October 5-8, 2016', 'place': 'Bueno...</td>\n",
       "      <td>open</td>\n",
       "      <td>...</td>\n",
       "      <td>2019-08-08</td>\n",
       "      <td>[70030]</td>\n",
       "      <td>10.5281/zenodo.3363990</td>\n",
       "      <td>CC-BY-4.0</td>\n",
       "      <td>Funding was provided by the Fundação de Amparo...</td>\n",
       "      <td>False</td>\n",
       "      <td>3363990</td>\n",
       "      <td>[{'orcid': '0000-0001-9858-4515', 'affiliation...</td>\n",
       "      <td>{'subtype': 'article', 'type': 'publication'}</td>\n",
       "      <td>None</td>\n",
       "    </tr>\n",
       "    <tr>\n",
       "      <th>2</th>\n",
       "      <td>None</td>\n",
       "      <td>None</td>\n",
       "      <td>None</td>\n",
       "      <td>None</td>\n",
       "      <td>[Biodiversity, Taxonomy, Animalia, Arthropoda,...</td>\n",
       "      <td>None</td>\n",
       "      <td>FIGURE 13 in Exploring species diversity and h...</td>\n",
       "      <td>None</td>\n",
       "      <td>None</td>\n",
       "      <td>open</td>\n",
       "      <td>...</td>\n",
       "      <td>2019-08-07</td>\n",
       "      <td>[1161]</td>\n",
       "      <td>10.5281/zenodo.3363503</td>\n",
       "      <td>notspecified</td>\n",
       "      <td>None</td>\n",
       "      <td>False</td>\n",
       "      <td>3363503</td>\n",
       "      <td>[{'name': 'Kirichenko, Natalia'}, {'name': 'Tr...</td>\n",
       "      <td>{'subtype': 'figure', 'type': 'image'}</td>\n",
       "      <td>[{'scheme': 'url', 'relation': 'isCitedBy', 'i...</td>\n",
       "    </tr>\n",
       "    <tr>\n",
       "      <th>3</th>\n",
       "      <td>None</td>\n",
       "      <td>None</td>\n",
       "      <td>None</td>\n",
       "      <td>None</td>\n",
       "      <td>[Biodiversity, Taxonomy, Animalia, Arthropoda,...</td>\n",
       "      <td>None</td>\n",
       "      <td>FIGURE 3 in Two new species of Panaietis (Cope...</td>\n",
       "      <td>None</td>\n",
       "      <td>None</td>\n",
       "      <td>open</td>\n",
       "      <td>...</td>\n",
       "      <td>2019-08-07</td>\n",
       "      <td>[1161]</td>\n",
       "      <td>10.5281/zenodo.3363619</td>\n",
       "      <td>notspecified</td>\n",
       "      <td>None</td>\n",
       "      <td>False</td>\n",
       "      <td>3363619</td>\n",
       "      <td>[{'name': 'Uyeno, Daisuke'}]</td>\n",
       "      <td>{'subtype': 'figure', 'type': 'image'}</td>\n",
       "      <td>[{'scheme': 'url', 'relation': 'isCitedBy', 'i...</td>\n",
       "    </tr>\n",
       "    <tr>\n",
       "      <th>4</th>\n",
       "      <td>[{'scheme': 'lsid', 'identifier': 'urn:lsid:pl...</td>\n",
       "      <td>None</td>\n",
       "      <td>[{'raw_reference': 'Bolivar, I. (1887) Essai s...</td>\n",
       "      <td>None</td>\n",
       "      <td>[Biodiversity, Taxonomy, Animalia, Arthropoda,...</td>\n",
       "      <td>None</td>\n",
       "      <td>A new species of the genus Criotettix Bolivar ...</td>\n",
       "      <td>None</td>\n",
       "      <td>None</td>\n",
       "      <td>closed</td>\n",
       "      <td>...</td>\n",
       "      <td>2019-08-08</td>\n",
       "      <td>[1161]</td>\n",
       "      <td>10.11646/zootaxa.4652.2.13</td>\n",
       "      <td>None</td>\n",
       "      <td>None</td>\n",
       "      <td>False</td>\n",
       "      <td>3363729</td>\n",
       "      <td>[{'name': 'Zhang, Yu-Long'}, {'name': 'Li, Xin...</td>\n",
       "      <td>{'subtype': 'article', 'type': 'publication'}</td>\n",
       "      <td>[{'scheme': 'url', 'relation': 'hasPart', 'ide...</td>\n",
       "    </tr>\n",
       "  </tbody>\n",
       "</table>\n",
       "<p>5 rows × 25 columns</p>\n",
       "</div>"
      ],
      "text/plain": [
       "                               alternate_identifiers imprint  \\\n",
       "0                                               None    None   \n",
       "1                                               None    None   \n",
       "2                                               None    None   \n",
       "3                                               None    None   \n",
       "4  [{'scheme': 'lsid', 'identifier': 'urn:lsid:pl...    None   \n",
       "\n",
       "                                          references thesis  \\\n",
       "0                                               None   None   \n",
       "1                                               None   None   \n",
       "2                                               None   None   \n",
       "3                                               None   None   \n",
       "4  [{'raw_reference': 'Bolivar, I. (1887) Essai s...   None   \n",
       "\n",
       "                                            keywords contributors  \\\n",
       "0                                               None         None   \n",
       "1  [Alignment, Ambiguous characters, InDel, Maxim...         None   \n",
       "2  [Biodiversity, Taxonomy, Animalia, Arthropoda,...         None   \n",
       "3  [Biodiversity, Taxonomy, Animalia, Arthropoda,...         None   \n",
       "4  [Biodiversity, Taxonomy, Animalia, Arthropoda,...         None   \n",
       "\n",
       "                                               title subjects  \\\n",
       "0                       The Geodynamic World Builder     None   \n",
       "1  Evidence of Absence Treated as Absence of Evid...     None   \n",
       "2  FIGURE 13 in Exploring species diversity and h...     None   \n",
       "3  FIGURE 3 in Two new species of Panaietis (Cope...     None   \n",
       "4  A new species of the genus Criotettix Bolivar ...     None   \n",
       "\n",
       "                                             meeting access_right  ...  \\\n",
       "0                                               None         open  ...   \n",
       "1  {'dates': 'October 5-8, 2016', 'place': 'Bueno...         open  ...   \n",
       "2                                               None         open  ...   \n",
       "3                                               None         open  ...   \n",
       "4                                               None       closed  ...   \n",
       "\n",
       "  publication_date   owners                         doi            license  \\\n",
       "0       2020-06-18  [79483]      10.5281/zenodo.3900603  LGPL-2.1-or-later   \n",
       "1       2019-08-08  [70030]      10.5281/zenodo.3363990          CC-BY-4.0   \n",
       "2       2019-08-07   [1161]      10.5281/zenodo.3363503       notspecified   \n",
       "3       2019-08-07   [1161]      10.5281/zenodo.3363619       notspecified   \n",
       "4       2019-08-08   [1161]  10.11646/zootaxa.4652.2.13               None   \n",
       "\n",
       "                                               notes   spam    recid  \\\n",
       "0                                               None  False  3900603   \n",
       "1  Funding was provided by the Fundação de Amparo...  False  3363990   \n",
       "2                                               None  False  3363503   \n",
       "3                                               None  False  3363619   \n",
       "4                                               None  False  3363729   \n",
       "\n",
       "                                            creators  \\\n",
       "0  [{'orcid': '0000-0003-0035-7723', 'affiliation...   \n",
       "1  [{'orcid': '0000-0001-9858-4515', 'affiliation...   \n",
       "2  [{'name': 'Kirichenko, Natalia'}, {'name': 'Tr...   \n",
       "3                       [{'name': 'Uyeno, Daisuke'}]   \n",
       "4  [{'name': 'Zhang, Yu-Long'}, {'name': 'Li, Xin...   \n",
       "\n",
       "                                   resource_type  \\\n",
       "0                           {'type': 'software'}   \n",
       "1  {'subtype': 'article', 'type': 'publication'}   \n",
       "2         {'subtype': 'figure', 'type': 'image'}   \n",
       "3         {'subtype': 'figure', 'type': 'image'}   \n",
       "4  {'subtype': 'article', 'type': 'publication'}   \n",
       "\n",
       "                                 related_identifiers  \n",
       "0  [{'scheme': 'url', 'relation': 'isSupplementTo...  \n",
       "1                                               None  \n",
       "2  [{'scheme': 'url', 'relation': 'isCitedBy', 'i...  \n",
       "3  [{'scheme': 'url', 'relation': 'isCitedBy', 'i...  \n",
       "4  [{'scheme': 'url', 'relation': 'hasPart', 'ide...  \n",
       "\n",
       "[5 rows x 25 columns]"
      ]
     },
     "execution_count": 4,
     "metadata": {},
     "output_type": "execute_result"
    }
   ],
   "source": [
    "# Check columns names and dimensions of the dataset\n",
    "columns = \", \".join([column for column in df.columns.values])\n",
    "print(f\"Column names: {columns}\\n\")\n",
    "print(f\"Dataset dimensions (rows, columns): {df.shape}\\n\")\n",
    "\n",
    "# Show a sample of the dataset\n",
    "df.head()"
   ]
  },
  {
   "cell_type": "code",
   "execution_count": 5,
   "metadata": {},
   "outputs": [
    {
     "data": {
      "text/plain": [
       "alternate_identifiers    object\n",
       "imprint                  object\n",
       "references               object\n",
       "thesis                   object\n",
       "keywords                 object\n",
       "contributors             object\n",
       "title                    object\n",
       "subjects                 object\n",
       "meeting                  object\n",
       "access_right             object\n",
       "files                    object\n",
       "part_of                  object\n",
       "description              object\n",
       "journal                  object\n",
       "communities              object\n",
       "publication_date         object\n",
       "owners                   object\n",
       "doi                      object\n",
       "license                  object\n",
       "notes                    object\n",
       "spam                       bool\n",
       "recid                     int64\n",
       "creators                 object\n",
       "resource_type            object\n",
       "related_identifiers      object\n",
       "dtype: object"
      ]
     },
     "execution_count": 5,
     "metadata": {},
     "output_type": "execute_result"
    }
   ],
   "source": [
    "# Check data type\n",
    "df.dtypes"
   ]
  },
  {
   "cell_type": "code",
   "execution_count": 6,
   "metadata": {},
   "outputs": [
    {
     "name": "stdout",
     "output_type": "stream",
     "text": [
      "False    1684521\n",
      "True       37784\n",
      "Name: spam, dtype: int64\n"
     ]
    },
    {
     "data": {
      "text/plain": [
       "<AxesSubplot:>"
      ]
     },
     "execution_count": 6,
     "metadata": {},
     "output_type": "execute_result"
    },
    {
     "data": {
      "image/png": "[encoded data removed]",
      "text/plain": [
       "<Figure size 864x864 with 1 Axes>"
      ]
     },
     "metadata": {
      "needs_background": "light"
     },
     "output_type": "display_data"
    }
   ],
   "source": [
    "spam_ham = df.spam.value_counts()\n",
    "print(spam_ham)\n",
    "spam_ham.plot(kind='bar', figsize=(12,12))"
   ]
  },
  {
   "cell_type": "code",
   "execution_count": 7,
   "metadata": {},
   "outputs": [],
   "source": [
    "def spam_ham_df(shdf):\n",
    "    return shdf[shdf['spam']==True], shdf[shdf['spam']==False]"
   ]
  },
  {
   "cell_type": "code",
   "execution_count": 8,
   "metadata": {},
   "outputs": [
    {
     "name": "stdout",
     "output_type": "stream",
     "text": [
      "[Spam] Column alternate_identifiers: 99.97\n",
      "[Ham] Column alternate_identifiers: 79.51\n",
      " ----- \n",
      "[Spam] Column imprint: 98.98\n",
      "[Ham] Column imprint: 81.8\n",
      " ----- \n",
      "[Spam] Column references: 99.14\n",
      "[Ham] Column references: 92.97999999999999\n",
      " ----- \n",
      "[Spam] Column thesis: 99.88\n",
      "[Ham] Column thesis: 99.7\n",
      " ----- \n",
      "[Spam] Column keywords: 49.1\n",
      "[Ham] Column keywords: 43.81\n",
      " ----- \n",
      "[Spam] Column contributors: 98.83999999999999\n",
      "[Ham] Column contributors: 98.36\n",
      " ----- \n",
      "[Spam] Column title: 0.0\n",
      "[Ham] Column title: 0.0\n",
      " ----- \n",
      "[Spam] Column subjects: 99.00999999999999\n",
      "[Ham] Column subjects: 99.06\n",
      " ----- \n",
      "[Spam] Column meeting: 98.50999999999999\n",
      "[Ham] Column meeting: 96.76\n",
      " ----- \n",
      "[Spam] Column access_right: 0.0\n",
      "[Ham] Column access_right: 0.0\n",
      " ----- \n",
      "[Spam] Column files: 0.0\n",
      "[Ham] Column files: 0.0\n",
      " ----- \n",
      "[Spam] Column part_of: 98.99\n",
      "[Ham] Column part_of: 98.91\n",
      " ----- \n",
      "[Spam] Column description: 0.0\n",
      "[Ham] Column description: 0.0\n",
      " ----- \n",
      "[Spam] Column journal: 97.58\n",
      "[Ham] Column journal: 76.99000000000001\n",
      " ----- \n",
      "[Spam] Column communities: 98.2\n",
      "[Ham] Column communities: 52.53\n",
      " ----- \n",
      "[Spam] Column publication_date: 0.0\n",
      "[Ham] Column publication_date: 0.0\n",
      " ----- \n",
      "[Spam] Column owners: 0.0\n",
      "[Ham] Column owners: 0.0\n",
      " ----- \n",
      "[Spam] Column doi: 0.0\n",
      "[Ham] Column doi: 0.02\n",
      " ----- \n",
      "[Spam] Column license: 1.21\n",
      "[Ham] Column license: 2.23\n",
      " ----- \n",
      "[Spam] Column notes: 79.83\n",
      "[Ham] Column notes: 93.10000000000001\n",
      " ----- \n",
      "[Spam] Column spam: 0.0\n",
      "[Ham] Column spam: 0.0\n",
      " ----- \n",
      "[Spam] Column recid: 0.0\n",
      "[Ham] Column recid: 0.0\n",
      " ----- \n",
      "[Spam] Column creators: 0.0\n",
      "[Ham] Column creators: 0.0\n",
      " ----- \n",
      "[Spam] Column resource_type: 0.0\n",
      "[Ham] Column resource_type: 0.0\n",
      " ----- \n",
      "[Spam] Column related_identifiers: 96.26\n",
      "[Ham] Column related_identifiers: 71.39\n",
      " ----- \n"
     ]
    }
   ],
   "source": [
    "spam_df, ham_df = spam_ham_df(df)\n",
    "\n",
    "# Check missing values by class\n",
    "for column in df.columns.values:\n",
    "    print(f\"[Spam] Column {column}: {spam_df[column].isnull().mean().round(4) * 100}\")\n",
    "    print(f\"[Ham] Column {column}: {ham_df[column].isnull().mean().round(4) * 100}\")\n",
    "    print(\" ----- \")\n"
   ]
  },
  {
   "cell_type": "markdown",
   "metadata": {},
   "source": [
    "It can be observed that `alternate_identifiers`, `imprint`, `references`, `thesis`, `contributors`, `subjects`, `meeting`, `part_of`, `journal`, `notes`, and `related_identifiers` will not be useful since there is a significant amount of data missing for both classes. In addition, `publication_date` is not useful since it can be chosen at random or simply follow chronologically(i.e. choose the current day), neither is `owners` since it is not possible to enrich the current dataset with user data. Since Zenodo mints DOIs, this value is not useful either, only a small minority of ham data will have an externally managed DOI."
   ]
  },
  {
   "cell_type": "code",
   "execution_count": 9,
   "metadata": {},
   "outputs": [
    {
     "data": {
      "text/html": [
       "<div>\n",
       "<style scoped>\n",
       "    .dataframe tbody tr th:only-of-type {\n",
       "        vertical-align: middle;\n",
       "    }\n",
       "\n",
       "    .dataframe tbody tr th {\n",
       "        vertical-align: top;\n",
       "    }\n",
       "\n",
       "    .dataframe thead th {\n",
       "        text-align: right;\n",
       "    }\n",
       "</style>\n",
       "<table border=\"1\" class=\"dataframe\">\n",
       "  <thead>\n",
       "    <tr style=\"text-align: right;\">\n",
       "      <th></th>\n",
       "      <th>keywords</th>\n",
       "      <th>title</th>\n",
       "      <th>access_right</th>\n",
       "      <th>files</th>\n",
       "      <th>description</th>\n",
       "      <th>communities</th>\n",
       "      <th>license</th>\n",
       "      <th>spam</th>\n",
       "      <th>recid</th>\n",
       "      <th>creators</th>\n",
       "      <th>resource_type</th>\n",
       "    </tr>\n",
       "  </thead>\n",
       "  <tbody>\n",
       "    <tr>\n",
       "      <th>0</th>\n",
       "      <td>None</td>\n",
       "      <td>The Geodynamic World Builder</td>\n",
       "      <td>open</td>\n",
       "      <td>[{'filetype': 'pdf', 'size': 808178, 'filename...</td>\n",
       "      <td>&lt;p&gt;The Geodynamic World Builder (GWB) is an op...</td>\n",
       "      <td>[geodynamics]</td>\n",
       "      <td>LGPL-2.1-or-later</td>\n",
       "      <td>False</td>\n",
       "      <td>3900603</td>\n",
       "      <td>[{'orcid': '0000-0003-0035-7723', 'affiliation...</td>\n",
       "      <td>{'type': 'software'}</td>\n",
       "    </tr>\n",
       "    <tr>\n",
       "      <th>1</th>\n",
       "      <td>[Alignment, Ambiguous characters, InDel, Maxim...</td>\n",
       "      <td>Evidence of Absence Treated as Absence of Evid...</td>\n",
       "      <td>open</td>\n",
       "      <td>[{'filetype': 'fasta', 'size': 32888, 'filenam...</td>\n",
       "      <td>&lt;p&gt;Enclosed are the figures, tables, and suppl...</td>\n",
       "      <td>None</td>\n",
       "      <td>CC-BY-4.0</td>\n",
       "      <td>False</td>\n",
       "      <td>3363990</td>\n",
       "      <td>[{'orcid': '0000-0001-9858-4515', 'affiliation...</td>\n",
       "      <td>{'subtype': 'article', 'type': 'publication'}</td>\n",
       "    </tr>\n",
       "    <tr>\n",
       "      <th>2</th>\n",
       "      <td>[Biodiversity, Taxonomy, Animalia, Arthropoda,...</td>\n",
       "      <td>FIGURE 13 in Exploring species diversity and h...</td>\n",
       "      <td>open</td>\n",
       "      <td>[{'filetype': 'png', 'size': 7640839, 'filenam...</td>\n",
       "      <td>FIGURE 13. Mines of Phyllonorycter spp. from t...</td>\n",
       "      <td>[biosyslit]</td>\n",
       "      <td>notspecified</td>\n",
       "      <td>False</td>\n",
       "      <td>3363503</td>\n",
       "      <td>[{'name': 'Kirichenko, Natalia'}, {'name': 'Tr...</td>\n",
       "      <td>{'subtype': 'figure', 'type': 'image'}</td>\n",
       "    </tr>\n",
       "    <tr>\n",
       "      <th>3</th>\n",
       "      <td>[Biodiversity, Taxonomy, Animalia, Arthropoda,...</td>\n",
       "      <td>FIGURE 3 in Two new species of Panaietis (Cope...</td>\n",
       "      <td>open</td>\n",
       "      <td>[{'filetype': 'png', 'size': 299892, 'filename...</td>\n",
       "      <td>FIGURE 3. Panaietis bobocephala sp. nov., adul...</td>\n",
       "      <td>[biosyslit]</td>\n",
       "      <td>notspecified</td>\n",
       "      <td>False</td>\n",
       "      <td>3363619</td>\n",
       "      <td>[{'name': 'Uyeno, Daisuke'}]</td>\n",
       "      <td>{'subtype': 'figure', 'type': 'image'}</td>\n",
       "    </tr>\n",
       "    <tr>\n",
       "      <th>4</th>\n",
       "      <td>[Biodiversity, Taxonomy, Animalia, Arthropoda,...</td>\n",
       "      <td>A new species of the genus Criotettix Bolivar ...</td>\n",
       "      <td>closed</td>\n",
       "      <td>[]</td>\n",
       "      <td>Zhang, Yu-Long, Li, Xin-Jiang, Zhi, Yong-Chao ...</td>\n",
       "      <td>[biosyslit]</td>\n",
       "      <td>None</td>\n",
       "      <td>False</td>\n",
       "      <td>3363729</td>\n",
       "      <td>[{'name': 'Zhang, Yu-Long'}, {'name': 'Li, Xin...</td>\n",
       "      <td>{'subtype': 'article', 'type': 'publication'}</td>\n",
       "    </tr>\n",
       "  </tbody>\n",
       "</table>\n",
       "</div>"
      ],
      "text/plain": [
       "                                            keywords  \\\n",
       "0                                               None   \n",
       "1  [Alignment, Ambiguous characters, InDel, Maxim...   \n",
       "2  [Biodiversity, Taxonomy, Animalia, Arthropoda,...   \n",
       "3  [Biodiversity, Taxonomy, Animalia, Arthropoda,...   \n",
       "4  [Biodiversity, Taxonomy, Animalia, Arthropoda,...   \n",
       "\n",
       "                                               title access_right  \\\n",
       "0                       The Geodynamic World Builder         open   \n",
       "1  Evidence of Absence Treated as Absence of Evid...         open   \n",
       "2  FIGURE 13 in Exploring species diversity and h...         open   \n",
       "3  FIGURE 3 in Two new species of Panaietis (Cope...         open   \n",
       "4  A new species of the genus Criotettix Bolivar ...       closed   \n",
       "\n",
       "                                               files  \\\n",
       "0  [{'filetype': 'pdf', 'size': 808178, 'filename...   \n",
       "1  [{'filetype': 'fasta', 'size': 32888, 'filenam...   \n",
       "2  [{'filetype': 'png', 'size': 7640839, 'filenam...   \n",
       "3  [{'filetype': 'png', 'size': 299892, 'filename...   \n",
       "4                                                 []   \n",
       "\n",
       "                                         description    communities  \\\n",
       "0  <p>The Geodynamic World Builder (GWB) is an op...  [geodynamics]   \n",
       "1  <p>Enclosed are the figures, tables, and suppl...           None   \n",
       "2  FIGURE 13. Mines of Phyllonorycter spp. from t...    [biosyslit]   \n",
       "3  FIGURE 3. Panaietis bobocephala sp. nov., adul...    [biosyslit]   \n",
       "4  Zhang, Yu-Long, Li, Xin-Jiang, Zhi, Yong-Chao ...    [biosyslit]   \n",
       "\n",
       "             license   spam    recid  \\\n",
       "0  LGPL-2.1-or-later  False  3900603   \n",
       "1          CC-BY-4.0  False  3363990   \n",
       "2       notspecified  False  3363503   \n",
       "3       notspecified  False  3363619   \n",
       "4               None  False  3363729   \n",
       "\n",
       "                                            creators  \\\n",
       "0  [{'orcid': '0000-0003-0035-7723', 'affiliation...   \n",
       "1  [{'orcid': '0000-0001-9858-4515', 'affiliation...   \n",
       "2  [{'name': 'Kirichenko, Natalia'}, {'name': 'Tr...   \n",
       "3                       [{'name': 'Uyeno, Daisuke'}]   \n",
       "4  [{'name': 'Zhang, Yu-Long'}, {'name': 'Li, Xin...   \n",
       "\n",
       "                                   resource_type  \n",
       "0                           {'type': 'software'}  \n",
       "1  {'subtype': 'article', 'type': 'publication'}  \n",
       "2         {'subtype': 'figure', 'type': 'image'}  \n",
       "3         {'subtype': 'figure', 'type': 'image'}  \n",
       "4  {'subtype': 'article', 'type': 'publication'}  "
      ]
     },
     "execution_count": 9,
     "metadata": {},
     "output_type": "execute_result"
    }
   ],
   "source": [
    "# Chained operation because we do not drop `inplace`\n",
    "\n",
    "to_drop = [\n",
    "    \"alternate_identifiers\", \"imprint\", \"references\", \"thesis\", \"contributors\", \n",
    "    \"subjects\", \"meeting\", \"part_of\", \"journal\", \"notes\", \"related_identifiers\",\n",
    "    \"publication_date\", \"owners\", \"doi\"\n",
    "]\n",
    "clean_df = df\n",
    "for column in to_drop:\n",
    "    clean_df = clean_df.drop(column, axis='columns')\n",
    "clean_df.head()"
   ]
  },
  {
   "cell_type": "markdown",
   "metadata": {},
   "source": [
    "# Feature Extraction and descriptive analysis"
   ]
  },
  {
   "cell_type": "code",
   "execution_count": 10,
   "metadata": {},
   "outputs": [],
   "source": [
    "def process_list(list_values, column_name):\n",
    "    if not list_values:\n",
    "        return 0\n",
    "    elif isinstance(list_values, list):\n",
    "        return len(list_values)\n",
    "    else:\n",
    "        raise Exception(f\"column_name is not a list nor None: {list_values}\")"
   ]
  },
  {
   "cell_type": "markdown",
   "metadata": {},
   "source": [
    "## Keywords"
   ]
  },
  {
   "cell_type": "code",
   "execution_count": 11,
   "metadata": {},
   "outputs": [
    {
     "data": {
      "text/plain": [
       "0      792822\n",
       "5      315894\n",
       "8      168923\n",
       "1      120781\n",
       "4       53233\n",
       "        ...  \n",
       "94          1\n",
       "110         1\n",
       "96          1\n",
       "107         1\n",
       "269         1\n",
       "Name: num_keywords, Length: 124, dtype: int64"
      ]
     },
     "execution_count": 11,
     "metadata": {},
     "output_type": "execute_result"
    }
   ],
   "source": [
    "clean_df['num_keywords'] = clean_df.apply(lambda x: process_list(x['keywords'], 'keywords'), axis=1)\n",
    "clean_df.num_keywords.value_counts()"
   ]
  },
  {
   "cell_type": "code",
   "execution_count": 12,
   "metadata": {},
   "outputs": [
    {
     "data": {
      "text/plain": [
       "<seaborn.axisgrid.FacetGrid at 0x12e93add0>"
      ]
     },
     "execution_count": 12,
     "metadata": {},
     "output_type": "execute_result"
    },
    {
     "data": {
      "image/png": "[encoded data removed]",
      "text/plain": [
       "<Figure size 360x360 with 1 Axes>"
      ]
     },
     "metadata": {
      "needs_background": "light"
     },
     "output_type": "display_data"
    }
   ],
   "source": [
    "ky_spam_df, ky_ham_df = spam_ham_df(clean_df)\n",
    "ky_hist_ham = ky_spam_df[ky_spam_df[\"num_keywords\"] > 10]\n",
    "sns.displot(ky_hist_ham, x=\"num_keywords\", label=\"ham\")"
   ]
  },
  {
   "cell_type": "code",
   "execution_count": 13,
   "metadata": {},
   "outputs": [
    {
     "data": {
      "text/plain": [
       "<seaborn.axisgrid.FacetGrid at 0x12f876c90>"
      ]
     },
     "execution_count": 13,
     "metadata": {},
     "output_type": "execute_result"
    },
    {
     "data": {
      "image/png": "[encoded data removed]",
      "text/plain": [
       "<Figure size 360x360 with 1 Axes>"
      ]
     },
     "metadata": {
      "needs_background": "light"
     },
     "output_type": "display_data"
    }
   ],
   "source": [
    "ky_hist_spam = ky_ham_df[ky_ham_df[\"num_keywords\"] > 10]\n",
    "sns.displot(ky_hist_spam, x=\"num_keywords\", label=\"spam\")"
   ]
  },
  {
   "cell_type": "code",
   "execution_count": 14,
   "metadata": {},
   "outputs": [
    {
     "data": {
      "text/plain": [
       "0     792822\n",
       "1     120781\n",
       "2      48590\n",
       "3      33854\n",
       "4      53233\n",
       "5     315894\n",
       "6      26357\n",
       "7      43354\n",
       "8     168923\n",
       "9      42651\n",
       "10     75846\n",
       "Name: num_keywords, dtype: int64"
      ]
     },
     "execution_count": 14,
     "metadata": {},
     "output_type": "execute_result"
    }
   ],
   "source": [
    "clean_df.loc[clean_df.num_keywords >= 10, \"num_keywords\"] = 10\n",
    "clean_df.num_keywords.value_counts().sort_index()"
   ]
  },
  {
   "cell_type": "code",
   "execution_count": 15,
   "metadata": {},
   "outputs": [
    {
     "data": {
      "text/plain": [
       "<seaborn.axisgrid.FacetGrid at 0x12fe85490>"
      ]
     },
     "execution_count": 15,
     "metadata": {},
     "output_type": "execute_result"
    },
    {
     "data": {
      "image/png": "[encoded data removed]",
      "text/plain": [
       "<Figure size 421.25x360 with 1 Axes>"
      ]
     },
     "metadata": {
      "needs_background": "light"
     },
     "output_type": "display_data"
    }
   ],
   "source": [
    "sns.displot(clean_df, x=\"num_keywords\", hue_norm=(0,1), hue=\"spam\")"
   ]
  },
  {
   "cell_type": "code",
   "execution_count": 16,
   "metadata": {},
   "outputs": [],
   "source": [
    "# Using estimator from searborn e.g. `sns.barplot(data=df, x=\"num_keywords\", y=\"spam\", estimator=sum)`\n",
    "# is too slow, therefore new df are created for plotting purposes"
   ]
  },
  {
   "cell_type": "markdown",
   "metadata": {},
   "source": [
    "**Important note**: Since the dataset is highly imbalanced towards the ham class, it maked difficult to see graphically the comparason between classed. Therefore, we set `normalize=True` in order to get percentages per class."
   ]
  },
  {
   "cell_type": "code",
   "execution_count": 17,
   "metadata": {},
   "outputs": [],
   "source": [
    "sns.set(rc={'figure.figsize':(11.7,8.27)})\n",
    "\n",
    "def barplot_by_spam(plot_df, feature, rotate_labels=False):\n",
    "    plt_spam_df, plt_ham_df = spam_ham_df(plot_df)\n",
    "        \n",
    "    plt_data = {\n",
    "        'feature': [\n",
    "            *plt_spam_df[feature].value_counts().sort_index().keys().array,\n",
    "            *plt_ham_df[feature].value_counts().sort_index().keys().array\n",
    "        ],\n",
    "        'spam': [\n",
    "            *[True for spam in range(len(plt_spam_df[feature].value_counts().sort_index().keys()))],\n",
    "            *[False for spam in range(len(plt_ham_df[feature].value_counts().sort_index().keys()))],\n",
    "        ],\n",
    "        'total': [\n",
    "            *plt_spam_df[feature].value_counts(normalize=True).sort_index().array,\n",
    "            *plt_ham_df[feature].value_counts(normalize=True).sort_index().array\n",
    "        ]\n",
    "    }\n",
    "\n",
    "    total_df = pd.DataFrame(data=plt_data)\n",
    "    barplt = sns.barplot(x=\"feature\", y=\"total\", hue=\"spam\", data=total_df)\n",
    "    if rotate_labels:\n",
    "        barplt.set_xticklabels(barplt.get_xticklabels(), rotation=90)"
   ]
  },
  {
   "cell_type": "code",
   "execution_count": 18,
   "metadata": {},
   "outputs": [
    {
     "data": {
      "image/png": "[encoded data removed]",
      "text/plain": [
       "<Figure size 842.4x595.44 with 1 Axes>"
      ]
     },
     "metadata": {},
     "output_type": "display_data"
    }
   ],
   "source": [
    "barplot_by_spam(clean_df, 'num_keywords')"
   ]
  },
  {
   "cell_type": "markdown",
   "metadata": {},
   "source": [
    "## Access right"
   ]
  },
  {
   "cell_type": "code",
   "execution_count": 19,
   "metadata": {},
   "outputs": [
    {
     "data": {
      "image/png": "[encoded data removed]",
      "text/plain": [
       "<Figure size 842.4x595.44 with 1 Axes>"
      ]
     },
     "metadata": {},
     "output_type": "display_data"
    }
   ],
   "source": [
    "barplot_by_spam(clean_df, 'access_right')"
   ]
  },
  {
   "cell_type": "markdown",
   "metadata": {},
   "source": [
    "## Files"
   ]
  },
  {
   "cell_type": "code",
   "execution_count": 20,
   "metadata": {},
   "outputs": [
    {
     "data": {
      "text/plain": [
       "0          38672\n",
       "1        1603692\n",
       "2          25113\n",
       "3          21956\n",
       "4           3861\n",
       "          ...   \n",
       "7063           1\n",
       "8076           1\n",
       "8100           1\n",
       "9416           1\n",
       "14402          1\n",
       "Name: num_files, Length: 604, dtype: int64"
      ]
     },
     "execution_count": 20,
     "metadata": {},
     "output_type": "execute_result"
    }
   ],
   "source": [
    "clean_df['num_files'] = df.apply(lambda x: process_list(x['files'], 'files'), axis=1)\n",
    "clean_df.num_files.value_counts().sort_index()"
   ]
  },
  {
   "cell_type": "code",
   "execution_count": 21,
   "metadata": {},
   "outputs": [
    {
     "data": {
      "text/plain": [
       "0      38672\n",
       "1    1603692\n",
       "2      25113\n",
       "3      21956\n",
       "4      13626\n",
       "5       9161\n",
       "6       7977\n",
       "7       2108\n",
       "Name: num_files, dtype: int64"
      ]
     },
     "execution_count": 21,
     "metadata": {},
     "output_type": "execute_result"
    }
   ],
   "source": [
    "clean_df.loc[(clean_df.num_files < 10) & (clean_df.num_files >= 4), \"num_files\"] = 4\n",
    "clean_df.loc[(clean_df.num_files < 30) & (clean_df.num_files >= 10), \"num_files\"] = 5\n",
    "clean_df.loc[(clean_df.num_files < 50) & (clean_df.num_files >= 30), \"num_files\"] = 6\n",
    "clean_df.loc[clean_df.num_files >= 50, \"num_files\"] = 7\n",
    "clean_df.num_files.value_counts().sort_index()"
   ]
  },
  {
   "cell_type": "code",
   "execution_count": 22,
   "metadata": {},
   "outputs": [
    {
     "data": {
      "image/png": "[encoded data removed]",
      "text/plain": [
       "<Figure size 842.4x595.44 with 1 Axes>"
      ]
     },
     "metadata": {},
     "output_type": "display_data"
    }
   ],
   "source": [
    "barplot_by_spam(clean_df, 'num_files')"
   ]
  },
  {
   "cell_type": "code",
   "execution_count": 23,
   "metadata": {},
   "outputs": [],
   "source": [
    "image_formats = ['jpg', 'jpeg', 'png', 'bmp', 'gif', 'tiff', 'exif', 'ppm', 'pgm', 'pbm', 'pnm', 'webp', 'svg']\n",
    "\n",
    "def has_image(files):\n",
    "    for file in files:\n",
    "        if file['filetype'] in image_formats:\n",
    "            return True\n",
    "    return False"
   ]
  },
  {
   "cell_type": "code",
   "execution_count": 24,
   "metadata": {},
   "outputs": [
    {
     "data": {
      "text/plain": [
       "False    1141591\n",
       "True      580714\n",
       "Name: has_image, dtype: int64"
      ]
     },
     "execution_count": 24,
     "metadata": {},
     "output_type": "execute_result"
    }
   ],
   "source": [
    "clean_df['has_image'] = df.apply(lambda x: has_image(x['files']), axis=1)\n",
    "clean_df.has_image.value_counts()"
   ]
  },
  {
   "cell_type": "code",
   "execution_count": 25,
   "metadata": {},
   "outputs": [
    {
     "data": {
      "image/png": "[encoded data removed]",
      "text/plain": [
       "<Figure size 842.4x595.44 with 1 Axes>"
      ]
     },
     "metadata": {},
     "output_type": "display_data"
    }
   ],
   "source": [
    "barplot_by_spam(clean_df, 'has_image')"
   ]
  },
  {
   "cell_type": "markdown",
   "metadata": {},
   "source": [
    "## Communities"
   ]
  },
  {
   "cell_type": "code",
   "execution_count": 26,
   "metadata": {},
   "outputs": [
    {
     "data": {
      "text/plain": [
       "0    922174\n",
       "1    776287\n",
       "2     18203\n",
       "3      4544\n",
       "4       663\n",
       "7       393\n",
       "5        28\n",
       "6        12\n",
       "8         1\n",
       "Name: num_communities, dtype: int64"
      ]
     },
     "execution_count": 26,
     "metadata": {},
     "output_type": "execute_result"
    }
   ],
   "source": [
    "clean_df['num_communities'] = df.apply(lambda x: process_list(x['communities'], 'communities'), axis=1)\n",
    "clean_df.num_communities.value_counts()"
   ]
  },
  {
   "cell_type": "code",
   "execution_count": 27,
   "metadata": {},
   "outputs": [
    {
     "data": {
      "image/png": "[encoded data removed]",
      "text/plain": [
       "<Figure size 842.4x595.44 with 1 Axes>"
      ]
     },
     "metadata": {},
     "output_type": "display_data"
    }
   ],
   "source": [
    "barplot_by_spam(clean_df, 'num_communities')"
   ]
  },
  {
   "cell_type": "markdown",
   "metadata": {},
   "source": [
    "## Creators"
   ]
  },
  {
   "cell_type": "code",
   "execution_count": 28,
   "metadata": {},
   "outputs": [],
   "source": [
    "def has_orcid(creators):\n",
    "    for creator in creators:\n",
    "        if creator.get('affiliation'):\n",
    "            return True\n",
    "    return False\n",
    "\n",
    "def has_affiliation(creators):\n",
    "    for creator in creators:\n",
    "        if creator.get('orcid'):\n",
    "            return True\n",
    "    return False"
   ]
  },
  {
   "cell_type": "code",
   "execution_count": 29,
   "metadata": {},
   "outputs": [
    {
     "data": {
      "text/plain": [
       "1      1072290\n",
       "2       251970\n",
       "3       158710\n",
       "4        87078\n",
       "5        48342\n",
       "        ...   \n",
       "132          1\n",
       "133          1\n",
       "139          1\n",
       "143          1\n",
       "436          1\n",
       "Name: num_creators, Length: 142, dtype: int64"
      ]
     },
     "execution_count": 29,
     "metadata": {},
     "output_type": "execute_result"
    }
   ],
   "source": [
    "clean_df['num_creators'] = df.apply(lambda x: process_list(x['creators'], 'creators'), axis=1)\n",
    "clean_df.num_creators.value_counts()"
   ]
  },
  {
   "cell_type": "code",
   "execution_count": 30,
   "metadata": {},
   "outputs": [
    {
     "data": {
      "text/plain": [
       "<seaborn.axisgrid.FacetGrid at 0x1303ae310>"
      ]
     },
     "execution_count": 30,
     "metadata": {},
     "output_type": "execute_result"
    },
    {
     "data": {
      "image/png": "[encoded data removed]",
      "text/plain": [
       "<Figure size 360x360 with 1 Axes>"
      ]
     },
     "metadata": {},
     "output_type": "display_data"
    },
    {
     "data": {
      "image/png": "[encoded data removed]",
      "text/plain": [
       "<Figure size 360x360 with 1 Axes>"
      ]
     },
     "metadata": {},
     "output_type": "display_data"
    }
   ],
   "source": [
    "ncr_spam_df, ncr_ham_df = spam_ham_df(clean_df)\n",
    "sns.displot(ncr_spam_df[ncr_spam_df[\"num_creators\"] > 5], x=\"num_creators\")\n",
    "sns.displot(ncr_ham_df[ncr_ham_df[\"num_creators\"] > 10], x=\"num_creators\")"
   ]
  },
  {
   "cell_type": "code",
   "execution_count": 31,
   "metadata": {},
   "outputs": [
    {
     "data": {
      "text/plain": [
       "1    1072290\n",
       "2     251970\n",
       "3     158710\n",
       "4      87078\n",
       "5      48342\n",
       "6      43236\n",
       "7      23772\n",
       "8      36907\n",
       "Name: num_creators, dtype: int64"
      ]
     },
     "execution_count": 31,
     "metadata": {},
     "output_type": "execute_result"
    }
   ],
   "source": [
    "clean_df.loc[(clean_df[\"num_creators\"] > 5) & (clean_df[\"num_creators\"] <= 7), \"num_creators\"] = 6\n",
    "clean_df.loc[(clean_df[\"num_creators\"] > 7) & (clean_df[\"num_creators\"] <= 10), \"num_creators\"] = 7\n",
    "clean_df.loc[clean_df.num_creators > 10, \"num_creators\"] = 8\n",
    "clean_df.num_creators.value_counts().sort_index()"
   ]
  },
  {
   "cell_type": "code",
   "execution_count": 32,
   "metadata": {},
   "outputs": [
    {
     "data": {
      "image/png": "[encoded data removed]",
      "text/plain": [
       "<Figure size 842.4x595.44 with 1 Axes>"
      ]
     },
     "metadata": {},
     "output_type": "display_data"
    }
   ],
   "source": [
    "barplot_by_spam(clean_df, 'num_creators')"
   ]
  },
  {
   "cell_type": "code",
   "execution_count": 33,
   "metadata": {},
   "outputs": [
    {
     "data": {
      "image/png": "[encoded data removed]",
      "text/plain": [
       "<Figure size 842.4x595.44 with 1 Axes>"
      ]
     },
     "metadata": {},
     "output_type": "display_data"
    }
   ],
   "source": [
    "clean_df['creator_has_orcid'] = df.apply(lambda x: has_orcid(x['creators']), axis=1)\n",
    "barplot_by_spam(clean_df, 'creator_has_orcid')"
   ]
  },
  {
   "cell_type": "code",
   "execution_count": 34,
   "metadata": {},
   "outputs": [
    {
     "data": {
      "image/png": "[encoded data removed]",
      "text/plain": [
       "<Figure size 842.4x595.44 with 1 Axes>"
      ]
     },
     "metadata": {},
     "output_type": "display_data"
    }
   ],
   "source": [
    "clean_df['creator_has_affiliation'] = df.apply(lambda x: has_affiliation(x['creators']), axis=1)\n",
    "barplot_by_spam(clean_df, 'creator_has_affiliation')"
   ]
  },
  {
   "cell_type": "markdown",
   "metadata": {},
   "source": [
    "## Resource type"
   ]
  },
  {
   "cell_type": "code",
   "execution_count": 35,
   "metadata": {},
   "outputs": [],
   "source": [
    "def resource_type(resource_type):\n",
    "    return resource_type.get('type')\n",
    "\n",
    "def resource_type_full(resource_type):\n",
    "    return f\"{resource_type.get('type')}-{resource_type.get('subtype')}\""
   ]
  },
  {
   "cell_type": "code",
   "execution_count": 36,
   "metadata": {},
   "outputs": [
    {
     "data": {
      "text/plain": [
       "publication     948770\n",
       "image           556016\n",
       "software        101787\n",
       "dataset          78165\n",
       "presentation     18835\n",
       "poster            6942\n",
       "other             6546\n",
       "video             2785\n",
       "lesson            2459\n",
       "Name: type, dtype: int64"
      ]
     },
     "execution_count": 36,
     "metadata": {},
     "output_type": "execute_result"
    }
   ],
   "source": [
    "clean_df['type'] = df.apply(lambda x: resource_type(x['resource_type']), axis=1)\n",
    "clean_df.type.value_counts()"
   ]
  },
  {
   "cell_type": "code",
   "execution_count": 37,
   "metadata": {},
   "outputs": [
    {
     "data": {
      "image/png": "[encoded data removed]",
      "text/plain": [
       "<Figure size 842.4x595.44 with 1 Axes>"
      ]
     },
     "metadata": {},
     "output_type": "display_data"
    }
   ],
   "source": [
    "barplot_by_spam(clean_df, 'type')"
   ]
  },
  {
   "cell_type": "code",
   "execution_count": 38,
   "metadata": {},
   "outputs": [
    {
     "data": {
      "text/plain": [
       "publication-article                  809083\n",
       "image-photo                          279335\n",
       "image-figure                         271469\n",
       "software-None                        101787\n",
       "dataset-None                          78165\n",
       "publication-conferencepaper           44659\n",
       "publication-taxonomictreatment        39544\n",
       "presentation-None                     18835\n",
       "publication-other                     12146\n",
       "publication-report                     8870\n",
       "publication-book                       8518\n",
       "publication-section                    7057\n",
       "poster-None                            6942\n",
       "other-None                             6546\n",
       "publication-deliverable                5187\n",
       "image-drawing                          4240\n",
       "publication-thesis                     4027\n",
       "publication-preprint                   3679\n",
       "publication-workingpaper               3383\n",
       "video-None                             2785\n",
       "lesson-None                            2459\n",
       "publication-technicalnote              1217\n",
       "image-other                             740\n",
       "publication-proposal                    441\n",
       "publication-softwaredocumentation       410\n",
       "publication-milestone                   198\n",
       "publication-patent                      184\n",
       "image-diagram                           118\n",
       "image-plot                              114\n",
       "publication-annotationcollection         84\n",
       "publication-datamanagementplan           83\n",
       "Name: type_full, dtype: int64"
      ]
     },
     "execution_count": 38,
     "metadata": {},
     "output_type": "execute_result"
    }
   ],
   "source": [
    "clean_df['type_full'] = df.apply(lambda x: resource_type_full(x['resource_type']), axis=1)\n",
    "clean_df.type_full.value_counts()"
   ]
  },
  {
   "cell_type": "code",
   "execution_count": 39,
   "metadata": {},
   "outputs": [
    {
     "data": {
      "image/png": "[encoded data removed]",
      "text/plain": [
       "<Figure size 842.4x595.44 with 1 Axes>"
      ]
     },
     "metadata": {},
     "output_type": "display_data"
    }
   ],
   "source": [
    "barplot_by_spam(clean_df, 'type_full', True)"
   ]
  },
  {
   "cell_type": "markdown",
   "metadata": {},
   "source": [
    "## License"
   ]
  },
  {
   "cell_type": "code",
   "execution_count": 40,
   "metadata": {},
   "outputs": [
    {
     "data": {
      "text/plain": [
       "cc-zero             524472\n",
       "CC-BY-4.0           406652\n",
       "CC-BY-SA-4.0        276119\n",
       "notspecified        201620\n",
       "cc-by               108138\n",
       "                     ...  \n",
       "Apache-1.0               1\n",
       "canada-crown             1\n",
       "CDLA-Sharing-1.0         1\n",
       "CATOSL-1.1               1\n",
       "AFL-2.0                  1\n",
       "Name: license, Length: 205, dtype: int64"
      ]
     },
     "execution_count": 40,
     "metadata": {},
     "output_type": "execute_result"
    }
   ],
   "source": [
    "clean_df.license.value_counts()"
   ]
  },
  {
   "cell_type": "code",
   "execution_count": 41,
   "metadata": {},
   "outputs": [],
   "source": [
    "top_licenses = [\"notspecified\", \"cc-zero\", \"CC-BY-4.0\", \"CC-BY-SA-4.0\", \"cc-by\"]\n",
    "def has_license(license):\n",
    "    if not license:\n",
    "        return \"no-license\"\n",
    "    else:\n",
    "        for top_license in top_licenses:\n",
    "            if license == top_license:\n",
    "                return license\n",
    "        return \"other\""
   ]
  },
  {
   "cell_type": "code",
   "execution_count": 42,
   "metadata": {},
   "outputs": [],
   "source": [
    "clean_df['has_license'] = df.apply(lambda x: has_license(x['license']), axis=1)"
   ]
  },
  {
   "cell_type": "code",
   "execution_count": 43,
   "metadata": {},
   "outputs": [
    {
     "data": {
      "image/png": "[encoded data removed]",
      "text/plain": [
       "<Figure size 842.4x595.44 with 1 Axes>"
      ]
     },
     "metadata": {},
     "output_type": "display_data"
    }
   ],
   "source": [
    "barplot_by_spam(clean_df, 'has_license')"
   ]
  },
  {
   "cell_type": "markdown",
   "metadata": {},
   "source": [
    "## Title and description"
   ]
  },
  {
   "cell_type": "code",
   "execution_count": 44,
   "metadata": {},
   "outputs": [],
   "source": [
    "from io import StringIO\n",
    "from html.parser import HTMLParser\n",
    "\n",
    "class MLStripper(HTMLParser):\n",
    "    def __init__(self):\n",
    "        super().__init__()\n",
    "        self.reset()\n",
    "        self.strict = False\n",
    "        self.convert_charrefs= True\n",
    "        self.text = StringIO()\n",
    "    def handle_data(self, d):\n",
    "        self.text.write(d)\n",
    "    def get_data(self):\n",
    "        return self.text.getvalue()\n",
    "\n",
    "def strip_tags(html):\n",
    "    s = MLStripper()\n",
    "    s.feed(html)\n",
    "    return s.get_data()"
   ]
  },
  {
   "cell_type": "code",
   "execution_count": 45,
   "metadata": {},
   "outputs": [],
   "source": [
    "import re\n",
    "def count_words(text):\n",
    "    return len(re.findall(r'\\w+', text))"
   ]
  },
  {
   "cell_type": "code",
   "execution_count": 46,
   "metadata": {},
   "outputs": [
    {
     "data": {
      "text/plain": [
       "0           21\n",
       "1        19370\n",
       "2        31248\n",
       "3        60950\n",
       "4       259178\n",
       "         ...  \n",
       "305          3\n",
       "387          1\n",
       "404          1\n",
       "1264         1\n",
       "1862         1\n",
       "Name: num_words_title, Length: 190, dtype: int64"
      ]
     },
     "execution_count": 46,
     "metadata": {},
     "output_type": "execute_result"
    }
   ],
   "source": [
    "clean_df['num_words_title'] = df.apply(lambda x: count_words(x['title']), axis=1)\n",
    "clean_df.num_words_title.value_counts().sort_index()"
   ]
  },
  {
   "cell_type": "code",
   "execution_count": 47,
   "metadata": {},
   "outputs": [
    {
     "data": {
      "text/plain": [
       "0         21\n",
       "1      19370\n",
       "2      31248\n",
       "3      60950\n",
       "4     259178\n",
       "5     149325\n",
       "6     127870\n",
       "7     110934\n",
       "8      90119\n",
       "9      84990\n",
       "10     75860\n",
       "11     71495\n",
       "12     73012\n",
       "13     60420\n",
       "14     51856\n",
       "15     48705\n",
       "16     43708\n",
       "17     37813\n",
       "18     34479\n",
       "19     31930\n",
       "20     27844\n",
       "21     23000\n",
       "22     20427\n",
       "23     17985\n",
       "24     16407\n",
       "25     50026\n",
       "30     31347\n",
       "35     26730\n",
       "40     19642\n",
       "45     12535\n",
       "50     13079\n",
       "Name: num_words_title, dtype: int64"
      ]
     },
     "execution_count": 47,
     "metadata": {},
     "output_type": "execute_result"
    }
   ],
   "source": [
    "clean_df.loc[(clean_df.num_words_title >= 25) & (clean_df.num_words_title < 30), \"num_words_title\"] = 25\n",
    "clean_df.loc[(clean_df.num_words_title >= 30) & (clean_df.num_words_title < 35), \"num_words_title\"] = 30\n",
    "clean_df.loc[(clean_df.num_words_title >= 35) & (clean_df.num_words_title < 40), \"num_words_title\"] = 35\n",
    "clean_df.loc[(clean_df.num_words_title >= 40) & (clean_df.num_words_title < 45), \"num_words_title\"] = 40\n",
    "clean_df.loc[(clean_df.num_words_title >= 45) & (clean_df.num_words_title < 50), \"num_words_title\"] = 45\n",
    "clean_df.loc[clean_df.num_words_title >= 50, \"num_words_title\"] = 50\n",
    "clean_df.num_words_title.value_counts().sort_index()"
   ]
  },
  {
   "cell_type": "code",
   "execution_count": 48,
   "metadata": {},
   "outputs": [
    {
     "data": {
      "text/plain": [
       "<seaborn.axisgrid.FacetGrid at 0x14364d0d0>"
      ]
     },
     "execution_count": 48,
     "metadata": {},
     "output_type": "execute_result"
    },
    {
     "data": {
      "image/png": "[encoded data removed]",
      "text/plain": [
       "<Figure size 360x360 with 1 Axes>"
      ]
     },
     "metadata": {},
     "output_type": "display_data"
    },
    {
     "data": {
      "image/png": "[encoded data removed]",
      "text/plain": [
       "<Figure size 360x360 with 1 Axes>"
      ]
     },
     "metadata": {},
     "output_type": "display_data"
    }
   ],
   "source": [
    "nwt_spam_df, nwt_ham_df = spam_ham_df(clean_df)\n",
    "sns.displot(nwt_spam_df, x=\"num_words_title\")\n",
    "sns.displot(nwt_ham_df, x=\"num_words_title\")"
   ]
  },
  {
   "cell_type": "code",
   "execution_count": 49,
   "metadata": {},
   "outputs": [
    {
     "data": {
      "image/png": "[encoded data removed]",
      "text/plain": [
       "<Figure size 842.4x595.44 with 1 Axes>"
      ]
     },
     "metadata": {},
     "output_type": "display_data"
    }
   ],
   "source": [
    "barplot_by_spam(clean_df, 'num_words_title', True)"
   ]
  },
  {
   "cell_type": "code",
   "execution_count": 50,
   "metadata": {},
   "outputs": [
    {
     "data": {
      "text/plain": [
       "2       515026\n",
       "7       281116\n",
       "10       22544\n",
       "12       19468\n",
       "9        11896\n",
       "         ...  \n",
       "3286         1\n",
       "3732         1\n",
       "6805         1\n",
       "7383         1\n",
       "2725         1\n",
       "Name: num_words_description, Length: 3485, dtype: int64"
      ]
     },
     "execution_count": 50,
     "metadata": {},
     "output_type": "execute_result"
    }
   ],
   "source": [
    "clean_df['num_words_description'] = df.apply(lambda x: count_words(strip_tags(x['description'])), axis=1)\n",
    "clean_df.num_words_description.value_counts()"
   ]
  },
  {
   "cell_type": "code",
   "execution_count": 51,
   "metadata": {
    "scrolled": false
   },
   "outputs": [
    {
     "data": {
      "text/plain": [
       "0          503\n",
       "1         4380\n",
       "2       515026\n",
       "3        11605\n",
       "4        11467\n",
       "5         8169\n",
       "6        10011\n",
       "7       281116\n",
       "8        11409\n",
       "9        11896\n",
       "10       72112\n",
       "15       44767\n",
       "20       84979\n",
       "30       80119\n",
       "40       61558\n",
       "50       90369\n",
       "75       60170\n",
       "100      97347\n",
       "150      95955\n",
       "200      87317\n",
       "300      31766\n",
       "400      12375\n",
       "500      18893\n",
       "1000     14013\n",
       "2000      3916\n",
       "3000      1067\n",
       "Name: num_words_description, dtype: int64"
      ]
     },
     "execution_count": 51,
     "metadata": {},
     "output_type": "execute_result"
    }
   ],
   "source": [
    "clean_df.loc[(clean_df.num_words_description >= 10) \n",
    "             & (clean_df.num_words_description < 15), \"num_words_description\"] = 10\n",
    "clean_df.loc[(clean_df.num_words_description >= 15) \n",
    "             & (clean_df.num_words_description < 20), \"num_words_description\"] = 15\n",
    "clean_df.loc[(clean_df.num_words_description >= 20) \n",
    "             & (clean_df.num_words_description < 30), \"num_words_description\"] = 20\n",
    "clean_df.loc[(clean_df.num_words_description >= 30) \n",
    "             & (clean_df.num_words_description < 40), \"num_words_description\"] = 30\n",
    "clean_df.loc[(clean_df.num_words_description >= 40) \n",
    "             & (clean_df.num_words_description < 50), \"num_words_description\"] = 40\n",
    "clean_df.loc[(clean_df.num_words_description >= 50) \n",
    "             & (clean_df.num_words_description < 75), \"num_words_description\"] = 50\n",
    "clean_df.loc[(clean_df.num_words_description >= 75) \n",
    "             & (clean_df.num_words_description < 100), \"num_words_description\"] = 75\n",
    "clean_df.loc[(clean_df.num_words_description >= 100) \n",
    "             & (clean_df.num_words_description < 150), \"num_words_description\"] = 100\n",
    "clean_df.loc[(clean_df.num_words_description >= 150) \n",
    "             & (clean_df.num_words_description < 200), \"num_words_description\"] = 150\n",
    "clean_df.loc[(clean_df.num_words_description >= 200) \n",
    "             & (clean_df.num_words_description < 300), \"num_words_description\"] = 200\n",
    "clean_df.loc[(clean_df.num_words_description >= 300) \n",
    "             & (clean_df.num_words_description < 400), \"num_words_description\"] = 300\n",
    "clean_df.loc[(clean_df.num_words_description >= 400) \n",
    "             & (clean_df.num_words_description < 500), \"num_words_description\"] = 400\n",
    "clean_df.loc[(clean_df.num_words_description >= 500) \n",
    "             & (clean_df.num_words_description < 1000), \"num_words_description\"] = 500\n",
    "clean_df.loc[(clean_df.num_words_description >= 1000) \n",
    "             & (clean_df.num_words_description < 2000), \"num_words_description\"] = 1000\n",
    "clean_df.loc[(clean_df.num_words_description >= 2000) \n",
    "             & (clean_df.num_words_description < 3000), \"num_words_description\"] = 2000\n",
    "clean_df.loc[clean_df.num_words_description >= 3000, \"num_words_description\"] = 3000\n",
    "clean_df.num_words_description.value_counts().sort_index()"
   ]
  },
  {
   "cell_type": "code",
   "execution_count": 52,
   "metadata": {},
   "outputs": [
    {
     "data": {
      "text/plain": [
       "<seaborn.axisgrid.FacetGrid at 0x143addd10>"
      ]
     },
     "execution_count": 52,
     "metadata": {},
     "output_type": "execute_result"
    },
    {
     "data": {
      "image/png": "[encoded data removed]",
      "text/plain": [
       "<Figure size 360x360 with 1 Axes>"
      ]
     },
     "metadata": {},
     "output_type": "display_data"
    },
    {
     "data": {
      "image/png": "[encoded data removed]",
      "text/plain": [
       "<Figure size 360x360 with 1 Axes>"
      ]
     },
     "metadata": {},
     "output_type": "display_data"
    }
   ],
   "source": [
    "nwd_spam_df, nwd_ham_df = spam_ham_df(clean_df)\n",
    "sns.displot(nwd_spam_df, x=\"num_words_description\")\n",
    "sns.displot(nwd_ham_df, x=\"num_words_description\")"
   ]
  },
  {
   "cell_type": "code",
   "execution_count": 53,
   "metadata": {},
   "outputs": [
    {
     "data": {
      "image/png": "[encoded data removed]",
      "text/plain": [
       "<Figure size 842.4x595.44 with 1 Axes>"
      ]
     },
     "metadata": {},
     "output_type": "display_data"
    }
   ],
   "source": [
    "barplot_by_spam(clean_df, 'num_words_description', True)"
   ]
  },
  {
   "cell_type": "code",
   "execution_count": 54,
   "metadata": {},
   "outputs": [
    {
     "data": {
      "text/html": [
       "<div>\n",
       "<style scoped>\n",
       "    .dataframe tbody tr th:only-of-type {\n",
       "        vertical-align: middle;\n",
       "    }\n",
       "\n",
       "    .dataframe tbody tr th {\n",
       "        vertical-align: top;\n",
       "    }\n",
       "\n",
       "    .dataframe thead th {\n",
       "        text-align: right;\n",
       "    }\n",
       "</style>\n",
       "<table border=\"1\" class=\"dataframe\">\n",
       "  <thead>\n",
       "    <tr style=\"text-align: right;\">\n",
       "      <th></th>\n",
       "      <th>keywords</th>\n",
       "      <th>title</th>\n",
       "      <th>access_right</th>\n",
       "      <th>files</th>\n",
       "      <th>description</th>\n",
       "      <th>communities</th>\n",
       "      <th>license</th>\n",
       "      <th>spam</th>\n",
       "      <th>recid</th>\n",
       "      <th>creators</th>\n",
       "      <th>...</th>\n",
       "      <th>has_image</th>\n",
       "      <th>num_communities</th>\n",
       "      <th>num_creators</th>\n",
       "      <th>creator_has_orcid</th>\n",
       "      <th>creator_has_affiliation</th>\n",
       "      <th>type</th>\n",
       "      <th>type_full</th>\n",
       "      <th>has_license</th>\n",
       "      <th>num_words_title</th>\n",
       "      <th>num_words_description</th>\n",
       "    </tr>\n",
       "  </thead>\n",
       "  <tbody>\n",
       "    <tr>\n",
       "      <th>0</th>\n",
       "      <td>None</td>\n",
       "      <td>The Geodynamic World Builder</td>\n",
       "      <td>open</td>\n",
       "      <td>[{'filetype': 'pdf', 'size': 808178, 'filename...</td>\n",
       "      <td>&lt;p&gt;The Geodynamic World Builder (GWB) is an op...</td>\n",
       "      <td>[geodynamics]</td>\n",
       "      <td>LGPL-2.1-or-later</td>\n",
       "      <td>False</td>\n",
       "      <td>3900603</td>\n",
       "      <td>[{'orcid': '0000-0003-0035-7723', 'affiliation...</td>\n",
       "      <td>...</td>\n",
       "      <td>False</td>\n",
       "      <td>1</td>\n",
       "      <td>1</td>\n",
       "      <td>True</td>\n",
       "      <td>True</td>\n",
       "      <td>software</td>\n",
       "      <td>software-None</td>\n",
       "      <td>other</td>\n",
       "      <td>4</td>\n",
       "      <td>100</td>\n",
       "    </tr>\n",
       "    <tr>\n",
       "      <th>1</th>\n",
       "      <td>[Alignment, Ambiguous characters, InDel, Maxim...</td>\n",
       "      <td>Evidence of Absence Treated as Absence of Evid...</td>\n",
       "      <td>open</td>\n",
       "      <td>[{'filetype': 'fasta', 'size': 32888, 'filenam...</td>\n",
       "      <td>&lt;p&gt;Enclosed are the figures, tables, and suppl...</td>\n",
       "      <td>None</td>\n",
       "      <td>CC-BY-4.0</td>\n",
       "      <td>False</td>\n",
       "      <td>3363990</td>\n",
       "      <td>[{'orcid': '0000-0001-9858-4515', 'affiliation...</td>\n",
       "      <td>...</td>\n",
       "      <td>False</td>\n",
       "      <td>0</td>\n",
       "      <td>3</td>\n",
       "      <td>True</td>\n",
       "      <td>True</td>\n",
       "      <td>publication</td>\n",
       "      <td>publication-article</td>\n",
       "      <td>CC-BY-4.0</td>\n",
       "      <td>30</td>\n",
       "      <td>75</td>\n",
       "    </tr>\n",
       "    <tr>\n",
       "      <th>2</th>\n",
       "      <td>[Biodiversity, Taxonomy, Animalia, Arthropoda,...</td>\n",
       "      <td>FIGURE 13 in Exploring species diversity and h...</td>\n",
       "      <td>open</td>\n",
       "      <td>[{'filetype': 'png', 'size': 7640839, 'filenam...</td>\n",
       "      <td>FIGURE 13. Mines of Phyllonorycter spp. from t...</td>\n",
       "      <td>[biosyslit]</td>\n",
       "      <td>notspecified</td>\n",
       "      <td>False</td>\n",
       "      <td>3363503</td>\n",
       "      <td>[{'name': 'Kirichenko, Natalia'}, {'name': 'Tr...</td>\n",
       "      <td>...</td>\n",
       "      <td>True</td>\n",
       "      <td>1</td>\n",
       "      <td>7</td>\n",
       "      <td>False</td>\n",
       "      <td>False</td>\n",
       "      <td>image</td>\n",
       "      <td>image-figure</td>\n",
       "      <td>notspecified</td>\n",
       "      <td>24</td>\n",
       "      <td>75</td>\n",
       "    </tr>\n",
       "    <tr>\n",
       "      <th>3</th>\n",
       "      <td>[Biodiversity, Taxonomy, Animalia, Arthropoda,...</td>\n",
       "      <td>FIGURE 3 in Two new species of Panaietis (Cope...</td>\n",
       "      <td>open</td>\n",
       "      <td>[{'filetype': 'png', 'size': 299892, 'filename...</td>\n",
       "      <td>FIGURE 3. Panaietis bobocephala sp. nov., adul...</td>\n",
       "      <td>[biosyslit]</td>\n",
       "      <td>notspecified</td>\n",
       "      <td>False</td>\n",
       "      <td>3363619</td>\n",
       "      <td>[{'name': 'Uyeno, Daisuke'}]</td>\n",
       "      <td>...</td>\n",
       "      <td>True</td>\n",
       "      <td>1</td>\n",
       "      <td>1</td>\n",
       "      <td>False</td>\n",
       "      <td>False</td>\n",
       "      <td>image</td>\n",
       "      <td>image-figure</td>\n",
       "      <td>notspecified</td>\n",
       "      <td>21</td>\n",
       "      <td>50</td>\n",
       "    </tr>\n",
       "    <tr>\n",
       "      <th>4</th>\n",
       "      <td>[Biodiversity, Taxonomy, Animalia, Arthropoda,...</td>\n",
       "      <td>A new species of the genus Criotettix Bolivar ...</td>\n",
       "      <td>closed</td>\n",
       "      <td>[]</td>\n",
       "      <td>Zhang, Yu-Long, Li, Xin-Jiang, Zhi, Yong-Chao ...</td>\n",
       "      <td>[biosyslit]</td>\n",
       "      <td>None</td>\n",
       "      <td>False</td>\n",
       "      <td>3363729</td>\n",
       "      <td>[{'name': 'Zhang, Yu-Long'}, {'name': 'Li, Xin...</td>\n",
       "      <td>...</td>\n",
       "      <td>False</td>\n",
       "      <td>1</td>\n",
       "      <td>3</td>\n",
       "      <td>False</td>\n",
       "      <td>False</td>\n",
       "      <td>publication</td>\n",
       "      <td>publication-article</td>\n",
       "      <td>no-license</td>\n",
       "      <td>14</td>\n",
       "      <td>30</td>\n",
       "    </tr>\n",
       "  </tbody>\n",
       "</table>\n",
       "<p>5 rows × 23 columns</p>\n",
       "</div>"
      ],
      "text/plain": [
       "                                            keywords  \\\n",
       "0                                               None   \n",
       "1  [Alignment, Ambiguous characters, InDel, Maxim...   \n",
       "2  [Biodiversity, Taxonomy, Animalia, Arthropoda,...   \n",
       "3  [Biodiversity, Taxonomy, Animalia, Arthropoda,...   \n",
       "4  [Biodiversity, Taxonomy, Animalia, Arthropoda,...   \n",
       "\n",
       "                                               title access_right  \\\n",
       "0                       The Geodynamic World Builder         open   \n",
       "1  Evidence of Absence Treated as Absence of Evid...         open   \n",
       "2  FIGURE 13 in Exploring species diversity and h...         open   \n",
       "3  FIGURE 3 in Two new species of Panaietis (Cope...         open   \n",
       "4  A new species of the genus Criotettix Bolivar ...       closed   \n",
       "\n",
       "                                               files  \\\n",
       "0  [{'filetype': 'pdf', 'size': 808178, 'filename...   \n",
       "1  [{'filetype': 'fasta', 'size': 32888, 'filenam...   \n",
       "2  [{'filetype': 'png', 'size': 7640839, 'filenam...   \n",
       "3  [{'filetype': 'png', 'size': 299892, 'filename...   \n",
       "4                                                 []   \n",
       "\n",
       "                                         description    communities  \\\n",
       "0  <p>The Geodynamic World Builder (GWB) is an op...  [geodynamics]   \n",
       "1  <p>Enclosed are the figures, tables, and suppl...           None   \n",
       "2  FIGURE 13. Mines of Phyllonorycter spp. from t...    [biosyslit]   \n",
       "3  FIGURE 3. Panaietis bobocephala sp. nov., adul...    [biosyslit]   \n",
       "4  Zhang, Yu-Long, Li, Xin-Jiang, Zhi, Yong-Chao ...    [biosyslit]   \n",
       "\n",
       "             license   spam    recid  \\\n",
       "0  LGPL-2.1-or-later  False  3900603   \n",
       "1          CC-BY-4.0  False  3363990   \n",
       "2       notspecified  False  3363503   \n",
       "3       notspecified  False  3363619   \n",
       "4               None  False  3363729   \n",
       "\n",
       "                                            creators  ... has_image  \\\n",
       "0  [{'orcid': '0000-0003-0035-7723', 'affiliation...  ...     False   \n",
       "1  [{'orcid': '0000-0001-9858-4515', 'affiliation...  ...     False   \n",
       "2  [{'name': 'Kirichenko, Natalia'}, {'name': 'Tr...  ...      True   \n",
       "3                       [{'name': 'Uyeno, Daisuke'}]  ...      True   \n",
       "4  [{'name': 'Zhang, Yu-Long'}, {'name': 'Li, Xin...  ...     False   \n",
       "\n",
       "   num_communities  num_creators  creator_has_orcid  creator_has_affiliation  \\\n",
       "0                1             1               True                     True   \n",
       "1                0             3               True                     True   \n",
       "2                1             7              False                    False   \n",
       "3                1             1              False                    False   \n",
       "4                1             3              False                    False   \n",
       "\n",
       "          type            type_full   has_license num_words_title  \\\n",
       "0     software        software-None         other               4   \n",
       "1  publication  publication-article     CC-BY-4.0              30   \n",
       "2        image         image-figure  notspecified              24   \n",
       "3        image         image-figure  notspecified              21   \n",
       "4  publication  publication-article    no-license              14   \n",
       "\n",
       "  num_words_description  \n",
       "0                   100  \n",
       "1                    75  \n",
       "2                    75  \n",
       "3                    50  \n",
       "4                    30  \n",
       "\n",
       "[5 rows x 23 columns]"
      ]
     },
     "execution_count": 54,
     "metadata": {},
     "output_type": "execute_result"
    }
   ],
   "source": [
    "clean_df.head()"
   ]
  },
  {
   "cell_type": "markdown",
   "metadata": {},
   "source": [
    "# Preprocess"
   ]
  },
  {
   "cell_type": "code",
   "execution_count": 96,
   "metadata": {
    "scrolled": true
   },
   "outputs": [],
   "source": [
    "from unidecode import unidecode\n",
    "import string\n",
    "\n",
    "trans_table = str.maketrans(string.punctuation, ' '*len(string.punctuation))\n",
    "\n",
    "def merge_and_clean_text(keywords, title, description):\n",
    "    text = \" \".join(keywords) if keywords else \"\"\n",
    "    # Decode text (after striping HTML tags if needed), then remove punctuation\n",
    "    text = unidecode(text).translate(trans_table) + \" \" + \\\n",
    "            strip_tags(unidecode(title)).translate(trans_table) + \" \" + \\\n",
    "            strip_tags(unidecode(description)).translate(trans_table)\n",
    "\n",
    "    return text.lower().strip()\n",
    "\n",
    "\n",
    "# For text_4000\n",
    "\n",
    "def _truncate(text, max_length):\n",
    "    parts = text.translate(trans_table).split(\" \")\n",
    "    if len(parts) < max_length:\n",
    "        return text\n",
    "    else:\n",
    "        return ' '.join(parts[:max_length])\n",
    "\n",
    "def merge_clean_and_truncate_text(keywords, title, description,\n",
    "                                  keywords_length=100, title_length=400, description_length=3500,\n",
    "                                  max_text_length = 4000):\n",
    "    _keywords = \" \".join(keywords) if keywords else \"\"\n",
    "    # Decode text (after striping HTML tags if needed), then remove punctuation\n",
    "    _keywords = _truncate(unidecode(_keywords), keywords_length)\n",
    "    _title = _truncate(strip_tags(unidecode(title)), title_length)\n",
    "    _description = _truncate(strip_tags(unidecode(description)), description_length)\n",
    "        \n",
    "    text = _keywords + \" \" + _title + \" \" + _description\n",
    "   \n",
    "    safeguard = len(text.split(' '))\n",
    "    if safeguard > max_text_length:\n",
    "        print(f\"Failed. len f{safeguard}\")\n",
    "    \n",
    "    return text.lower().strip()\n",
    "    "
   ]
  },
  {
   "cell_type": "code",
   "execution_count": 97,
   "metadata": {},
   "outputs": [],
   "source": [
    "clean_df['text'] = df.apply(\n",
    "    lambda x: merge_and_clean_text(x['keywords'], x['title'], x['description']), axis=1)"
   ]
  },
  {
   "cell_type": "code",
   "execution_count": 98,
   "metadata": {},
   "outputs": [],
   "source": [
    "clean_df['text_4000'] = df.apply(\n",
    "    lambda x: merge_clean_and_truncate_text(x['keywords'], x['title'], x['description']), axis=1)"
   ]
  },
  {
   "cell_type": "code",
   "execution_count": 99,
   "metadata": {},
   "outputs": [
    {
     "data": {
      "text/html": [
       "<div>\n",
       "<style scoped>\n",
       "    .dataframe tbody tr th:only-of-type {\n",
       "        vertical-align: middle;\n",
       "    }\n",
       "\n",
       "    .dataframe tbody tr th {\n",
       "        vertical-align: top;\n",
       "    }\n",
       "\n",
       "    .dataframe thead th {\n",
       "        text-align: right;\n",
       "    }\n",
       "</style>\n",
       "<table border=\"1\" class=\"dataframe\">\n",
       "  <thead>\n",
       "    <tr style=\"text-align: right;\">\n",
       "      <th></th>\n",
       "      <th>keywords</th>\n",
       "      <th>title</th>\n",
       "      <th>access_right</th>\n",
       "      <th>files</th>\n",
       "      <th>description</th>\n",
       "      <th>communities</th>\n",
       "      <th>license</th>\n",
       "      <th>spam</th>\n",
       "      <th>recid</th>\n",
       "      <th>creators</th>\n",
       "      <th>...</th>\n",
       "      <th>num_creators</th>\n",
       "      <th>creator_has_orcid</th>\n",
       "      <th>creator_has_affiliation</th>\n",
       "      <th>type</th>\n",
       "      <th>type_full</th>\n",
       "      <th>has_license</th>\n",
       "      <th>num_words_title</th>\n",
       "      <th>num_words_description</th>\n",
       "      <th>text_4000</th>\n",
       "      <th>text</th>\n",
       "    </tr>\n",
       "  </thead>\n",
       "  <tbody>\n",
       "    <tr>\n",
       "      <th>0</th>\n",
       "      <td>None</td>\n",
       "      <td>The Geodynamic World Builder</td>\n",
       "      <td>open</td>\n",
       "      <td>[{'filetype': 'pdf', 'size': 808178, 'filename...</td>\n",
       "      <td>&lt;p&gt;The Geodynamic World Builder (GWB) is an op...</td>\n",
       "      <td>[geodynamics]</td>\n",
       "      <td>LGPL-2.1-or-later</td>\n",
       "      <td>False</td>\n",
       "      <td>3900603</td>\n",
       "      <td>[{'orcid': '0000-0003-0035-7723', 'affiliation...</td>\n",
       "      <td>...</td>\n",
       "      <td>1</td>\n",
       "      <td>True</td>\n",
       "      <td>True</td>\n",
       "      <td>software</td>\n",
       "      <td>software-None</td>\n",
       "      <td>other</td>\n",
       "      <td>4</td>\n",
       "      <td>100</td>\n",
       "      <td>the geodynamic world builder the geodynamic wo...</td>\n",
       "      <td>the geodynamic world builder the geodynamic wo...</td>\n",
       "    </tr>\n",
       "    <tr>\n",
       "      <th>1</th>\n",
       "      <td>[Alignment, Ambiguous characters, InDel, Maxim...</td>\n",
       "      <td>Evidence of Absence Treated as Absence of Evid...</td>\n",
       "      <td>open</td>\n",
       "      <td>[{'filetype': 'fasta', 'size': 32888, 'filenam...</td>\n",
       "      <td>&lt;p&gt;Enclosed are the figures, tables, and suppl...</td>\n",
       "      <td>None</td>\n",
       "      <td>CC-BY-4.0</td>\n",
       "      <td>False</td>\n",
       "      <td>3363990</td>\n",
       "      <td>[{'orcid': '0000-0001-9858-4515', 'affiliation...</td>\n",
       "      <td>...</td>\n",
       "      <td>3</td>\n",
       "      <td>True</td>\n",
       "      <td>True</td>\n",
       "      <td>publication</td>\n",
       "      <td>publication-article</td>\n",
       "      <td>CC-BY-4.0</td>\n",
       "      <td>30</td>\n",
       "      <td>75</td>\n",
       "      <td>alignment ambiguous characters indel maximum l...</td>\n",
       "      <td>alignment ambiguous characters indel maximum l...</td>\n",
       "    </tr>\n",
       "    <tr>\n",
       "      <th>2</th>\n",
       "      <td>[Biodiversity, Taxonomy, Animalia, Arthropoda,...</td>\n",
       "      <td>FIGURE 13 in Exploring species diversity and h...</td>\n",
       "      <td>open</td>\n",
       "      <td>[{'filetype': 'png', 'size': 7640839, 'filenam...</td>\n",
       "      <td>FIGURE 13. Mines of Phyllonorycter spp. from t...</td>\n",
       "      <td>[biosyslit]</td>\n",
       "      <td>notspecified</td>\n",
       "      <td>False</td>\n",
       "      <td>3363503</td>\n",
       "      <td>[{'name': 'Kirichenko, Natalia'}, {'name': 'Tr...</td>\n",
       "      <td>...</td>\n",
       "      <td>7</td>\n",
       "      <td>False</td>\n",
       "      <td>False</td>\n",
       "      <td>image</td>\n",
       "      <td>image-figure</td>\n",
       "      <td>notspecified</td>\n",
       "      <td>24</td>\n",
       "      <td>75</td>\n",
       "      <td>biodiversity taxonomy animalia arthropoda inse...</td>\n",
       "      <td>biodiversity taxonomy animalia arthropoda inse...</td>\n",
       "    </tr>\n",
       "    <tr>\n",
       "      <th>3</th>\n",
       "      <td>[Biodiversity, Taxonomy, Animalia, Arthropoda,...</td>\n",
       "      <td>FIGURE 3 in Two new species of Panaietis (Cope...</td>\n",
       "      <td>open</td>\n",
       "      <td>[{'filetype': 'png', 'size': 299892, 'filename...</td>\n",
       "      <td>FIGURE 3. Panaietis bobocephala sp. nov., adul...</td>\n",
       "      <td>[biosyslit]</td>\n",
       "      <td>notspecified</td>\n",
       "      <td>False</td>\n",
       "      <td>3363619</td>\n",
       "      <td>[{'name': 'Uyeno, Daisuke'}]</td>\n",
       "      <td>...</td>\n",
       "      <td>1</td>\n",
       "      <td>False</td>\n",
       "      <td>False</td>\n",
       "      <td>image</td>\n",
       "      <td>image-figure</td>\n",
       "      <td>notspecified</td>\n",
       "      <td>21</td>\n",
       "      <td>50</td>\n",
       "      <td>biodiversity taxonomy animalia arthropoda maxi...</td>\n",
       "      <td>biodiversity taxonomy animalia arthropoda maxi...</td>\n",
       "    </tr>\n",
       "    <tr>\n",
       "      <th>4</th>\n",
       "      <td>[Biodiversity, Taxonomy, Animalia, Arthropoda,...</td>\n",
       "      <td>A new species of the genus Criotettix Bolivar ...</td>\n",
       "      <td>closed</td>\n",
       "      <td>[]</td>\n",
       "      <td>Zhang, Yu-Long, Li, Xin-Jiang, Zhi, Yong-Chao ...</td>\n",
       "      <td>[biosyslit]</td>\n",
       "      <td>None</td>\n",
       "      <td>False</td>\n",
       "      <td>3363729</td>\n",
       "      <td>[{'name': 'Zhang, Yu-Long'}, {'name': 'Li, Xin...</td>\n",
       "      <td>...</td>\n",
       "      <td>3</td>\n",
       "      <td>False</td>\n",
       "      <td>False</td>\n",
       "      <td>publication</td>\n",
       "      <td>publication-article</td>\n",
       "      <td>no-license</td>\n",
       "      <td>14</td>\n",
       "      <td>30</td>\n",
       "      <td>biodiversity taxonomy animalia arthropoda inse...</td>\n",
       "      <td>biodiversity taxonomy animalia arthropoda inse...</td>\n",
       "    </tr>\n",
       "  </tbody>\n",
       "</table>\n",
       "<p>5 rows × 25 columns</p>\n",
       "</div>"
      ],
      "text/plain": [
       "                                            keywords  \\\n",
       "0                                               None   \n",
       "1  [Alignment, Ambiguous characters, InDel, Maxim...   \n",
       "2  [Biodiversity, Taxonomy, Animalia, Arthropoda,...   \n",
       "3  [Biodiversity, Taxonomy, Animalia, Arthropoda,...   \n",
       "4  [Biodiversity, Taxonomy, Animalia, Arthropoda,...   \n",
       "\n",
       "                                               title access_right  \\\n",
       "0                       The Geodynamic World Builder         open   \n",
       "1  Evidence of Absence Treated as Absence of Evid...         open   \n",
       "2  FIGURE 13 in Exploring species diversity and h...         open   \n",
       "3  FIGURE 3 in Two new species of Panaietis (Cope...         open   \n",
       "4  A new species of the genus Criotettix Bolivar ...       closed   \n",
       "\n",
       "                                               files  \\\n",
       "0  [{'filetype': 'pdf', 'size': 808178, 'filename...   \n",
       "1  [{'filetype': 'fasta', 'size': 32888, 'filenam...   \n",
       "2  [{'filetype': 'png', 'size': 7640839, 'filenam...   \n",
       "3  [{'filetype': 'png', 'size': 299892, 'filename...   \n",
       "4                                                 []   \n",
       "\n",
       "                                         description    communities  \\\n",
       "0  <p>The Geodynamic World Builder (GWB) is an op...  [geodynamics]   \n",
       "1  <p>Enclosed are the figures, tables, and suppl...           None   \n",
       "2  FIGURE 13. Mines of Phyllonorycter spp. from t...    [biosyslit]   \n",
       "3  FIGURE 3. Panaietis bobocephala sp. nov., adul...    [biosyslit]   \n",
       "4  Zhang, Yu-Long, Li, Xin-Jiang, Zhi, Yong-Chao ...    [biosyslit]   \n",
       "\n",
       "             license   spam    recid  \\\n",
       "0  LGPL-2.1-or-later  False  3900603   \n",
       "1          CC-BY-4.0  False  3363990   \n",
       "2       notspecified  False  3363503   \n",
       "3       notspecified  False  3363619   \n",
       "4               None  False  3363729   \n",
       "\n",
       "                                            creators  ... num_creators  \\\n",
       "0  [{'orcid': '0000-0003-0035-7723', 'affiliation...  ...            1   \n",
       "1  [{'orcid': '0000-0001-9858-4515', 'affiliation...  ...            3   \n",
       "2  [{'name': 'Kirichenko, Natalia'}, {'name': 'Tr...  ...            7   \n",
       "3                       [{'name': 'Uyeno, Daisuke'}]  ...            1   \n",
       "4  [{'name': 'Zhang, Yu-Long'}, {'name': 'Li, Xin...  ...            3   \n",
       "\n",
       "   creator_has_orcid  creator_has_affiliation         type  \\\n",
       "0               True                     True     software   \n",
       "1               True                     True  publication   \n",
       "2              False                    False        image   \n",
       "3              False                    False        image   \n",
       "4              False                    False  publication   \n",
       "\n",
       "             type_full   has_license  num_words_title  num_words_description  \\\n",
       "0        software-None         other                4                    100   \n",
       "1  publication-article     CC-BY-4.0               30                     75   \n",
       "2         image-figure  notspecified               24                     75   \n",
       "3         image-figure  notspecified               21                     50   \n",
       "4  publication-article    no-license               14                     30   \n",
       "\n",
       "                                           text_4000  \\\n",
       "0  the geodynamic world builder the geodynamic wo...   \n",
       "1  alignment ambiguous characters indel maximum l...   \n",
       "2  biodiversity taxonomy animalia arthropoda inse...   \n",
       "3  biodiversity taxonomy animalia arthropoda maxi...   \n",
       "4  biodiversity taxonomy animalia arthropoda inse...   \n",
       "\n",
       "                                                text  \n",
       "0  the geodynamic world builder the geodynamic wo...  \n",
       "1  alignment ambiguous characters indel maximum l...  \n",
       "2  biodiversity taxonomy animalia arthropoda inse...  \n",
       "3  biodiversity taxonomy animalia arthropoda maxi...  \n",
       "4  biodiversity taxonomy animalia arthropoda inse...  \n",
       "\n",
       "[5 rows x 25 columns]"
      ]
     },
     "execution_count": 99,
     "metadata": {},
     "output_type": "execute_result"
    }
   ],
   "source": [
    "clean_df.head()"
   ]
  },
  {
   "cell_type": "code",
   "execution_count": 100,
   "metadata": {},
   "outputs": [
    {
     "data": {
      "text/plain": [
       "Index(['keywords', 'title', 'access_right', 'files', 'description',\n",
       "       'communities', 'license', 'spam', 'recid', 'creators', 'resource_type',\n",
       "       'num_keywords', 'num_files', 'has_image', 'num_communities',\n",
       "       'num_creators', 'creator_has_orcid', 'creator_has_affiliation', 'type',\n",
       "       'type_full', 'has_license', 'num_words_title', 'num_words_description',\n",
       "       'text_4000', 'text'],\n",
       "      dtype='object')"
      ]
     },
     "execution_count": 100,
     "metadata": {},
     "output_type": "execute_result"
    }
   ],
   "source": [
    "clean_df.columns"
   ]
  },
  {
   "cell_type": "code",
   "execution_count": 101,
   "metadata": {},
   "outputs": [
    {
     "data": {
      "text/html": [
       "<div>\n",
       "<style scoped>\n",
       "    .dataframe tbody tr th:only-of-type {\n",
       "        vertical-align: middle;\n",
       "    }\n",
       "\n",
       "    .dataframe tbody tr th {\n",
       "        vertical-align: top;\n",
       "    }\n",
       "\n",
       "    .dataframe thead th {\n",
       "        text-align: right;\n",
       "    }\n",
       "</style>\n",
       "<table border=\"1\" class=\"dataframe\">\n",
       "  <thead>\n",
       "    <tr style=\"text-align: right;\">\n",
       "      <th></th>\n",
       "      <th>access_right</th>\n",
       "      <th>spam</th>\n",
       "      <th>recid</th>\n",
       "      <th>num_keywords</th>\n",
       "      <th>num_files</th>\n",
       "      <th>has_image</th>\n",
       "      <th>num_communities</th>\n",
       "      <th>num_creators</th>\n",
       "      <th>creator_has_orcid</th>\n",
       "      <th>creator_has_affiliation</th>\n",
       "      <th>type</th>\n",
       "      <th>type_full</th>\n",
       "      <th>has_license</th>\n",
       "      <th>num_words_title</th>\n",
       "      <th>num_words_description</th>\n",
       "      <th>text_4000</th>\n",
       "      <th>text</th>\n",
       "    </tr>\n",
       "  </thead>\n",
       "  <tbody>\n",
       "    <tr>\n",
       "      <th>0</th>\n",
       "      <td>open</td>\n",
       "      <td>False</td>\n",
       "      <td>3900603</td>\n",
       "      <td>0</td>\n",
       "      <td>3</td>\n",
       "      <td>False</td>\n",
       "      <td>1</td>\n",
       "      <td>1</td>\n",
       "      <td>True</td>\n",
       "      <td>True</td>\n",
       "      <td>software</td>\n",
       "      <td>software-None</td>\n",
       "      <td>other</td>\n",
       "      <td>4</td>\n",
       "      <td>100</td>\n",
       "      <td>the geodynamic world builder the geodynamic wo...</td>\n",
       "      <td>the geodynamic world builder the geodynamic wo...</td>\n",
       "    </tr>\n",
       "    <tr>\n",
       "      <th>1</th>\n",
       "      <td>open</td>\n",
       "      <td>False</td>\n",
       "      <td>3363990</td>\n",
       "      <td>6</td>\n",
       "      <td>5</td>\n",
       "      <td>False</td>\n",
       "      <td>0</td>\n",
       "      <td>3</td>\n",
       "      <td>True</td>\n",
       "      <td>True</td>\n",
       "      <td>publication</td>\n",
       "      <td>publication-article</td>\n",
       "      <td>CC-BY-4.0</td>\n",
       "      <td>30</td>\n",
       "      <td>75</td>\n",
       "      <td>alignment ambiguous characters indel maximum l...</td>\n",
       "      <td>alignment ambiguous characters indel maximum l...</td>\n",
       "    </tr>\n",
       "    <tr>\n",
       "      <th>2</th>\n",
       "      <td>open</td>\n",
       "      <td>False</td>\n",
       "      <td>3363503</td>\n",
       "      <td>8</td>\n",
       "      <td>1</td>\n",
       "      <td>True</td>\n",
       "      <td>1</td>\n",
       "      <td>7</td>\n",
       "      <td>False</td>\n",
       "      <td>False</td>\n",
       "      <td>image</td>\n",
       "      <td>image-figure</td>\n",
       "      <td>notspecified</td>\n",
       "      <td>24</td>\n",
       "      <td>75</td>\n",
       "      <td>biodiversity taxonomy animalia arthropoda inse...</td>\n",
       "      <td>biodiversity taxonomy animalia arthropoda inse...</td>\n",
       "    </tr>\n",
       "    <tr>\n",
       "      <th>3</th>\n",
       "      <td>open</td>\n",
       "      <td>False</td>\n",
       "      <td>3363619</td>\n",
       "      <td>8</td>\n",
       "      <td>1</td>\n",
       "      <td>True</td>\n",
       "      <td>1</td>\n",
       "      <td>1</td>\n",
       "      <td>False</td>\n",
       "      <td>False</td>\n",
       "      <td>image</td>\n",
       "      <td>image-figure</td>\n",
       "      <td>notspecified</td>\n",
       "      <td>21</td>\n",
       "      <td>50</td>\n",
       "      <td>biodiversity taxonomy animalia arthropoda maxi...</td>\n",
       "      <td>biodiversity taxonomy animalia arthropoda maxi...</td>\n",
       "    </tr>\n",
       "    <tr>\n",
       "      <th>4</th>\n",
       "      <td>closed</td>\n",
       "      <td>False</td>\n",
       "      <td>3363729</td>\n",
       "      <td>7</td>\n",
       "      <td>0</td>\n",
       "      <td>False</td>\n",
       "      <td>1</td>\n",
       "      <td>3</td>\n",
       "      <td>False</td>\n",
       "      <td>False</td>\n",
       "      <td>publication</td>\n",
       "      <td>publication-article</td>\n",
       "      <td>no-license</td>\n",
       "      <td>14</td>\n",
       "      <td>30</td>\n",
       "      <td>biodiversity taxonomy animalia arthropoda inse...</td>\n",
       "      <td>biodiversity taxonomy animalia arthropoda inse...</td>\n",
       "    </tr>\n",
       "  </tbody>\n",
       "</table>\n",
       "</div>"
      ],
      "text/plain": [
       "  access_right   spam    recid  num_keywords  num_files  has_image  \\\n",
       "0         open  False  3900603             0          3      False   \n",
       "1         open  False  3363990             6          5      False   \n",
       "2         open  False  3363503             8          1       True   \n",
       "3         open  False  3363619             8          1       True   \n",
       "4       closed  False  3363729             7          0      False   \n",
       "\n",
       "   num_communities  num_creators  creator_has_orcid  creator_has_affiliation  \\\n",
       "0                1             1               True                     True   \n",
       "1                0             3               True                     True   \n",
       "2                1             7              False                    False   \n",
       "3                1             1              False                    False   \n",
       "4                1             3              False                    False   \n",
       "\n",
       "          type            type_full   has_license  num_words_title  \\\n",
       "0     software        software-None         other                4   \n",
       "1  publication  publication-article     CC-BY-4.0               30   \n",
       "2        image         image-figure  notspecified               24   \n",
       "3        image         image-figure  notspecified               21   \n",
       "4  publication  publication-article    no-license               14   \n",
       "\n",
       "   num_words_description                                          text_4000  \\\n",
       "0                    100  the geodynamic world builder the geodynamic wo...   \n",
       "1                     75  alignment ambiguous characters indel maximum l...   \n",
       "2                     75  biodiversity taxonomy animalia arthropoda inse...   \n",
       "3                     50  biodiversity taxonomy animalia arthropoda maxi...   \n",
       "4                     30  biodiversity taxonomy animalia arthropoda inse...   \n",
       "\n",
       "                                                text  \n",
       "0  the geodynamic world builder the geodynamic wo...  \n",
       "1  alignment ambiguous characters indel maximum l...  \n",
       "2  biodiversity taxonomy animalia arthropoda inse...  \n",
       "3  biodiversity taxonomy animalia arthropoda maxi...  \n",
       "4  biodiversity taxonomy animalia arthropoda inse...  "
      ]
     },
     "execution_count": 101,
     "metadata": {},
     "output_type": "execute_result"
    }
   ],
   "source": [
    "# Chained operation because we do not drop `inplace`\n",
    "\n",
    "to_drop = [\n",
    "    \"keywords\", \"title\", \"files\", \"description\", \"communities\", \"license\", \"creators\", \"resource_type\"\n",
    "]\n",
    "for column in to_drop:\n",
    "    clean_df = clean_df.drop(column, axis='columns')\n",
    "clean_df.head()"
   ]
  },
  {
   "cell_type": "code",
   "execution_count": 102,
   "metadata": {},
   "outputs": [
    {
     "data": {
      "text/plain": [
       "Index(['access_right', 'spam', 'recid', 'num_keywords', 'num_files',\n",
       "       'has_image', 'num_communities', 'num_creators', 'creator_has_orcid',\n",
       "       'creator_has_affiliation', 'type', 'type_full', 'has_license',\n",
       "       'num_words_title', 'num_words_description', 'text_4000', 'text'],\n",
       "      dtype='object')"
      ]
     },
     "execution_count": 102,
     "metadata": {},
     "output_type": "execute_result"
    }
   ],
   "source": [
    "clean_df.columns"
   ]
  },
  {
   "cell_type": "code",
   "execution_count": 103,
   "metadata": {},
   "outputs": [],
   "source": [
    "output_filepath = f\"{base_path}/datasets/zenodo_open_metadata_2020-11-14_processed_full.jsonl\"\n",
    "clean_df.to_json(output_filepath, orient='records', lines=True)"
   ]
  },
  {
   "cell_type": "code",
   "execution_count": 106,
   "metadata": {},
   "outputs": [],
   "source": [
    "output_filepath = f\"{base_path}/datasets/zenodo_open_metadata_2020-11-14_processed_text.jsonl\"\n",
    "clean_df[['recid', 'spam', 'text']].to_json(output_filepath, orient='records', lines=True)"
   ]
  },
  {
   "cell_type": "code",
   "execution_count": 107,
   "metadata": {},
   "outputs": [],
   "source": [
    "output_filepath = f\"{base_path}/datasets/zenodo_open_metadata_2020-11-14_processed_text_4000.jsonl\"\n",
    "clean_df[['recid', 'spam', 'text_4000']].to_json(output_filepath, orient='records', lines=True)"
   ]
  }
 ],
 "metadata": {
  "kernelspec": {
   "display_name": "Python 3",
   "language": "python",
   "name": "python3"
  },
  "language_info": {
   "codemirror_mode": {
    "name": "ipython",
    "version": 3
   },
   "file_extension": ".py",
   "mimetype": "text/x-python",
   "name": "python",
   "nbconvert_exporter": "python",
   "pygments_lexer": "ipython3",
   "version": "3.7.7"
  }
 },
 "nbformat": 4,
 "nbformat_minor": 4
}
