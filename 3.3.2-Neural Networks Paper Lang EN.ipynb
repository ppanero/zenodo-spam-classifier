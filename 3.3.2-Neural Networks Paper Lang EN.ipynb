{
  "nbformat": 4,
  "nbformat_minor": 0,
  "metadata": {
    "kernelspec": {
      "display_name": "Python 3",
      "language": "python",
      "name": "python3"
    },
    "language_info": {
      "codemirror_mode": {
        "name": "ipython",
        "version": 3
      },
      "file_extension": ".py",
      "mimetype": "text/x-python",
      "name": "python",
      "nbconvert_exporter": "python",
      "pygments_lexer": "ipython3",
      "version": "3.7.7"
    },
    "colab": {
      "name": "2.3-Neural Networks Paper Lang EN.ipynb",
      "provenance": [],
      "collapsed_sections": [
        "n0nt-C0N6dLP",
        "gmPoCb2dI-zy",
        "5f_lX2NKI-0Q",
        "NABpDjhz6l1g",
        "eVNcUya-Gg39"
      ],
      "toc_visible": true
    },
    "accelerator": "GPU"
  },
  "cells": [
    {
      "cell_type": "markdown",
      "metadata": {
        "id": "WjoVPB2UI-zT"
      },
      "source": [
        "# Neural Networks: CNN\n",
        "\n",
        "The work of this notebook is based on the paper from Jain et al. [1][2]. A CNN is trained using semantically enriched vectors (using Word2Vec).\n",
        "\n",
        "\n",
        "[1] Gauri Jain, Manisha Sharma, and Basant Agarwal. Spam detection on social media using semantic convolutional neural network. *International Journal of Knowledge Discovery inBioinformatics (IJKDB)*, 8(1):12–26, 2018.\n",
        "\n",
        "[2] Gauri Jain, Manisha Sharma, and Basant Agarwal. Spam detection in social media using convolutional and long short term memory neural network. *Annals of Mathematics andArtificial Intelligence*, 85(1):21–44, 2019"
      ]
    },
    {
      "cell_type": "markdown",
      "metadata": {
        "id": "n0nt-C0N6dLP"
      },
      "source": [
        "## Imports and function definitions"
      ]
    },
    {
      "cell_type": "code",
      "metadata": {
        "id": "qjYSSTP2I-zY"
      },
      "source": [
        "# Imports\n",
        "import numpy as np\n",
        "import matplotlib.pyplot as plt\n",
        "import pickle\n",
        "\n",
        "from keras.models import Sequential\n",
        "from keras.layers import Conv1D, Dense, Dropout, Flatten, Input, LSTM, MaxPooling1D\n",
        "from keras.layers.embeddings import Embedding\n",
        "from sklearn.metrics import accuracy_score, classification_report"
      ],
      "execution_count": 1,
      "outputs": []
    },
    {
      "cell_type": "code",
      "metadata": {
        "id": "9JZnC_xwI-zr"
      },
      "source": [
        "def plot_metrics(history, validation=False):\n",
        "    fig, (ax1, ax2) = plt.subplots(1, 2)\n",
        "    fig.set_figwidth(12)\n",
        "    # Accuracy\n",
        "    ax1.set_title('Model accuracy')\n",
        "    ax1.set_ylabel('Accuracy')\n",
        "    ax1.set_xlabel('Epoch')\n",
        "    ax1.plot(history['accuracy'])\n",
        "    if validation:\n",
        "        ax1.plot(history['val_accuracy'])\n",
        "    ax1.legend(['Train', 'Validation'], loc='upper left')\n",
        "\n",
        "    # Loss\n",
        "    ax2.set_title('Model loss') \n",
        "    ax2.set_ylabel('Loss') \n",
        "    ax2.set_xlabel('Epoch')\n",
        "    ax2.plot(history['loss'])\n",
        "    if validation:\n",
        "        ax2.plot(history['val_loss'])\n",
        "    ax2.legend(['Train', 'Validation'], loc='upper left') \n",
        "\n",
        "    plt.show()"
      ],
      "execution_count": 2,
      "outputs": []
    },
    {
      "cell_type": "code",
      "metadata": {
        "id": "XF6IuV0-JMa3",
        "colab": {
          "base_uri": "https://localhost:8080/"
        },
        "outputId": "9e29946d-1129-4841-c17b-da55635e2e59"
      },
      "source": [
        "# Show versions\n",
        "import platform\n",
        "import keras\n",
        "import tensorflow as tf\n",
        "\n",
        "print(f\"Python: {platform.python_version()}\")\n",
        "print(f\"Keras: {keras.__version__}\")\n",
        "print(f\"Tensorflow: {tf.__version__}\")"
      ],
      "execution_count": 3,
      "outputs": [
        {
          "output_type": "stream",
          "text": [
            "Python: 3.6.9\n",
            "Keras: 2.4.3\n",
            "Tensorflow: 2.3.0\n"
          ],
          "name": "stdout"
        }
      ]
    },
    {
      "cell_type": "code",
      "metadata": {
        "id": "8tpg7LYYJOGo",
        "colab": {
          "base_uri": "https://localhost:8080/"
        },
        "outputId": "2a98f93b-f554-4387-e3f8-218201eb8a68"
      },
      "source": [
        "# Connect to GPU\n",
        "%tensorflow_version 2.x\n",
        "import tensorflow as tf\n",
        "device_name = tf.test.gpu_device_name()\n",
        "if device_name != '/device:GPU:0':\n",
        "  raise SystemError('GPU device not found')\n",
        "print('Found GPU at: {}'.format(device_name))"
      ],
      "execution_count": 4,
      "outputs": [
        {
          "output_type": "stream",
          "text": [
            "Found GPU at: /device:GPU:0\n"
          ],
          "name": "stdout"
        }
      ]
    },
    {
      "cell_type": "markdown",
      "metadata": {
        "id": "gmPoCb2dI-zy"
      },
      "source": [
        "## Data loading"
      ]
    },
    {
      "cell_type": "code",
      "metadata": {
        "id": "rsvTM6l9JPkU",
        "colab": {
          "base_uri": "https://localhost:8080/"
        },
        "outputId": "a5bb16bb-7f5d-4492-ce31-25ac4f6fee1d"
      },
      "source": [
        "# When using Goolge Colab\n",
        "from google.colab import drive\n",
        "drive.mount('/content/drive')"
      ],
      "execution_count": 5,
      "outputs": [
        {
          "output_type": "stream",
          "text": [
            "Drive already mounted at /content/drive; to attempt to forcibly remount, call drive.mount(\"/content/drive\", force_remount=True).\n"
          ],
          "name": "stdout"
        }
      ]
    },
    {
      "cell_type": "code",
      "metadata": {
        "id": "8HR86XOjJQ5w"
      },
      "source": [
        "base_path = \"/content/drive/My Drive\""
      ],
      "execution_count": 6,
      "outputs": []
    },
    {
      "cell_type": "code",
      "metadata": {
        "id": "bbq_qwK4I-0M"
      },
      "source": [
        "X_train = pickle.load(open(f\"{base_path}/datasets/neural_networks/zenodo_open_metadata_2020-11-26_X_train_en.pkl\",\"rb\"))\n",
        "X_test = pickle.load(open(f\"{base_path}/datasets/neural_networks/zenodo_open_metadata_2020-11-26_X_test_en.pkl\",\"rb\"))\n",
        "X_val = pickle.load(open(f\"{base_path}/datasets/neural_networks/zenodo_open_metadata_2020-11-26_X_val_en.pkl\",\"rb\"))\n",
        "y_train = pickle.load(open(f\"{base_path}/datasets/neural_networks/zenodo_open_metadata_2020-11-26_y_train_en.pkl\",\"rb\"))\n",
        "y_test = pickle.load(open(f\"{base_path}/datasets/neural_networks/zenodo_open_metadata_2020-11-26_y_test_en.pkl\",\"rb\"))\n",
        "y_val = pickle.load(open(f\"{base_path}/datasets/neural_networks/zenodo_open_metadata_2020-11-26_y_val_en.pkl\",\"rb\"))"
      ],
      "execution_count": 7,
      "outputs": []
    },
    {
      "cell_type": "code",
      "metadata": {
        "id": "rij1N49cI-0O",
        "colab": {
          "base_uri": "https://localhost:8080/"
        },
        "outputId": "142fe404-120e-4b61-ca97-94008338b927"
      },
      "source": [
        "print(f\"Training set shape {X_train.shape}\")\n",
        "print(f\"Validation set shape {X_val.shape}\")\n",
        "print(f\"Test set shape {X_test.shape}\")"
      ],
      "execution_count": 8,
      "outputs": [
        {
          "output_type": "stream",
          "text": [
            "Training set shape (35399, 1528)\n",
            "Validation set shape (3934, 1528)\n",
            "Test set shape (16857, 1528)\n"
          ],
          "name": "stdout"
        }
      ]
    },
    {
      "cell_type": "code",
      "metadata": {
        "id": "QmaYYoehI-0O"
      },
      "source": [
        "num_classes = 2  # Number of target classes (Spam and Ham)"
      ],
      "execution_count": 9,
      "outputs": []
    },
    {
      "cell_type": "code",
      "metadata": {
        "id": "62mNbvsgI-0P",
        "colab": {
          "base_uri": "https://localhost:8080/"
        },
        "outputId": "27c357df-8c31-467e-9a5c-4c83b35c692d"
      },
      "source": [
        "print(f\"Training labels set size {y_train.shape}\")\n",
        "print(f\"Validation labels set size {y_val.shape}\")\n",
        "print(f\"Test labels set size {y_test.shape}\")"
      ],
      "execution_count": 10,
      "outputs": [
        {
          "output_type": "stream",
          "text": [
            "Training labels set size (35399, 2)\n",
            "Validation labels set size (3934, 2)\n",
            "Test labels set size (16857, 2)\n"
          ],
          "name": "stdout"
        }
      ]
    },
    {
      "cell_type": "code",
      "metadata": {
        "id": "urQW86VKtEuV"
      },
      "source": [
        "vocab_size = 150000\n",
        "max_length = 1528  # 4539 for multilang, 1528 for english only (much shorter cuz stopwords)"
      ],
      "execution_count": 12,
      "outputs": []
    },
    {
      "cell_type": "markdown",
      "metadata": {
        "id": "5f_lX2NKI-0Q"
      },
      "source": [
        "## CNN\n",
        "\n",
        "From the paper of Jain et al. the hyperparameters are:\n",
        "\n",
        "|   | SMS | Twitter |\n",
        "|:--|:---:|:-------:|\n",
        "|Number of filters| 128 | 54 |\n",
        "|Filter length| 5 | 4 |\n",
        "|Droput | 0.1 | 0.2 |\n",
        "|Optimizer | Adagrad (lr: 0.1) | Adagrad (lr: 0.1) |\n",
        "|Activation function | ReLu | ReLu |\n",
        "|Epochs | 10 | 10 |\n",
        "\n",
        "Note that we had to ignore the number of features used by the atuthor to be able to fit the vocabulary in the embedding, accounting for multi-language content (i.e. a bigger number of words). To run one or the other simply change the configuration in the code below."
      ]
    },
    {
      "cell_type": "code",
      "metadata": {
        "id": "kd7pTgcNI-0Q",
        "colab": {
          "base_uri": "https://localhost:8080/"
        },
        "outputId": "a0c4a2e9-8459-4b12-9afd-287585479a8a"
      },
      "source": [
        "with tf.device('/device:GPU:0'):\n",
        "  \n",
        "  cnn_model = Sequential()\n",
        "\n",
        "  cnn_model.add(Embedding(input_dim=vocab_size, output_dim=200, input_length=max_length))\n",
        "  cnn_model.add(Conv1D(filters=54, kernel_size=4, activation=\"relu\"))\n",
        "  cnn_model.add(MaxPooling1D())\n",
        "  cnn_model.add(Dropout(rate=0.2))\n",
        "  cnn_model.add(Flatten())\n",
        "  cnn_model.add(Dense(units=num_classes, activation=\"softmax\"))\n",
        "\n",
        "  cnn_model.compile(optimizer='adagrad', loss='categorical_crossentropy', metrics=['accuracy'])\n",
        "\n",
        "  cnn_history = cnn_model.fit(\n",
        "      X_train,\n",
        "      y_train,\n",
        "      epochs=10,\n",
        "      validation_data=(X_val, y_val)\n",
        "  )"
      ],
      "execution_count": 19,
      "outputs": [
        {
          "output_type": "stream",
          "text": [
            "Epoch 1/10\n",
            "1107/1107 [==============================] - 29s 27ms/step - loss: 0.4827 - accuracy: 0.7598 - val_loss: 0.4430 - val_accuracy: 0.7694\n",
            "Epoch 2/10\n",
            "1107/1107 [==============================] - 29s 26ms/step - loss: 0.4392 - accuracy: 0.7693 - val_loss: 0.4351 - val_accuracy: 0.7725\n",
            "Epoch 3/10\n",
            "1107/1107 [==============================] - 29s 26ms/step - loss: 0.4311 - accuracy: 0.7735 - val_loss: 0.4260 - val_accuracy: 0.7883\n",
            "Epoch 4/10\n",
            "1107/1107 [==============================] - 29s 26ms/step - loss: 0.4240 - accuracy: 0.7847 - val_loss: 0.4175 - val_accuracy: 0.8055\n",
            "Epoch 5/10\n",
            "1107/1107 [==============================] - 29s 26ms/step - loss: 0.4164 - accuracy: 0.7994 - val_loss: 0.4087 - val_accuracy: 0.8071\n",
            "Epoch 6/10\n",
            "1107/1107 [==============================] - 30s 27ms/step - loss: 0.4064 - accuracy: 0.8212 - val_loss: 0.3981 - val_accuracy: 0.8638\n",
            "Epoch 7/10\n",
            "1107/1107 [==============================] - 29s 26ms/step - loss: 0.3929 - accuracy: 0.8473 - val_loss: 0.3818 - val_accuracy: 0.8691\n",
            "Epoch 8/10\n",
            "1107/1107 [==============================] - 29s 26ms/step - loss: 0.3740 - accuracy: 0.8667 - val_loss: 0.3604 - val_accuracy: 0.8714\n",
            "Epoch 9/10\n",
            "1107/1107 [==============================] - 29s 26ms/step - loss: 0.3479 - accuracy: 0.8838 - val_loss: 0.3318 - val_accuracy: 0.8856\n",
            "Epoch 10/10\n",
            "1107/1107 [==============================] - 29s 26ms/step - loss: 0.3168 - accuracy: 0.8966 - val_loss: 0.2994 - val_accuracy: 0.9009\n"
          ],
          "name": "stdout"
        }
      ]
    },
    {
      "cell_type": "code",
      "metadata": {
        "id": "yrn1UhBcNX4k",
        "colab": {
          "base_uri": "https://localhost:8080/"
        },
        "outputId": "93c8661b-f1c6-4113-d04a-c373b4cfb364"
      },
      "source": [
        "cnn_model.summary()"
      ],
      "execution_count": 20,
      "outputs": [
        {
          "output_type": "stream",
          "text": [
            "Model: \"sequential_1\"\n",
            "_________________________________________________________________\n",
            "Layer (type)                 Output Shape              Param #   \n",
            "=================================================================\n",
            "embedding_1 (Embedding)      (None, 1528, 200)         30000000  \n",
            "_________________________________________________________________\n",
            "conv1d_1 (Conv1D)            (None, 1525, 54)          43254     \n",
            "_________________________________________________________________\n",
            "max_pooling1d_1 (MaxPooling1 (None, 762, 54)           0         \n",
            "_________________________________________________________________\n",
            "dropout_1 (Dropout)          (None, 762, 54)           0         \n",
            "_________________________________________________________________\n",
            "flatten_1 (Flatten)          (None, 41148)             0         \n",
            "_________________________________________________________________\n",
            "dense_1 (Dense)              (None, 2)                 82298     \n",
            "=================================================================\n",
            "Total params: 30,125,552\n",
            "Trainable params: 30,125,552\n",
            "Non-trainable params: 0\n",
            "_________________________________________________________________\n"
          ],
          "name": "stdout"
        }
      ]
    },
    {
      "cell_type": "code",
      "metadata": {
        "id": "WHwIPE4JI-0U",
        "colab": {
          "base_uri": "https://localhost:8080/",
          "height": 295
        },
        "outputId": "e4b8e9b0-5943-468e-bd2a-f0fbe7e71c5c"
      },
      "source": [
        "plot_metrics(cnn_history.history, validation=True)"
      ],
      "execution_count": 21,
      "outputs": [
        {
          "output_type": "display_data",
          "data": {
            "image/png": "[encoded data removed]",
            "text/plain": [
              "<Figure size 864x288 with 2 Axes>"
            ]
          },
          "metadata": {
            "tags": [],
            "needs_background": "light"
          }
        }
      ]
    },
    {
      "cell_type": "code",
      "metadata": {
        "id": "h92l9ScrI-0V",
        "colab": {
          "base_uri": "https://localhost:8080/"
        },
        "outputId": "d9d04924-8963-4603-cdf4-98fb34a6188d"
      },
      "source": [
        "# Save model\n",
        "cnn_model.save(f\"{base_path}/models/2020_11_26_paper_twitter_cnn_en\")"
      ],
      "execution_count": 22,
      "outputs": [
        {
          "output_type": "stream",
          "text": [
            "INFO:tensorflow:Assets written to: /content/drive/My Drive/models/2020_11_26_paper_twitter_cnn_en/assets\n"
          ],
          "name": "stdout"
        }
      ]
    },
    {
      "cell_type": "code",
      "metadata": {
        "id": "IlIVaQbQI-0W",
        "colab": {
          "base_uri": "https://localhost:8080/"
        },
        "outputId": "bc14e228-b6c5-4e1b-f2a5-70f825abdb21"
      },
      "source": [
        "cnn_y_train_predclass = cnn_model.predict(X_train)\n",
        "\n",
        "sl_cnn_y_train_predclass = np.argmax(cnn_y_train_predclass, axis=1)\n",
        "sl_y_train = np.argmax(y_train, axis=1)\n",
        "\n",
        "cnn_train_accuracy = round(accuracy_score(sl_y_train, sl_cnn_y_train_predclass), 3)\n",
        "print(f\"Train accuracy: {cnn_train_accuracy}\")\n",
        "\n",
        "print(\"Train Classification Report\")\n",
        "print(classification_report(sl_y_train, sl_cnn_y_train_predclass))"
      ],
      "execution_count": 23,
      "outputs": [
        {
          "output_type": "stream",
          "text": [
            "Train accuracy: 0.9\n",
            "Train Classification Report\n",
            "              precision    recall  f1-score   support\n",
            "\n",
            "           0       0.87      0.97      0.91     19465\n",
            "           1       0.95      0.82      0.88     15934\n",
            "\n",
            "    accuracy                           0.90     35399\n",
            "   macro avg       0.91      0.89      0.90     35399\n",
            "weighted avg       0.91      0.90      0.90     35399\n",
            "\n"
          ],
          "name": "stdout"
        }
      ]
    },
    {
      "cell_type": "code",
      "metadata": {
        "id": "hdNx4_gSI-0X",
        "colab": {
          "base_uri": "https://localhost:8080/"
        },
        "outputId": "ad340312-be25-4a2f-d4c4-2de0c492a1e6"
      },
      "source": [
        "cnn_y_test_predclass = cnn_model.predict(X_test)\n",
        "\n",
        "sl_cnn_y_test_predclass = np.argmax(cnn_y_test_predclass, axis=1)\n",
        "sl_y_test = np.argmax(y_test, axis=1)\n",
        "\n",
        "cnn_test_accuracy = round(accuracy_score(sl_y_test, sl_cnn_y_test_predclass), 3)\n",
        "print(f\"Test accuracy: {cnn_test_accuracy}\")\n",
        "\n",
        "print(\"Test Classification Report\")\n",
        "print (classification_report(sl_y_test, sl_cnn_y_test_predclass))"
      ],
      "execution_count": 24,
      "outputs": [
        {
          "output_type": "stream",
          "text": [
            "Test accuracy: 0.903\n",
            "Test Classification Report\n",
            "              precision    recall  f1-score   support\n",
            "\n",
            "           0       0.87      0.97      0.92      9394\n",
            "           1       0.95      0.82      0.88      7463\n",
            "\n",
            "    accuracy                           0.90     16857\n",
            "   macro avg       0.91      0.90      0.90     16857\n",
            "weighted avg       0.91      0.90      0.90     16857\n",
            "\n"
          ],
          "name": "stdout"
        }
      ]
    },
    {
      "cell_type": "markdown",
      "metadata": {
        "id": "pcpm2sdAURzu"
      },
      "source": [
        "### Results\n",
        "\n",
        "Configuration specific to this problem:\n",
        "- Embedding dimension: 200\n",
        "- Batch size: 32 (default)\n",
        "- Vocabulary size: 150000\n",
        "- Max vector length: 1528\n",
        "\n",
        "**SMS configuration** (/models/2020_11_26_paper_sms_cnn_en)\n",
        "\n",
        "- Time per epoch: ~38s\n",
        "- 10th epoch accuracy: 0.9118\n",
        "- 10th epoch validation accuracty: 0.9176\n",
        "- Train set accuracy: 0.917\n",
        "- Test set accuracy: 0.92\n",
        "\n",
        "Train set report:\n",
        "\n",
        "|  |Precission|Recall|F1 Score|Support|\n",
        "|:-|:-:|:-:|:-:|:-:|\n",
        "|0|0.89|0.97|0.93|19465|\n",
        "|1|0.96|0.85|0.90|15934|\n",
        "||||||\n",
        "|accuracy|||0.92|35399|\n",
        "|macro avg|0.92|0.91|0.92|35399|\n",
        "|weighted avg|0.92|0.92|0.92|35399|\n",
        "\n",
        "Test set report:\n",
        "\n",
        "|  |Precission|Recall|F1 Score|Support|\n",
        "|:-|:-:|:-:|:-:|:-:|\n",
        "|0|0.90|0.97|0.93|9394|\n",
        "|1|0.96|0.86|0.90|7463|\n",
        "||||||\n",
        "|accuracy|||0.95|16857|\n",
        "|macro avg|0.95|0.95|0.95|16857|\n",
        "|weighted avg|0.95|0.95|0.95|16857|\n",
        "\n",
        "\n",
        "**Twitter configuration** (/models/2020_11_26_paper_twitter_cnn_en)\n",
        "\n",
        "- Time per epoch: ~38s\n",
        "- 10th epoch accuracy: 0.9118\n",
        "- 10th epoch validation accuracty: 0.9176\n",
        "- Train set accuracy: 0.9\n",
        "- Test set accuracy: 0.903\n",
        "\n",
        "Train set report:\n",
        "\n",
        "|  |Precission|Recall|F1 Score|Support|\n",
        "|:-|:-:|:-:|:-:|:-:|\n",
        "|0|0.87|0.97|0.91|19465|\n",
        "|1|0.95|0.82|0.88|15934|\n",
        "||||||\n",
        "|accuracy|||0.90|35399|\n",
        "|macro avg|0.91|0.89|0.90|35399|\n",
        "|weighted avg|0.91|0.90|0.90|35399|\n",
        "\n",
        "Test set report:\n",
        "\n",
        "|  |Precission|Recall|F1 Score|Support|\n",
        "|:-|:-:|:-:|:-:|:-:|\n",
        "|0|0.87|0.97|0.92|9394|\n",
        "|1|0.95|0.82|0.88|7463|\n",
        "||||||\n",
        "|accuracy|||0.90|16857|\n",
        "|macro avg|0.91|0.90|0.90|16857|\n",
        "|weighted avg|0.91|0.90|0.90|16857|"
      ]
    },
    {
      "cell_type": "markdown",
      "metadata": {
        "id": "ONVTTlrEI-0X"
      },
      "source": [
        "## RNN\n",
        "\n",
        "From the paper of Jain et al. the hyperparameters are:\n",
        "\n",
        "|   | SMS | Twitter |\n",
        "|:--|:---:|:-------:|\n",
        "|Number of units| 100 | 100 |\n",
        "|Droput | 0.1 | 0.2 |\n",
        "|Optimizer | Adagrad (lr: 0.1) | Adagrad (lr: 0.1) |\n",
        "|Activation function | ReLu | ReLu |\n",
        "|Epochs | 10 | 10 |\n",
        "\n",
        "Note that we had to ignore the number of features used by the atuthor to be able to fit the vocabulary in the embedding, accounting for multi-language content (i.e. a bigger number of words). To run one or the other simply change the configuration in the code below.\n",
        "\n"
      ]
    },
    {
      "cell_type": "code",
      "metadata": {
        "id": "2UwpErVoI-0Y",
        "colab": {
          "base_uri": "https://localhost:8080/"
        },
        "outputId": "2a74019f-2e02-44a0-b175-c9cfd79f4a67"
      },
      "source": [
        "with tf.device('/device:GPU:0'):\n",
        "  \n",
        "  rnn_model = Sequential()\n",
        "\n",
        "  rnn_model.add(Embedding(input_dim=vocab_size, output_dim=200, input_length=max_length))\n",
        "  rnn_model.add(LSTM(units=100))\n",
        "  rnn_model.add(Dropout(rate=0.2))\n",
        "  rnn_model.add(Dense(units=num_classes, activation=\"sigmoid\"))\n",
        "\n",
        "  rnn_model.compile(loss='categorical_crossentropy', optimizer='adagrad', metrics=['accuracy'])\n",
        "\n",
        "  rnn_history = rnn_model.fit(\n",
        "    X_train,\n",
        "    y_train,\n",
        "    epochs=10,\n",
        "    validation_data=(X_val, y_val)\n",
        ")"
      ],
      "execution_count": 31,
      "outputs": [
        {
          "output_type": "stream",
          "text": [
            "Epoch 1/10\n",
            "1107/1107 [==============================] - 85s 77ms/step - loss: 0.6883 - accuracy: 0.5492 - val_loss: 0.6849 - val_accuracy: 0.5488\n",
            "Epoch 2/10\n",
            "1107/1107 [==============================] - 85s 77ms/step - loss: 0.6816 - accuracy: 0.5499 - val_loss: 0.6785 - val_accuracy: 0.5488\n",
            "Epoch 3/10\n",
            "1107/1107 [==============================] - 85s 77ms/step - loss: 0.6735 - accuracy: 0.5499 - val_loss: 0.6675 - val_accuracy: 0.5488\n",
            "Epoch 4/10\n",
            "1107/1107 [==============================] - 85s 77ms/step - loss: 0.6393 - accuracy: 0.5894 - val_loss: 0.5254 - val_accuracy: 0.7758\n",
            "Epoch 5/10\n",
            "1107/1107 [==============================] - 86s 77ms/step - loss: 0.4678 - accuracy: 0.7818 - val_loss: 0.4420 - val_accuracy: 0.7888\n",
            "Epoch 6/10\n",
            "1107/1107 [==============================] - 85s 77ms/step - loss: 0.4075 - accuracy: 0.8152 - val_loss: 0.3766 - val_accuracy: 0.8378\n",
            "Epoch 7/10\n",
            "1107/1107 [==============================] - 85s 77ms/step - loss: 0.3452 - accuracy: 0.8612 - val_loss: 0.8116 - val_accuracy: 0.5691\n",
            "Epoch 8/10\n",
            "1107/1107 [==============================] - 85s 77ms/step - loss: 0.2821 - accuracy: 0.8990 - val_loss: 0.2407 - val_accuracy: 0.9164\n",
            "Epoch 9/10\n",
            "1107/1107 [==============================] - 86s 77ms/step - loss: 0.2823 - accuracy: 0.9150 - val_loss: 1.5662 - val_accuracy: 0.4512\n",
            "Epoch 10/10\n",
            "1107/1107 [==============================] - 85s 77ms/step - loss: 0.2746 - accuracy: 0.9122 - val_loss: 0.1878 - val_accuracy: 0.9451\n"
          ],
          "name": "stdout"
        }
      ]
    },
    {
      "cell_type": "code",
      "metadata": {
        "id": "FSoGtmccXS3O",
        "colab": {
          "base_uri": "https://localhost:8080/"
        },
        "outputId": "29b020f4-2f8a-4f7e-df7e-385cd3325f2f"
      },
      "source": [
        "rnn_model.summary()"
      ],
      "execution_count": 32,
      "outputs": [
        {
          "output_type": "stream",
          "text": [
            "Model: \"sequential_3\"\n",
            "_________________________________________________________________\n",
            "Layer (type)                 Output Shape              Param #   \n",
            "=================================================================\n",
            "embedding_3 (Embedding)      (None, 1528, 200)         30000000  \n",
            "_________________________________________________________________\n",
            "lstm_1 (LSTM)                (None, 100)               120400    \n",
            "_________________________________________________________________\n",
            "dropout_3 (Dropout)          (None, 100)               0         \n",
            "_________________________________________________________________\n",
            "dense_3 (Dense)              (None, 2)                 202       \n",
            "=================================================================\n",
            "Total params: 30,120,602\n",
            "Trainable params: 30,120,602\n",
            "Non-trainable params: 0\n",
            "_________________________________________________________________\n"
          ],
          "name": "stdout"
        }
      ]
    },
    {
      "cell_type": "code",
      "metadata": {
        "colab": {
          "base_uri": "https://localhost:8080/",
          "height": 295
        },
        "id": "ejKCOg70ELbe",
        "outputId": "a528c274-df21-4a02-bee6-1e6a70be84d9"
      },
      "source": [
        "plot_metrics(rnn_history.history, validation=True)"
      ],
      "execution_count": 33,
      "outputs": [
        {
          "output_type": "display_data",
          "data": {
            "image/png": "[encoded data removed]",
            "text/plain": [
              "<Figure size 864x288 with 2 Axes>"
            ]
          },
          "metadata": {
            "tags": [],
            "needs_background": "light"
          }
        }
      ]
    },
    {
      "cell_type": "code",
      "metadata": {
        "colab": {
          "base_uri": "https://localhost:8080/"
        },
        "id": "u23IpJF7EOz2",
        "outputId": "1f7ad2e4-d0b5-4fae-a99d-475a8626513f"
      },
      "source": [
        "rnn_model.save(f\"{base_path}/models/2020_11_26_paper_twitter_rnn_en\")"
      ],
      "execution_count": 34,
      "outputs": [
        {
          "output_type": "stream",
          "text": [
            "INFO:tensorflow:Assets written to: /content/drive/My Drive/models/2020_11_26_paper_twitter_rnn_en/assets\n"
          ],
          "name": "stdout"
        }
      ]
    },
    {
      "cell_type": "code",
      "metadata": {
        "colab": {
          "base_uri": "https://localhost:8080/"
        },
        "id": "v7xUt3AiEVdy",
        "outputId": "22339653-e7ea-4d64-d6b6-1481a17cffff"
      },
      "source": [
        "rnn_y_train_predclass = rnn_model.predict(X_train)\n",
        "\n",
        "sl_rnn_y_train_predclass = np.argmax(rnn_y_train_predclass, axis=1)\n",
        "sl_y_train = np.argmax(y_train, axis=1)\n",
        "\n",
        "rnn_train_accuracy = round(accuracy_score(sl_y_train, sl_rnn_y_train_predclass), 3)\n",
        "print(f\"Train accuracy: {rnn_train_accuracy}\")\n",
        "\n",
        "print(\"Train Classification Report\")\n",
        "print(classification_report(sl_y_train, sl_rnn_y_train_predclass))"
      ],
      "execution_count": 35,
      "outputs": [
        {
          "output_type": "stream",
          "text": [
            "Train accuracy: 0.946\n",
            "Train Classification Report\n",
            "              precision    recall  f1-score   support\n",
            "\n",
            "           0       0.92      0.99      0.95     19465\n",
            "           1       0.99      0.89      0.94     15934\n",
            "\n",
            "    accuracy                           0.95     35399\n",
            "   macro avg       0.95      0.94      0.95     35399\n",
            "weighted avg       0.95      0.95      0.95     35399\n",
            "\n"
          ],
          "name": "stdout"
        }
      ]
    },
    {
      "cell_type": "code",
      "metadata": {
        "colab": {
          "base_uri": "https://localhost:8080/"
        },
        "id": "xU8AqCe4Er5N",
        "outputId": "c774e8ff-092b-402c-bd38-747468ac7f8a"
      },
      "source": [
        "rnn_y_test_predclass = rnn_model.predict(X_test)\n",
        "\n",
        "sl_rnn_y_test_predclass = np.argmax(rnn_y_test_predclass, axis=1)\n",
        "sl_y_test = np.argmax(y_test, axis=1)\n",
        "\n",
        "rnn_test_accuracy = round(accuracy_score(sl_y_test, sl_rnn_y_test_predclass), 3)\n",
        "print(f\"Test accuracy: {rnn_test_accuracy}\")\n",
        "\n",
        "print(\"Test Classification Report\")\n",
        "print (classification_report(sl_y_test, sl_rnn_y_test_predclass))"
      ],
      "execution_count": 36,
      "outputs": [
        {
          "output_type": "stream",
          "text": [
            "Test accuracy: 0.946\n",
            "Test Classification Report\n",
            "              precision    recall  f1-score   support\n",
            "\n",
            "           0       0.92      0.99      0.95      9394\n",
            "           1       0.99      0.89      0.94      7463\n",
            "\n",
            "    accuracy                           0.95     16857\n",
            "   macro avg       0.95      0.94      0.94     16857\n",
            "weighted avg       0.95      0.95      0.95     16857\n",
            "\n"
          ],
          "name": "stdout"
        }
      ]
    },
    {
      "cell_type": "markdown",
      "metadata": {
        "id": "5Efchwz3c_0n"
      },
      "source": [
        "### Results\n",
        "\n",
        "Configuration specific to this problem:\n",
        "- Embedding dimension: 200\n",
        "- Batch size: 32 (default)\n",
        "- Vocabulary size: 150000\n",
        "- Max vector length: 1528\n",
        "\n",
        "**SMS configuration** (/models/2020_11_26_paper_sms_rnn_en)\n",
        "\n",
        "- Time per epoch: ~85s\n",
        "- 10th epoch accuracy: 0.9463\n",
        "- 10th epoch validation accuracty: 0.9504\n",
        "- Train set accuracy: 0.948\n",
        "- Test set accuracy: 0.949\n",
        "\n",
        "Train set report:\n",
        "\n",
        "|  |Precission|Recall|F1 Score|Support|\n",
        "|:-|:-:|:-:|:-:|:-:|\n",
        "|0|0.92|0.99|0.95|19465|\n",
        "|1|0.99|0.89|0.94|15394|\n",
        "||||||\n",
        "|accuracy|||0.95|35399|\n",
        "|macro avg|0.95|0.94|0.95|35399|\n",
        "|weighted avg|0.95|0.95|0.95|35399|\n",
        "\n",
        "Test set report:\n",
        "\n",
        "|  |Precission|Recall|F1 Score|Support|\n",
        "|:-|:-:|:-:|:-:|:-:|\n",
        "|0|0.92|0.99|0.96|9394|\n",
        "|1|0.99|0.90|0.94|7463|\n",
        "||||||\n",
        "|accuracy|||0.95|16857|\n",
        "|macro avg|0.96|0.94|0.95|16857|\n",
        "|weighted avg|0.95|0.95|0.95|16857|\n",
        "\n",
        "\n",
        "**Twitter configuration** (/models/2020_11_26_paper_twitter_rnn_en)\n",
        "\n",
        "- Time per epoch: ~85s\n",
        "- 10th epoch accuracy: 0.9122\n",
        "- 10th epoch validation accuracty: 0.9451\n",
        "- Train set accuracy: 0.946\n",
        "- Test set accuracy: 0.946\n",
        "\n",
        "Train set report:\n",
        "\n",
        "|  |Precission|Recall|F1 Score|Support|\n",
        "|:-|:-:|:-:|:-:|:-:|\n",
        "|0|0.92|0.99|0.95|19465|\n",
        "|1|0.99|0.89|0.94|15394|\n",
        "||||||\n",
        "|accuracy|||0.95|35399|\n",
        "|macro avg|0.95|0.94|0.95|35399|\n",
        "|weighted avg|0.95|0.95|0.95|35399|\n",
        "\n",
        "Test set report:\n",
        "\n",
        "|  |Precission|Recall|F1 Score|Support|\n",
        "|:-|:-:|:-:|:-:|:-:|\n",
        "|0|0.92|0.99|0.95|9394|\n",
        "|1|0.99|0.89|0.94|7463|\n",
        "||||||\n",
        "|accuracy|||0.95|16857|\n",
        "|macro avg|0.96|0.94|0.94|16857|\n",
        "|weighted avg|0.95|0.95|0.95|16857|"
      ]
    },
    {
      "cell_type": "markdown",
      "metadata": {
        "id": "NABpDjhz6l1g"
      },
      "source": [
        "## CNN + RNN\n",
        "\n",
        "\n",
        "From the paper of Jain et al. the hyperparameters are:\n",
        "\n",
        "|   | SMS | Twitter |\n",
        "|:--|:---:|:-------:|\n",
        "|Number of filters| 128 | 54 |\n",
        "|Number of units| 100 | 100 |\n",
        "|Filter length| 5 | 4 |\n",
        "|Droput | 0.1 | 0.2 |\n",
        "|Optimizer | Adagrad (lr: 0.1) | Adagrad (lr: 0.1) |\n",
        "|Activation function | ReLu | ReLu |\n",
        "|Epochs | 10 | 10 |\n",
        "\n",
        "Note that we had to ignore the number of features used by the atuthor to be able to fit the vocabulary in the embedding, accounting for multi-language content (i.e. a bigger number of words). To run one or the other simply change the configuration in the code below."
      ]
    },
    {
      "cell_type": "code",
      "metadata": {
        "colab": {
          "base_uri": "https://localhost:8080/"
        },
        "id": "2v01LC_56x1J",
        "outputId": "32b38fcf-b297-4cbe-fe5a-bd33764cbb2a"
      },
      "source": [
        "with tf.device('/device:GPU:0'):\n",
        "  \n",
        "  crnn_model = Sequential()\n",
        "\n",
        "  crnn_model.add(Embedding(input_dim=vocab_size, output_dim=200, input_length=max_length))\n",
        "  crnn_model.add(Conv1D(filters=54, kernel_size=4, activation=\"relu\"))\n",
        "  crnn_model.add(MaxPooling1D())\n",
        "  crnn_model.add(LSTM(units=100))\n",
        "  crnn_model.add(Dropout(rate=0.2))\n",
        "  crnn_model.add(Flatten())\n",
        "  crnn_model.add(Dense(units=num_classes, activation=\"softmax\"))\n",
        "\n",
        "  crnn_model.compile(loss='categorical_crossentropy', optimizer='adagrad', metrics=['accuracy'])\n",
        "\n",
        "  crnn_history = crnn_model.fit(\n",
        "    X_train,\n",
        "    y_train,\n",
        "    epochs=10,\n",
        "    validation_data=(X_val, y_val)\n",
        ")"
      ],
      "execution_count": 43,
      "outputs": [
        {
          "output_type": "stream",
          "text": [
            "Epoch 1/10\n",
            "1107/1107 [==============================] - 63s 57ms/step - loss: 0.6735 - accuracy: 0.5499 - val_loss: 0.6462 - val_accuracy: 0.5488\n",
            "Epoch 2/10\n",
            "1107/1107 [==============================] - 61s 55ms/step - loss: 0.5303 - accuracy: 0.7154 - val_loss: 0.4607 - val_accuracy: 0.7745\n",
            "Epoch 3/10\n",
            "1107/1107 [==============================] - 60s 55ms/step - loss: 0.4432 - accuracy: 0.7792 - val_loss: 0.4280 - val_accuracy: 0.7855\n",
            "Epoch 4/10\n",
            "1107/1107 [==============================] - 61s 55ms/step - loss: 0.4090 - accuracy: 0.8025 - val_loss: 0.3881 - val_accuracy: 0.8205\n",
            "Epoch 5/10\n",
            "1107/1107 [==============================] - 60s 55ms/step - loss: 0.3552 - accuracy: 0.8595 - val_loss: 0.3164 - val_accuracy: 0.8907\n",
            "Epoch 6/10\n",
            "1107/1107 [==============================] - 60s 54ms/step - loss: 0.2613 - accuracy: 0.9160 - val_loss: 0.2074 - val_accuracy: 0.9319\n",
            "Epoch 7/10\n",
            "1107/1107 [==============================] - 60s 54ms/step - loss: 0.1865 - accuracy: 0.9417 - val_loss: 0.1664 - val_accuracy: 0.9464\n",
            "Epoch 8/10\n",
            "1107/1107 [==============================] - 60s 54ms/step - loss: 0.1636 - accuracy: 0.9485 - val_loss: 0.1444 - val_accuracy: 0.9509\n",
            "Epoch 9/10\n",
            "1107/1107 [==============================] - 60s 54ms/step - loss: 0.1349 - accuracy: 0.9556 - val_loss: 0.1294 - val_accuracy: 0.9560\n",
            "Epoch 10/10\n",
            "1107/1107 [==============================] - 60s 54ms/step - loss: 0.1215 - accuracy: 0.9587 - val_loss: 0.1214 - val_accuracy: 0.9601\n"
          ],
          "name": "stdout"
        }
      ]
    },
    {
      "cell_type": "code",
      "metadata": {
        "colab": {
          "base_uri": "https://localhost:8080/"
        },
        "id": "OyMX6r2m7GYU",
        "outputId": "e944d582-e43d-4511-d09f-fa5b50414a38"
      },
      "source": [
        "crnn_model.summary()"
      ],
      "execution_count": 38,
      "outputs": [
        {
          "output_type": "stream",
          "text": [
            "Model: \"sequential_4\"\n",
            "_________________________________________________________________\n",
            "Layer (type)                 Output Shape              Param #   \n",
            "=================================================================\n",
            "embedding_4 (Embedding)      (None, 1528, 200)         30000000  \n",
            "_________________________________________________________________\n",
            "conv1d_2 (Conv1D)            (None, 1524, 128)         128128    \n",
            "_________________________________________________________________\n",
            "max_pooling1d_2 (MaxPooling1 (None, 762, 128)          0         \n",
            "_________________________________________________________________\n",
            "lstm_2 (LSTM)                (None, 100)               91600     \n",
            "_________________________________________________________________\n",
            "dropout_4 (Dropout)          (None, 100)               0         \n",
            "_________________________________________________________________\n",
            "flatten_2 (Flatten)          (None, 100)               0         \n",
            "_________________________________________________________________\n",
            "dense_4 (Dense)              (None, 2)                 202       \n",
            "=================================================================\n",
            "Total params: 30,219,930\n",
            "Trainable params: 30,219,930\n",
            "Non-trainable params: 0\n",
            "_________________________________________________________________\n"
          ],
          "name": "stdout"
        }
      ]
    },
    {
      "cell_type": "code",
      "metadata": {
        "colab": {
          "base_uri": "https://localhost:8080/",
          "height": 295
        },
        "id": "4JkL6Kaf_ux7",
        "outputId": "15913b19-eb7d-403b-cf65-78e711403308"
      },
      "source": [
        "plot_metrics(crnn_history.history, validation=True)"
      ],
      "execution_count": 44,
      "outputs": [
        {
          "output_type": "display_data",
          "data": {
            "image/png": "[encoded data removed]",
            "text/plain": [
              "<Figure size 864x288 with 2 Axes>"
            ]
          },
          "metadata": {
            "tags": [],
            "needs_background": "light"
          }
        }
      ]
    },
    {
      "cell_type": "code",
      "metadata": {
        "colab": {
          "base_uri": "https://localhost:8080/"
        },
        "id": "UQadXwSn_0Pj",
        "outputId": "9af167cd-9899-499d-c45b-812bd5059887"
      },
      "source": [
        "crnn_model.save(f\"{base_path}/models/2020_11_26_paper_twitter_crnn_en\")"
      ],
      "execution_count": 45,
      "outputs": [
        {
          "output_type": "stream",
          "text": [
            "INFO:tensorflow:Assets written to: /content/drive/My Drive/models/2020_11_26_paper_twitter_crnn_en/assets\n"
          ],
          "name": "stdout"
        }
      ]
    },
    {
      "cell_type": "code",
      "metadata": {
        "colab": {
          "base_uri": "https://localhost:8080/"
        },
        "id": "-UT444Aq_5ew",
        "outputId": "f6c732bc-1076-4c43-aa49-011ee40fa6d8"
      },
      "source": [
        "crnn_y_train_predclass = crnn_model.predict(X_train)\n",
        "\n",
        "sl_crnn_y_train_predclass = np.argmax(crnn_y_train_predclass, axis=1)\n",
        "sl_y_train = np.argmax(y_train, axis=1)\n",
        "\n",
        "crnn_train_accuracy = round(accuracy_score(sl_y_train, sl_crnn_y_train_predclass), 3)\n",
        "print(f\"Train accuracy: {crnn_train_accuracy}\")\n",
        "\n",
        "print(\"Train Classification Report\")\n",
        "print(classification_report(sl_y_train, sl_crnn_y_train_predclass))"
      ],
      "execution_count": 46,
      "outputs": [
        {
          "output_type": "stream",
          "text": [
            "Train accuracy: 0.962\n",
            "Train Classification Report\n",
            "              precision    recall  f1-score   support\n",
            "\n",
            "           0       0.94      0.99      0.97     19465\n",
            "           1       0.99      0.93      0.96     15934\n",
            "\n",
            "    accuracy                           0.96     35399\n",
            "   macro avg       0.97      0.96      0.96     35399\n",
            "weighted avg       0.96      0.96      0.96     35399\n",
            "\n"
          ],
          "name": "stdout"
        }
      ]
    },
    {
      "cell_type": "code",
      "metadata": {
        "colab": {
          "base_uri": "https://localhost:8080/"
        },
        "id": "LvbbMAVM_-_B",
        "outputId": "8287058f-5198-4d3e-f062-03bf41bd79ef"
      },
      "source": [
        "crnn_y_test_predclass = crnn_model.predict(X_test)\n",
        "\n",
        "sl_crnn_y_test_predclass = np.argmax(crnn_y_test_predclass, axis=1)\n",
        "sl_y_test = np.argmax(y_test, axis=1)\n",
        "\n",
        "crnn_test_accuracy = round(accuracy_score(sl_y_test, sl_crnn_y_test_predclass), 3)\n",
        "print(f\"Test accuracy: {crnn_test_accuracy}\")\n",
        "\n",
        "print(\"Test Classification Report\")\n",
        "print (classification_report(sl_y_test, sl_crnn_y_test_predclass))"
      ],
      "execution_count": 47,
      "outputs": [
        {
          "output_type": "stream",
          "text": [
            "Test accuracy: 0.963\n",
            "Test Classification Report\n",
            "              precision    recall  f1-score   support\n",
            "\n",
            "           0       0.95      0.99      0.97      9394\n",
            "           1       0.99      0.93      0.96      7463\n",
            "\n",
            "    accuracy                           0.96     16857\n",
            "   macro avg       0.97      0.96      0.96     16857\n",
            "weighted avg       0.96      0.96      0.96     16857\n",
            "\n"
          ],
          "name": "stdout"
        }
      ]
    },
    {
      "cell_type": "markdown",
      "metadata": {
        "id": "eVNcUya-Gg39"
      },
      "source": [
        "### Results\n",
        "\n",
        "Configuration specific to this problem:\n",
        "- Embedding dimension: 200\n",
        "- Batch size: 32 (default)\n",
        "- Vocabulary size: 150000\n",
        "- Max vector length: 4539\n",
        "\n",
        "**SMS configuration** (/models/2020_11_26_paper_sms_crnn_en)\n",
        "\n",
        "- Time per epoch: ~69s\n",
        "- 10th epoch accuracy: 0.9644\n",
        "- 10th epoch validation accuracy: 0.9626\n",
        "- Train set accuracy: 0.965\n",
        "- Test set accuracy: 0.965\n",
        "\n",
        "Train set report:\n",
        "\n",
        "|  |Precission|Recall|F1 Score|Support|\n",
        "|:-|:-:|:-:|:-:|:-:|\n",
        "|0|0.94|0.99|0.97|19465|\n",
        "|1|0.99|0.93|0.96|15934|\n",
        "||||||\n",
        "|accuracy|||0.96|35399|\n",
        "|macro avg|0.97|0.96|0.96|35399|\n",
        "|weighted avg|0.97|0.96|0.96|35399|\n",
        "\n",
        "Test set report:\n",
        "\n",
        "|  |Precission|Recall|F1 Score|Support|\n",
        "|:-|:-:|:-:|:-:|:-:|\n",
        "|0|0.95|0.99|0.97|9394|\n",
        "|1|0.99|0.93|0.96|7463|\n",
        "||||||\n",
        "|accuracy|||0.96|16857|\n",
        "|macro avg|0.97|0.96|0.96|16857|\n",
        "|weighted avg|0.97|0.96|0.96|16857|\n",
        "\n",
        "\n",
        "**Twitter configuration** (/models/2020_11_26_paper_crnn_twitter_en)\n",
        "\n",
        "- Time per epoch: ~69s\n",
        "- 10th epoch accuracy: 0.9644\n",
        "- 10th epoch validation accuracy: 0.9626\n",
        "- Train set accuracy: 0.962\n",
        "- Test set accuracy: 0.963\n",
        "\n",
        "Train set report:\n",
        "\n",
        "|  |Precission|Recall|F1 Score|Support|\n",
        "|:-|:-:|:-:|:-:|:-:|\n",
        "|0|0.94|0.99|0.97|19465|\n",
        "|1|0.99|0.93|0.96|15934|\n",
        "||||||\n",
        "|accuracy|||0.96|35399|\n",
        "|macro avg|0.97|0.96|0.96|35399|\n",
        "|weighted avg|0.96|0.96|0.96|35399|\n",
        "\n",
        "\n",
        "Test set report:\n",
        "\n",
        "|  |Precission|Recall|F1 Score|Support|\n",
        "|:-|:-:|:-:|:-:|:-:|\n",
        "|0|0.95|0.99|0.97|9394|\n",
        "|1|0.99|0.93|0.96|7463|\n",
        "||||||\n",
        "|accuracy|||0.96|16857|\n",
        "|macro avg|0.97|0.96|0.96|16857|\n",
        "|weighted avg|0.96|0.96|0.96|16857|"
      ]
    },
    {
      "cell_type": "code",
      "metadata": {
        "id": "0f0Q4MJkHSkY"
      },
      "source": [
        ""
      ],
      "execution_count": null,
      "outputs": []
    }
  ]
}