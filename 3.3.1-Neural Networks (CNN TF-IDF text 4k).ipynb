{
  "nbformat": 4,
  "nbformat_minor": 0,
  "metadata": {
    "kernelspec": {
      "display_name": "Python 3",
      "language": "python",
      "name": "python3"
    },
    "language_info": {
      "codemirror_mode": {
        "name": "ipython",
        "version": 3
      },
      "file_extension": ".py",
      "mimetype": "text/x-python",
      "name": "python",
      "nbconvert_exporter": "python",
      "pygments_lexer": "ipython3",
      "version": "3.7.7"
    },
    "colab": {
      "name": "2.1-Neural Networks (CNN-TF-IDF text 4k).ipynb",
      "provenance": [],
      "collapsed_sections": [
        "nfwZ72oHg6AC"
      ]
    },
    "accelerator": "GPU"
  },
  "cells": [
    {
      "cell_type": "markdown",
      "metadata": {
        "id": "trByhYZcekK6"
      },
      "source": [
        "# Neural Networks: CNN\n",
        "\n",
        "The work of this notebook is based on the paper from Jain et al. [1][2]. A CNN is trained using semantically enriched vectors (using Word2Vec).\n",
        "\n",
        "\n",
        "[1] Gauri Jain, Manisha Sharma, and Basant Agarwal. Spam detection on social media using semantic convolutional neural network. *International Journal of Knowledge Discovery inBioinformatics (IJKDB)*, 8(1):12–26, 2018.\n",
        "\n",
        "[2] Gauri Jain, Manisha Sharma, and Basant Agarwal. Spam detection in social media using convolutional and long short term memory neural network. *Annals of Mathematics andArtificial Intelligence*, 85(1):21–44, 2019"
      ]
    },
    {
      "cell_type": "code",
      "metadata": {
        "id": "-_och0ZDekK_"
      },
      "source": [
        "# Imports\n",
        "import numpy as np\n",
        "import matplotlib.pyplot as plt\n",
        "import pandas as pd\n",
        "\n",
        "from keras.utils import to_categorical\n",
        "from keras.models import Sequential\n",
        "from keras.layers import Conv1D, Dense, Dropout, Flatten, Input, LSTM, MaxPooling1D\n",
        "from sklearn.decomposition import PCA\n",
        "from sklearn.feature_extraction.text import TfidfVectorizer\n",
        "from sklearn.metrics import accuracy_score, classification_report\n",
        "from sklearn.model_selection import train_test_split"
      ],
      "execution_count": 1,
      "outputs": []
    },
    {
      "cell_type": "code",
      "metadata": {
        "id": "Z68FbTS0ekLP"
      },
      "source": [
        "def plot_metrics(history, validation=False):\n",
        "    fig, (ax1, ax2) = plt.subplots(1, 2)\n",
        "    fig.set_figwidth(12)\n",
        "    # Accuracy\n",
        "    ax1.set_title('Model accuracy')\n",
        "    ax1.set_ylabel('Accuracy')\n",
        "    ax1.set_xlabel('Epoch')\n",
        "    ax1.plot(history['accuracy'])\n",
        "    if validation:\n",
        "        ax1.plot(history['val_accuracy'])\n",
        "    ax1.legend(['Train', 'Validation'], loc='upper left')\n",
        "\n",
        "    # Loss\n",
        "    ax2.set_title('Model loss') \n",
        "    ax2.set_ylabel('Loss') \n",
        "    ax2.set_xlabel('Epoch')\n",
        "    ax2.plot(history['loss'])\n",
        "    if validation:\n",
        "        ax2.plot(history['val_loss'])\n",
        "    ax2.legend(['Train', 'Validation'], loc='upper left') \n",
        "\n",
        "    plt.show()"
      ],
      "execution_count": 2,
      "outputs": []
    },
    {
      "cell_type": "code",
      "metadata": {
        "id": "9XumP6dcekLS"
      },
      "source": [
        "def plot_2d_space(X, y, label='Classes'):   \n",
        "    colors = ['#1F77B4', '#FF7F0E']\n",
        "    markers = ['o', 's']\n",
        "    for l, c, m in zip(np.unique(y), colors, markers):\n",
        "        plt.scatter(\n",
        "            X[y==l, 0],\n",
        "            X[y==l, 1],\n",
        "            c=c, label=l, marker=m\n",
        "        )\n",
        "    plt.title(label)\n",
        "    plt.legend(loc='upper right')\n",
        "    plt.show()"
      ],
      "execution_count": 3,
      "outputs": []
    },
    {
      "cell_type": "code",
      "metadata": {
        "id": "TrU4LANSekLU"
      },
      "source": [
        "from mpl_toolkits.mplot3d import Axes3D\n",
        "\n",
        "def plot_3d_space(X, y, title):  \n",
        "    colors = ['#1F77B4', '#FF7F0E']\n",
        "    markers = ['o', 's']\n",
        "    fig = plt.figure(figsize=(8, 8))\n",
        "    ax = Axes3D(fig, elev=20, azim=134)\n",
        "    \n",
        "    for l, c, m in zip(np.unique(y), colors, markers):\n",
        "        ax.scatter(\n",
        "            X[y==l, 0],\n",
        "            X[y==l, 0],\n",
        "            X[y==l, 0],\n",
        "            c=c, label=l, marker=m, edgecolor='k'\n",
        "        )\n",
        "\n",
        "    ax.w_xaxis.set_ticklabels([])\n",
        "    ax.w_yaxis.set_ticklabels([])\n",
        "    ax.w_zaxis.set_ticklabels([])\n",
        "    ax.dist = 12\n",
        "    ax.set_title(title)\n",
        "    ax.legend(loc='upper right')"
      ],
      "execution_count": 4,
      "outputs": []
    },
    {
      "cell_type": "code",
      "metadata": {
        "id": "Crw6KEjxesFn",
        "colab": {
          "base_uri": "https://localhost:8080/"
        },
        "outputId": "378d2175-7b18-4a7c-fdfc-fe535ff061e9"
      },
      "source": [
        "# Show versions\n",
        "import platform\n",
        "import keras\n",
        "import tensorflow as tf\n",
        "\n",
        "print(f\"Python: {platform.python_version()}\")\n",
        "print(f\"Keras: {keras.__version__}\")\n",
        "print(f\"Tensorflow: {tf.__version__}\")"
      ],
      "execution_count": 5,
      "outputs": [
        {
          "output_type": "stream",
          "text": [
            "Python: 3.6.9\n",
            "Keras: 2.4.3\n",
            "Tensorflow: 2.3.0\n"
          ],
          "name": "stdout"
        }
      ]
    },
    {
      "cell_type": "code",
      "metadata": {
        "id": "ipnov6m-iEsw",
        "colab": {
          "base_uri": "https://localhost:8080/"
        },
        "outputId": "b2e8c4ea-6dc0-49dc-d6ed-b34ce39fce13"
      },
      "source": [
        "# Connect to GPU\n",
        "%tensorflow_version 2.x\n",
        "import tensorflow as tf\n",
        "device_name = tf.test.gpu_device_name()\n",
        "if device_name != '/device:GPU:0':\n",
        "  raise SystemError('GPU device not found')\n",
        "print('Found GPU at: {}'.format(device_name))"
      ],
      "execution_count": 6,
      "outputs": [
        {
          "output_type": "stream",
          "text": [
            "Found GPU at: /device:GPU:0\n"
          ],
          "name": "stdout"
        }
      ]
    },
    {
      "cell_type": "markdown",
      "metadata": {
        "id": "yo2Sl7ZJekLW"
      },
      "source": [
        "## Data loading and vectorization"
      ]
    },
    {
      "cell_type": "code",
      "metadata": {
        "id": "L3TAtbkifNND",
        "colab": {
          "base_uri": "https://localhost:8080/"
        },
        "outputId": "05d44622-a1d4-49ed-f0ef-e2d74964ba93"
      },
      "source": [
        "# When using Goolge Colab\n",
        "from google.colab import drive\n",
        "drive.mount('/content/drive')"
      ],
      "execution_count": 7,
      "outputs": [
        {
          "output_type": "stream",
          "text": [
            "Drive already mounted at /content/drive; to attempt to forcibly remount, call drive.mount(\"/content/drive\", force_remount=True).\n"
          ],
          "name": "stdout"
        }
      ]
    },
    {
      "cell_type": "code",
      "metadata": {
        "id": "Vmab2vgcfN53"
      },
      "source": [
        "base_path = \"/content/drive/My Drive\""
      ],
      "execution_count": 8,
      "outputs": []
    },
    {
      "cell_type": "code",
      "metadata": {
        "id": "EWngLLT_ekLX"
      },
      "source": [
        "full_filepath = f\"{base_path}/datasets/zenodo_open_metadata_2020-11-14_balanced_text_4000.jsonl\"\n",
        "full_df = pd.read_json(full_filepath, lines=True)  # The file is JSONLines"
      ],
      "execution_count": 9,
      "outputs": []
    },
    {
      "cell_type": "code",
      "metadata": {
        "id": "iHgvLweYekLY",
        "colab": {
          "base_uri": "https://localhost:8080/",
          "height": 204
        },
        "outputId": "d1bf43e8-afee-416b-fb20-b2357b3d0a6f"
      },
      "source": [
        "full_df.head()"
      ],
      "execution_count": 10,
      "outputs": [
        {
          "output_type": "execute_result",
          "data": {
            "text/html": [
              "<div>\n",
              "<style scoped>\n",
              "    .dataframe tbody tr th:only-of-type {\n",
              "        vertical-align: middle;\n",
              "    }\n",
              "\n",
              "    .dataframe tbody tr th {\n",
              "        vertical-align: top;\n",
              "    }\n",
              "\n",
              "    .dataframe thead th {\n",
              "        text-align: right;\n",
              "    }\n",
              "</style>\n",
              "<table border=\"1\" class=\"dataframe\">\n",
              "  <thead>\n",
              "    <tr style=\"text-align: right;\">\n",
              "      <th></th>\n",
              "      <th>recid</th>\n",
              "      <th>text_4000</th>\n",
              "      <th>spam</th>\n",
              "    </tr>\n",
              "  </thead>\n",
              "  <tbody>\n",
              "    <tr>\n",
              "      <th>0</th>\n",
              "      <td>1835666</td>\n",
              "      <td>the etiology of acute pleurisy with effusion n/a</td>\n",
              "      <td>False</td>\n",
              "    </tr>\n",
              "    <tr>\n",
              "      <th>1</th>\n",
              "      <td>3044415</td>\n",
              "      <td>biodiversity taxonomy terrestrial herbarium so...</td>\n",
              "      <td>False</td>\n",
              "    </tr>\n",
              "    <tr>\n",
              "      <th>2</th>\n",
              "      <td>2071031</td>\n",
              "      <td>zur kenntniss des olivenls n/a</td>\n",
              "      <td>False</td>\n",
              "    </tr>\n",
              "    <tr>\n",
              "      <th>3</th>\n",
              "      <td>2825828</td>\n",
              "      <td>science school was burned: a case study of cri...</td>\n",
              "      <td>False</td>\n",
              "    </tr>\n",
              "    <tr>\n",
              "      <th>4</th>\n",
              "      <td>1683734</td>\n",
              "      <td>the heat of vaporization of air n/a</td>\n",
              "      <td>False</td>\n",
              "    </tr>\n",
              "  </tbody>\n",
              "</table>\n",
              "</div>"
            ],
            "text/plain": [
              "     recid                                          text_4000   spam\n",
              "0  1835666   the etiology of acute pleurisy with effusion n/a  False\n",
              "1  3044415  biodiversity taxonomy terrestrial herbarium so...  False\n",
              "2  2071031                     zur kenntniss des olivenls n/a  False\n",
              "3  2825828  science school was burned: a case study of cri...  False\n",
              "4  1683734                the heat of vaporization of air n/a  False"
            ]
          },
          "metadata": {
            "tags": []
          },
          "execution_count": 10
        }
      ]
    },
    {
      "cell_type": "code",
      "metadata": {
        "id": "uA4fJAZRekLb"
      },
      "source": [
        "# Split dataset\n",
        "labels = full_df['spam']\n",
        "cat_labels = to_categorical(labels)\n",
        "data = full_df[\"text_4000\"]"
      ],
      "execution_count": 11,
      "outputs": []
    },
    {
      "cell_type": "markdown",
      "metadata": {
        "id": "nfwZ72oHg6AC"
      },
      "source": [
        "### Display the distribution in 2D and 3D using PCA"
      ]
    },
    {
      "cell_type": "markdown",
      "metadata": {
        "id": "gDd7AtvzhnAG"
      },
      "source": [
        "From the paper of Jain et al. the optimal number of features is 5000 for the SMS dataset and 8000 for Twitter's one."
      ]
    },
    {
      "cell_type": "code",
      "metadata": {
        "id": "QS5f2c5ohfW6"
      },
      "source": [
        "num_features = 5000"
      ],
      "execution_count": 12,
      "outputs": []
    },
    {
      "cell_type": "code",
      "metadata": {
        "id": "6w4pSincggTP"
      },
      "source": [
        "# Vectorize the full data for displaying purposes\n",
        "tfidf = TfidfVectorizer(max_features=num_features, ngram_range=(4, 5), analyzer='word', stop_words='english')"
      ],
      "execution_count": 13,
      "outputs": []
    },
    {
      "cell_type": "code",
      "metadata": {
        "id": "xGOyIft9gg9b"
      },
      "source": [
        "# When using TF-IDF the data_vec needs to be made dense (it is a sparse one), use `.todense()`\n",
        "data_vec = tfidf.fit_transform(data).todense()"
      ],
      "execution_count": 14,
      "outputs": []
    },
    {
      "cell_type": "code",
      "metadata": {
        "id": "1P_HB3pPgi6P"
      },
      "source": [
        "pca_2 = PCA(n_components=2)\n",
        "\n",
        "# y = labels (no need to assign)\n",
        "X_2d = pca_2.fit_transform(data_vec)"
      ],
      "execution_count": 15,
      "outputs": []
    },
    {
      "cell_type": "code",
      "metadata": {
        "id": "uPJHoT7igjRF",
        "colab": {
          "base_uri": "https://localhost:8080/",
          "height": 281
        },
        "outputId": "287aa061-a51a-48a7-825e-a5953473d074"
      },
      "source": [
        "plot_2d_space(X_2d, labels, 'Balanced dataset (2 PCA components)')"
      ],
      "execution_count": 16,
      "outputs": [
        {
          "output_type": "display_data",
          "data": {
            "image/png": "[encoded data removed]",
            "text/plain": [
              "<Figure size 432x288 with 1 Axes>"
            ]
          },
          "metadata": {
            "tags": [],
            "needs_background": "light"
          }
        }
      ]
    },
    {
      "cell_type": "code",
      "metadata": {
        "id": "3QEujtKshN7B"
      },
      "source": [
        "pca_3 = PCA(n_components=3)\n",
        "\n",
        "# y = labels (no need to assign)\n",
        "X_3d = pca_3.fit_transform(data_vec)"
      ],
      "execution_count": 17,
      "outputs": []
    },
    {
      "cell_type": "code",
      "metadata": {
        "id": "pM04oXXKhVNv",
        "colab": {
          "base_uri": "https://localhost:8080/",
          "height": 607
        },
        "outputId": "63d9969a-918e-4008-9b30-5a8574b01264"
      },
      "source": [
        "plot_3d_space(X_3d, labels, 'Balanced dataset (3 PCA components)')"
      ],
      "execution_count": 18,
      "outputs": [
        {
          "output_type": "display_data",
          "data": {
            "image/png": "[encoded data removed]",
            "text/plain": [
              "<Figure size 576x576 with 1 Axes>"
            ]
          },
          "metadata": {
            "tags": [],
            "needs_background": "light"
          }
        }
      ]
    },
    {
      "cell_type": "markdown",
      "metadata": {
        "id": "xtPDXyuYjaEZ"
      },
      "source": [
        "### Dataset split and preparation"
      ]
    },
    {
      "cell_type": "code",
      "metadata": {
        "id": "L7lpVF4zgdeN"
      },
      "source": [
        "X_train_orig, X_test_orig, y_train, y_test = train_test_split(data, cat_labels, test_size=0.3, random_state=422)\n",
        "X_train_orig, X_val_orig, y_train, y_val = train_test_split(X_train_orig, y_train, test_size=0.1, random_state=422)"
      ],
      "execution_count": 12,
      "outputs": []
    },
    {
      "cell_type": "code",
      "metadata": {
        "id": "yyC9g8hkrpVE"
      },
      "source": [
        "num_features = 5000"
      ],
      "execution_count": 13,
      "outputs": []
    },
    {
      "cell_type": "code",
      "metadata": {
        "id": "Q7S6JmUtekLg"
      },
      "source": [
        "# Vectorize text input\n",
        "tfidf = TfidfVectorizer(max_features=num_features, ngram_range=(4, 5), analyzer='word', stop_words='english')"
      ],
      "execution_count": 14,
      "outputs": []
    },
    {
      "cell_type": "code",
      "metadata": {
        "id": "4xlR4E1MekLh"
      },
      "source": [
        "X_train_vec = tfidf.fit_transform(X_train_orig).todense()\n",
        "X_val_vec = tfidf.fit_transform(X_val_orig).todense()\n",
        "X_test_vec = tfidf.transform(X_test_orig).todense()"
      ],
      "execution_count": 15,
      "outputs": []
    },
    {
      "cell_type": "code",
      "metadata": {
        "id": "fCae8GlsekLj",
        "colab": {
          "base_uri": "https://localhost:8080/"
        },
        "outputId": "d8ff60b6-1d35-4073-ecf7-94c4b65784ef"
      },
      "source": [
        "print(f\"Original training set shape {X_train_vec.shape}\")\n",
        "print(f\"Original validation set shape {X_val_vec.shape}\")\n",
        "print(f\"Original test set shape {X_test_vec.shape}\")"
      ],
      "execution_count": 16,
      "outputs": [
        {
          "output_type": "stream",
          "text": [
            "Original training set shape (47607, 5000)\n",
            "Original validation set shape (5290, 5000)\n",
            "Original test set shape (22671, 5000)\n"
          ],
          "name": "stdout"
        }
      ]
    },
    {
      "cell_type": "code",
      "metadata": {
        "id": "Os4QDYxXekLk"
      },
      "source": [
        "X_train = np.asarray(X_train_vec).reshape((len(X_train_vec), num_features, 1))\n",
        "X_val = np.asarray(X_val_vec).reshape(len(X_val_vec), num_features, 1)\n",
        "X_test = np.asarray(X_test_vec).reshape(len(X_test_vec), num_features, 1)"
      ],
      "execution_count": 17,
      "outputs": []
    },
    {
      "cell_type": "code",
      "metadata": {
        "id": "459cPbMKekLl",
        "colab": {
          "base_uri": "https://localhost:8080/"
        },
        "outputId": "a7b7fd94-d68a-4248-f993-909d78461eff"
      },
      "source": [
        "print(f\"Training set shape {X_train.shape}\")\n",
        "print(f\"Validation set shape {X_val.shape}\")\n",
        "print(f\"Test set shape {X_test.shape}\")"
      ],
      "execution_count": 18,
      "outputs": [
        {
          "output_type": "stream",
          "text": [
            "Training set shape (47607, 5000, 1)\n",
            "Validation set shape (5290, 5000, 1)\n",
            "Test set shape (22671, 5000, 1)\n"
          ],
          "name": "stdout"
        }
      ]
    },
    {
      "cell_type": "code",
      "metadata": {
        "id": "Ql0BcWEnekLn"
      },
      "source": [
        "num_classes = 2  # Number of target classes (Spam and Ham)"
      ],
      "execution_count": 19,
      "outputs": []
    },
    {
      "cell_type": "code",
      "metadata": {
        "id": "ry9L4utaekLo",
        "colab": {
          "base_uri": "https://localhost:8080/"
        },
        "outputId": "e963f47a-94d3-488d-f3af-b6b1ed1330f8"
      },
      "source": [
        "print(f\"Training labels set size {y_train.shape}\")\n",
        "print(f\"Validation labels set size {y_val.shape}\")\n",
        "print(f\"Test labels set size {y_test.shape}\")"
      ],
      "execution_count": 20,
      "outputs": [
        {
          "output_type": "stream",
          "text": [
            "Training labels set size (47607, 2)\n",
            "Validation labels set size (5290, 2)\n",
            "Test labels set size (22671, 2)\n"
          ],
          "name": "stdout"
        }
      ]
    },
    {
      "cell_type": "markdown",
      "metadata": {
        "id": "F4FSUg5mekLq"
      },
      "source": [
        "## CNN\n",
        "\n",
        "From the paper of Jain et al. the hyperparameters are:\n",
        "\n",
        "| | SMS | Twitter |\n",
        "|:-|:-:|:-:|\n",
        "| Num features | 5000| 8000 |\n",
        "| Number of filters | 128 | 54 |\n",
        "| Filter length | 5 | 4 |\n",
        "| Droput | 0.1 | 0.2 |\n",
        "| Optimizer | Adagrad (lr: 0.1) | Adagrad (lr: 0.1) |\n",
        "| Activation function | ReLu | ReLu |\n",
        "| Epochs | 10 | 10 |\n"
      ]
    },
    {
      "cell_type": "code",
      "metadata": {
        "id": "6-U_Cuo4ekLu",
        "colab": {
          "base_uri": "https://localhost:8080/"
        },
        "outputId": "59a6da06-9d59-426a-9952-7f0d04ab498c"
      },
      "source": [
        "with tf.device('/device:GPU:0'):\n",
        "  cnn_model = Sequential()\n",
        "\n",
        "  cnn_model.add(Conv1D(filters=128, kernel_size=5, input_shape=(num_features, 1), activation=\"relu\"))\n",
        "  cnn_model.add(MaxPooling1D())\n",
        "  cnn_model.add(Dropout(rate=0.1))\n",
        "  cnn_model.add(Flatten())\n",
        "  cnn_model.add(Dense(units=num_classes, activation=\"softmax\"))\n",
        "\n",
        "  cnn_model.compile(optimizer=\"adagrad\", loss='categorical_crossentropy', metrics=['accuracy'])\n",
        "\n",
        "  cnn_history = cnn_model.fit(\n",
        "      X_train,\n",
        "      y_train,\n",
        "      epochs=10,\n",
        "      validation_data=(X_val, y_val)\n",
        "  )"
      ],
      "execution_count": 21,
      "outputs": [
        {
          "output_type": "stream",
          "text": [
            "Epoch 1/10\n",
            "1488/1488 [==============================] - 27s 18ms/step - loss: 0.6744 - accuracy: 0.6616 - val_loss: 0.6797 - val_accuracy: 0.5197\n",
            "Epoch 2/10\n",
            "1488/1488 [==============================] - 27s 18ms/step - loss: 0.6286 - accuracy: 0.7423 - val_loss: 0.6566 - val_accuracy: 0.7701\n",
            "Epoch 3/10\n",
            "1488/1488 [==============================] - 27s 18ms/step - loss: 0.5714 - accuracy: 0.8114 - val_loss: 0.6267 - val_accuracy: 0.7998\n",
            "Epoch 4/10\n",
            "1488/1488 [==============================] - 27s 18ms/step - loss: 0.5173 - accuracy: 0.8420 - val_loss: 0.5987 - val_accuracy: 0.7902\n",
            "Epoch 5/10\n",
            "1488/1488 [==============================] - 27s 18ms/step - loss: 0.4757 - accuracy: 0.8418 - val_loss: 0.5767 - val_accuracy: 0.7888\n",
            "Epoch 6/10\n",
            "1488/1488 [==============================] - 27s 18ms/step - loss: 0.4453 - accuracy: 0.8420 - val_loss: 0.5596 - val_accuracy: 0.7868\n",
            "Epoch 7/10\n",
            "1488/1488 [==============================] - 27s 18ms/step - loss: 0.4228 - accuracy: 0.8426 - val_loss: 0.5465 - val_accuracy: 0.7887\n",
            "Epoch 8/10\n",
            "1488/1488 [==============================] - 26s 18ms/step - loss: 0.4054 - accuracy: 0.8446 - val_loss: 0.5379 - val_accuracy: 0.8053\n",
            "Epoch 9/10\n",
            "1488/1488 [==============================] - 27s 18ms/step - loss: 0.3917 - accuracy: 0.8457 - val_loss: 0.5279 - val_accuracy: 0.7998\n",
            "Epoch 10/10\n",
            "1488/1488 [==============================] - 27s 18ms/step - loss: 0.3805 - accuracy: 0.8468 - val_loss: 0.5204 - val_accuracy: 0.8028\n"
          ],
          "name": "stdout"
        }
      ]
    },
    {
      "cell_type": "code",
      "metadata": {
        "id": "skVO2S-sekLv",
        "colab": {
          "base_uri": "https://localhost:8080/"
        },
        "outputId": "5873285c-36e3-4cfa-c843-99bdc20d016c"
      },
      "source": [
        "cnn_model.summary()"
      ],
      "execution_count": 22,
      "outputs": [
        {
          "output_type": "stream",
          "text": [
            "Model: \"sequential\"\n",
            "_________________________________________________________________\n",
            "Layer (type)                 Output Shape              Param #   \n",
            "=================================================================\n",
            "conv1d (Conv1D)              (None, 4996, 128)         768       \n",
            "_________________________________________________________________\n",
            "max_pooling1d (MaxPooling1D) (None, 2498, 128)         0         \n",
            "_________________________________________________________________\n",
            "dropout (Dropout)            (None, 2498, 128)         0         \n",
            "_________________________________________________________________\n",
            "flatten (Flatten)            (None, 319744)            0         \n",
            "_________________________________________________________________\n",
            "dense (Dense)                (None, 2)                 639490    \n",
            "=================================================================\n",
            "Total params: 640,258\n",
            "Trainable params: 640,258\n",
            "Non-trainable params: 0\n",
            "_________________________________________________________________\n"
          ],
          "name": "stdout"
        }
      ]
    },
    {
      "cell_type": "code",
      "metadata": {
        "id": "gEZMpUUnekLw",
        "colab": {
          "base_uri": "https://localhost:8080/",
          "height": 295
        },
        "outputId": "ec08b6fb-fe08-402c-cfe3-561d11bb440b"
      },
      "source": [
        "plot_metrics(cnn_history.history, validation=True)"
      ],
      "execution_count": 23,
      "outputs": [
        {
          "output_type": "display_data",
          "data": {
            "image/png": "[encoded data removed]",
            "text/plain": [
              "<Figure size 864x288 with 2 Axes>"
            ]
          },
          "metadata": {
            "tags": [],
            "needs_background": "light"
          }
        }
      ]
    },
    {
      "cell_type": "code",
      "metadata": {
        "id": "GhYlRIHPekLx",
        "colab": {
          "base_uri": "https://localhost:8080/"
        },
        "outputId": "c32d1058-b2cb-47eb-fb52-0900d90186ec"
      },
      "source": [
        "# Save model\n",
        "models_path = f\"{base_path}/models/\"\n",
        "cnn_model.save(f\"{models_path}/2020_11_21_paper_sms_cnn_tfidf_4k\")"
      ],
      "execution_count": 24,
      "outputs": [
        {
          "output_type": "stream",
          "text": [
            "WARNING:tensorflow:From /usr/local/lib/python3.6/dist-packages/tensorflow/python/training/tracking/tracking.py:111: Model.state_updates (from tensorflow.python.keras.engine.training) is deprecated and will be removed in a future version.\n",
            "Instructions for updating:\n",
            "This property should not be used in TensorFlow 2.0, as updates are applied automatically.\n",
            "WARNING:tensorflow:From /usr/local/lib/python3.6/dist-packages/tensorflow/python/training/tracking/tracking.py:111: Layer.updates (from tensorflow.python.keras.engine.base_layer) is deprecated and will be removed in a future version.\n",
            "Instructions for updating:\n",
            "This property should not be used in TensorFlow 2.0, as updates are applied automatically.\n",
            "INFO:tensorflow:Assets written to: /content/drive/My Drive/models//2020_11_21_paper_sms_cnn_tfidf_4k/assets\n"
          ],
          "name": "stdout"
        }
      ]
    },
    {
      "cell_type": "code",
      "metadata": {
        "id": "rHfvjoyAekLy",
        "colab": {
          "base_uri": "https://localhost:8080/"
        },
        "outputId": "a6e008be-d22b-46ae-db14-631f769331e9"
      },
      "source": [
        "cnn_y_train_predclass = cnn_model.predict(X_train)\n",
        "\n",
        "sl_cnn_y_train_predclass = np.argmax(cnn_y_train_predclass, axis=1)\n",
        "sl_y_train = np.argmax(y_train, axis=1)\n",
        "\n",
        "cnn_train_accuracy = round(accuracy_score(sl_y_train, sl_cnn_y_train_predclass), 3)\n",
        "print(f\"Train accuracy: {cnn_train_accuracy}\")\n",
        "\n",
        "print(\"Train Classification Report\")\n",
        "print(classification_report(sl_y_train, sl_cnn_y_train_predclass))"
      ],
      "execution_count": 25,
      "outputs": [
        {
          "output_type": "stream",
          "text": [
            "Train accuracy: 0.851\n",
            "Train Classification Report\n",
            "              precision    recall  f1-score   support\n",
            "\n",
            "           0       0.77      1.00      0.87     23694\n",
            "           1       1.00      0.70      0.83     23913\n",
            "\n",
            "    accuracy                           0.85     47607\n",
            "   macro avg       0.88      0.85      0.85     47607\n",
            "weighted avg       0.89      0.85      0.85     47607\n",
            "\n"
          ],
          "name": "stdout"
        }
      ]
    },
    {
      "cell_type": "code",
      "metadata": {
        "id": "ZK65-1BLekLz",
        "colab": {
          "base_uri": "https://localhost:8080/"
        },
        "outputId": "e9a787c5-14a5-4ed2-bc98-5686f5168ad1"
      },
      "source": [
        "cnn_y_test_predclass = cnn_model.predict(X_test)\n",
        "\n",
        "sl_cnn_y_test_predclass = np.argmax(cnn_y_test_predclass, axis=1)\n",
        "sl_y_test = np.argmax(y_test, axis=1)\n",
        "\n",
        "cnn_test_accuracy = round(accuracy_score(sl_y_test, sl_cnn_y_test_predclass), 3)\n",
        "print(f\"Test accuracy: {cnn_test_accuracy}\")\n",
        "\n",
        "print(\"Test Classification Report\")\n",
        "print (classification_report(sl_y_test, sl_cnn_y_test_predclass))"
      ],
      "execution_count": 26,
      "outputs": [
        {
          "output_type": "stream",
          "text": [
            "Test accuracy: 0.809\n",
            "Test Classification Report\n",
            "              precision    recall  f1-score   support\n",
            "\n",
            "           0       0.73      1.00      0.84     11448\n",
            "           1       1.00      0.61      0.76     11223\n",
            "\n",
            "    accuracy                           0.81     22671\n",
            "   macro avg       0.86      0.81      0.80     22671\n",
            "weighted avg       0.86      0.81      0.80     22671\n",
            "\n"
          ],
          "name": "stdout"
        }
      ]
    },
    {
      "cell_type": "markdown",
      "metadata": {
        "id": "8wlkNdqtQGOI"
      },
      "source": [
        "### Results\n",
        "\n",
        "Configuration specific to this problem:\n",
        "- Batch size: 32 (default)\n",
        "\n",
        "**SMS configuration** (/models//2020_11_21_paper_sms_cnn_tfidf_4k)\n",
        "\n",
        "- Time per epoch: ~27s\n",
        "- 10th epoch accuracy: 0.8468\n",
        "- 10th epoch validation accuracty: 0.8028\n",
        "- Train set accuracy: 0.851\n",
        "- Test set accuracy: 0.809\n",
        "\n",
        "Train set report:\n",
        "\n",
        "|  |Precission|Recall|F1 Score|Support|\n",
        "|:-|:-:|:-:|:-:|:-:|\n",
        "|0|0.77|1.00|0.87|23694|\n",
        "|1|1.00|0.70|0.83|23913|\n",
        "||||||\n",
        "|accuracy|||0.85|47607|\n",
        "|macro avg|0.88|0.85|0.85|47607|\n",
        "|weighted avg|0.89|0.85|0.85|47607|\n",
        "\n",
        "Test set report:\n",
        "\n",
        "|  |Precission|Recall|F1 Score|Support|\n",
        "|:-|:-:|:-:|:-:|:-:|\n",
        "|0|0.73|1.00|0.84|11448|\n",
        "|1|1.00|0.61|0.76|11223|\n",
        "||||||\n",
        "|accuracy|||0.81|22671|\n",
        "|macro avg|0.86|0.81|0.80|22671|\n",
        "|weighted avg|0.86|0.81|0.80|22671|\n",
        "\n",
        "\n",
        "**Twitter configuration** (/models//2020_11_21_paper_twitter_cnn_tfidf_4k)\n",
        "\n",
        "- Time per epoch: ~20s\n",
        "- 10th epoch accuracy: 0.8566\n",
        "- 10th epoch validation accuracty: 0.7813\n",
        "- Train set accuracy: 0.853\n",
        "- Test set accuracy: 0.784\n",
        "\n",
        "Train set report:\n",
        "\n",
        "|  |Precission|Recall|F1 Score|Support|\n",
        "|:-|:-:|:-:|:-:|:-:|\n",
        "|0|0.77|1.00|0.87|23694|\n",
        "|1|1.00|0.71|0.83|23913|\n",
        "||||||\n",
        "|accuracy|||0.85|47607|\n",
        "|macro avg|0.89|0.85|0.85|47607|\n",
        "|weighted avg|0.89|0.85|0.85|47607|\n",
        "\n",
        "Test set report:\n",
        "\n",
        "|  |Precission|Recall|F1 Score|Support|\n",
        "|:-|:-:|:-:|:-:|:-:|\n",
        "|0|0.70|1.00|0.82|11448|\n",
        "|1|1.00|0.56|0.72|11223|\n",
        "||||||\n",
        "|accuracy|||0.78|22671|\n",
        "|macro avg|0.85|0.78|0.77|22671|\n",
        "|weighted avg|0.85|0.78|0.77|22671|"
      ]
    },
    {
      "cell_type": "code",
      "metadata": {
        "id": "gnDypIxkgOQd"
      },
      "source": [
        ""
      ],
      "execution_count": null,
      "outputs": []
    }
  ]
}