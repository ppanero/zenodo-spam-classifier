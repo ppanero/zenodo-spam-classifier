{
 "cells": [
  {
   "cell_type": "markdown",
   "metadata": {},
   "source": [
    "# Classical Method: Random Forest"
   ]
  },
  {
   "cell_type": "markdown",
   "metadata": {},
   "source": [
    "The objective is to compare the performance of a Random Forest based on extracted features and one based on a tf-idf vectorization of the text field."
   ]
  },
  {
   "cell_type": "code",
   "execution_count": 1,
   "metadata": {},
   "outputs": [],
   "source": [
    "import matplotlib.pyplot as plt  \n",
    "import pandas as pd\n",
    "import seaborn as sns"
   ]
  },
  {
   "cell_type": "code",
   "execution_count": 2,
   "metadata": {},
   "outputs": [],
   "source": [
    "import joblib\n",
    "\n",
    "from collections import Counter\n",
    "from pathlib import Path\n",
    "from sklearn.ensemble import RandomForestClassifier\n",
    "from sklearn.metrics import confusion_matrix\n",
    "from sklearn.model_selection import train_test_split\n",
    "from sklearn.pipeline import Pipeline"
   ]
  },
  {
   "cell_type": "code",
   "execution_count": 3,
   "metadata": {},
   "outputs": [],
   "source": [
    "base_path = \".\""
   ]
  },
  {
   "cell_type": "markdown",
   "metadata": {},
   "source": [
    "Needed for the feature based approach:"
   ]
  },
  {
   "cell_type": "code",
   "execution_count": 4,
   "metadata": {},
   "outputs": [],
   "source": [
    "from sklearn.preprocessing import OneHotEncoder"
   ]
  },
  {
   "cell_type": "markdown",
   "metadata": {},
   "source": [
    "Needed for the text based approach:"
   ]
  },
  {
   "cell_type": "code",
   "execution_count": 5,
   "metadata": {},
   "outputs": [],
   "source": [
    "from sklearn.feature_extraction.text import TfidfVectorizer"
   ]
  },
  {
   "cell_type": "markdown",
   "metadata": {},
   "source": [
    "**Function definitions**"
   ]
  },
  {
   "cell_type": "code",
   "execution_count": 6,
   "metadata": {},
   "outputs": [],
   "source": [
    "def plot_conf_mat(conf_mat):\n",
    "    plt.figure()\n",
    "    ax = plt.subplot()\n",
    "    sns.heatmap(conf_mat, annot=True, ax = ax, cbar=False, cmap=\"Accent_r\", fmt='g', #annot=True to annotate cells\n",
    "                vmin=1500, vmax=10000) # To display properly as confusion matrix\n",
    "    # YlGnBu\n",
    "    # TN | FP\n",
    "    #--------\n",
    "    # FN | TN\n",
    "    \n",
    "    # labels, title and ticks\n",
    "    ax.set_xlabel('Predicted labels')\n",
    "    ax.set_ylabel('True labels')\n",
    "    ax.set_title('Confusion Matrix')\n",
    "    ax.xaxis.set_ticklabels(['Ham', 'Spam'])\n",
    "    ax.yaxis.set_ticklabels(['Ham', 'Spam'])\n"
   ]
  },
  {
   "cell_type": "code",
   "execution_count": 7,
   "metadata": {},
   "outputs": [],
   "source": [
    "def save_model(model, filename, path=\"models\"):\n",
    "    models_dir = Path(path)\n",
    "    joblib.dump(model, models_dir / filename)"
   ]
  },
  {
   "cell_type": "markdown",
   "metadata": {},
   "source": [
    "# Load full dataset"
   ]
  },
  {
   "cell_type": "code",
   "execution_count": 8,
   "metadata": {},
   "outputs": [],
   "source": [
    "full_filepath = f\"{base_path}/datasets/zenodo_open_metadata_2020-11-14_processed_full.jsonl\"\n",
    "full_df = pd.read_json(full_filepath, lines=True)  # The file is JSONLines\n",
    "full_df = full_df.set_index('recid')"
   ]
  },
  {
   "cell_type": "markdown",
   "metadata": {},
   "source": [
    "## Extracted Features RF"
   ]
  },
  {
   "cell_type": "code",
   "execution_count": 9,
   "metadata": {},
   "outputs": [
    {
     "data": {
      "text/html": [
       "<div>\n",
       "<style scoped>\n",
       "    .dataframe tbody tr th:only-of-type {\n",
       "        vertical-align: middle;\n",
       "    }\n",
       "\n",
       "    .dataframe tbody tr th {\n",
       "        vertical-align: top;\n",
       "    }\n",
       "\n",
       "    .dataframe thead th {\n",
       "        text-align: right;\n",
       "    }\n",
       "</style>\n",
       "<table border=\"1\" class=\"dataframe\">\n",
       "  <thead>\n",
       "    <tr style=\"text-align: right;\">\n",
       "      <th></th>\n",
       "      <th>access_right</th>\n",
       "      <th>spam</th>\n",
       "      <th>num_keywords</th>\n",
       "      <th>num_files</th>\n",
       "      <th>has_image</th>\n",
       "      <th>num_communities</th>\n",
       "      <th>num_creators</th>\n",
       "      <th>creator_has_orcid</th>\n",
       "      <th>creator_has_affiliation</th>\n",
       "      <th>type</th>\n",
       "      <th>type_full</th>\n",
       "      <th>has_license</th>\n",
       "      <th>num_words_title</th>\n",
       "      <th>num_words_description</th>\n",
       "      <th>text_4000</th>\n",
       "      <th>text</th>\n",
       "    </tr>\n",
       "    <tr>\n",
       "      <th>recid</th>\n",
       "      <th></th>\n",
       "      <th></th>\n",
       "      <th></th>\n",
       "      <th></th>\n",
       "      <th></th>\n",
       "      <th></th>\n",
       "      <th></th>\n",
       "      <th></th>\n",
       "      <th></th>\n",
       "      <th></th>\n",
       "      <th></th>\n",
       "      <th></th>\n",
       "      <th></th>\n",
       "      <th></th>\n",
       "      <th></th>\n",
       "      <th></th>\n",
       "    </tr>\n",
       "  </thead>\n",
       "  <tbody>\n",
       "    <tr>\n",
       "      <th>3900603</th>\n",
       "      <td>open</td>\n",
       "      <td>False</td>\n",
       "      <td>0</td>\n",
       "      <td>3</td>\n",
       "      <td>False</td>\n",
       "      <td>1</td>\n",
       "      <td>1</td>\n",
       "      <td>True</td>\n",
       "      <td>True</td>\n",
       "      <td>software</td>\n",
       "      <td>software-None</td>\n",
       "      <td>other</td>\n",
       "      <td>4</td>\n",
       "      <td>100</td>\n",
       "      <td>the geodynamic world builder the geodynamic wo...</td>\n",
       "      <td>the geodynamic world builder the geodynamic wo...</td>\n",
       "    </tr>\n",
       "    <tr>\n",
       "      <th>3363990</th>\n",
       "      <td>open</td>\n",
       "      <td>False</td>\n",
       "      <td>6</td>\n",
       "      <td>5</td>\n",
       "      <td>False</td>\n",
       "      <td>0</td>\n",
       "      <td>3</td>\n",
       "      <td>True</td>\n",
       "      <td>True</td>\n",
       "      <td>publication</td>\n",
       "      <td>publication-article</td>\n",
       "      <td>CC-BY-4.0</td>\n",
       "      <td>30</td>\n",
       "      <td>75</td>\n",
       "      <td>alignment ambiguous characters indel maximum l...</td>\n",
       "      <td>alignment ambiguous characters indel maximum l...</td>\n",
       "    </tr>\n",
       "    <tr>\n",
       "      <th>3363503</th>\n",
       "      <td>open</td>\n",
       "      <td>False</td>\n",
       "      <td>8</td>\n",
       "      <td>1</td>\n",
       "      <td>True</td>\n",
       "      <td>1</td>\n",
       "      <td>7</td>\n",
       "      <td>False</td>\n",
       "      <td>False</td>\n",
       "      <td>image</td>\n",
       "      <td>image-figure</td>\n",
       "      <td>notspecified</td>\n",
       "      <td>24</td>\n",
       "      <td>75</td>\n",
       "      <td>biodiversity taxonomy animalia arthropoda inse...</td>\n",
       "      <td>biodiversity taxonomy animalia arthropoda inse...</td>\n",
       "    </tr>\n",
       "    <tr>\n",
       "      <th>3363619</th>\n",
       "      <td>open</td>\n",
       "      <td>False</td>\n",
       "      <td>8</td>\n",
       "      <td>1</td>\n",
       "      <td>True</td>\n",
       "      <td>1</td>\n",
       "      <td>1</td>\n",
       "      <td>False</td>\n",
       "      <td>False</td>\n",
       "      <td>image</td>\n",
       "      <td>image-figure</td>\n",
       "      <td>notspecified</td>\n",
       "      <td>21</td>\n",
       "      <td>50</td>\n",
       "      <td>biodiversity taxonomy animalia arthropoda maxi...</td>\n",
       "      <td>biodiversity taxonomy animalia arthropoda maxi...</td>\n",
       "    </tr>\n",
       "    <tr>\n",
       "      <th>3363729</th>\n",
       "      <td>closed</td>\n",
       "      <td>False</td>\n",
       "      <td>7</td>\n",
       "      <td>0</td>\n",
       "      <td>False</td>\n",
       "      <td>1</td>\n",
       "      <td>3</td>\n",
       "      <td>False</td>\n",
       "      <td>False</td>\n",
       "      <td>publication</td>\n",
       "      <td>publication-article</td>\n",
       "      <td>no-license</td>\n",
       "      <td>14</td>\n",
       "      <td>30</td>\n",
       "      <td>biodiversity taxonomy animalia arthropoda inse...</td>\n",
       "      <td>biodiversity taxonomy animalia arthropoda inse...</td>\n",
       "    </tr>\n",
       "  </tbody>\n",
       "</table>\n",
       "</div>"
      ],
      "text/plain": [
       "        access_right   spam  num_keywords  num_files  has_image  \\\n",
       "recid                                                             \n",
       "3900603         open  False             0          3      False   \n",
       "3363990         open  False             6          5      False   \n",
       "3363503         open  False             8          1       True   \n",
       "3363619         open  False             8          1       True   \n",
       "3363729       closed  False             7          0      False   \n",
       "\n",
       "         num_communities  num_creators  creator_has_orcid  \\\n",
       "recid                                                       \n",
       "3900603                1             1               True   \n",
       "3363990                0             3               True   \n",
       "3363503                1             7              False   \n",
       "3363619                1             1              False   \n",
       "3363729                1             3              False   \n",
       "\n",
       "         creator_has_affiliation         type            type_full  \\\n",
       "recid                                                                \n",
       "3900603                     True     software        software-None   \n",
       "3363990                     True  publication  publication-article   \n",
       "3363503                    False        image         image-figure   \n",
       "3363619                    False        image         image-figure   \n",
       "3363729                    False  publication  publication-article   \n",
       "\n",
       "          has_license  num_words_title  num_words_description  \\\n",
       "recid                                                           \n",
       "3900603         other                4                    100   \n",
       "3363990     CC-BY-4.0               30                     75   \n",
       "3363503  notspecified               24                     75   \n",
       "3363619  notspecified               21                     50   \n",
       "3363729    no-license               14                     30   \n",
       "\n",
       "                                                 text_4000  \\\n",
       "recid                                                        \n",
       "3900603  the geodynamic world builder the geodynamic wo...   \n",
       "3363990  alignment ambiguous characters indel maximum l...   \n",
       "3363503  biodiversity taxonomy animalia arthropoda inse...   \n",
       "3363619  biodiversity taxonomy animalia arthropoda maxi...   \n",
       "3363729  biodiversity taxonomy animalia arthropoda inse...   \n",
       "\n",
       "                                                      text  \n",
       "recid                                                       \n",
       "3900603  the geodynamic world builder the geodynamic wo...  \n",
       "3363990  alignment ambiguous characters indel maximum l...  \n",
       "3363503  biodiversity taxonomy animalia arthropoda inse...  \n",
       "3363619  biodiversity taxonomy animalia arthropoda maxi...  \n",
       "3363729  biodiversity taxonomy animalia arthropoda inse...  "
      ]
     },
     "execution_count": 9,
     "metadata": {},
     "output_type": "execute_result"
    }
   ],
   "source": [
    "full_df.head()"
   ]
  },
  {
   "cell_type": "code",
   "execution_count": 10,
   "metadata": {},
   "outputs": [],
   "source": [
    "ef_df = full_df.drop(\"text\", axis='columns')\n",
    "ef_df = ef_df.drop(\"text_4000\", axis='columns')"
   ]
  },
  {
   "cell_type": "code",
   "execution_count": 11,
   "metadata": {},
   "outputs": [
    {
     "data": {
      "text/plain": [
       "access_right               object\n",
       "spam                         bool\n",
       "num_keywords                int64\n",
       "num_files                   int64\n",
       "has_image                    bool\n",
       "num_communities             int64\n",
       "num_creators                int64\n",
       "creator_has_orcid            bool\n",
       "creator_has_affiliation      bool\n",
       "type                       object\n",
       "type_full                  object\n",
       "has_license                object\n",
       "num_words_title             int64\n",
       "num_words_description       int64\n",
       "dtype: object"
      ]
     },
     "execution_count": 11,
     "metadata": {},
     "output_type": "execute_result"
    }
   ],
   "source": [
    "ef_df.dtypes"
   ]
  },
  {
   "cell_type": "code",
   "execution_count": 12,
   "metadata": {},
   "outputs": [
    {
     "data": {
      "text/plain": [
       "access_right               category\n",
       "spam                       category\n",
       "num_keywords               category\n",
       "num_files                  category\n",
       "has_image                  category\n",
       "num_communities            category\n",
       "num_creators               category\n",
       "creator_has_orcid          category\n",
       "creator_has_affiliation    category\n",
       "type                       category\n",
       "type_full                  category\n",
       "has_license                category\n",
       "num_words_title            category\n",
       "num_words_description      category\n",
       "dtype: object"
      ]
     },
     "execution_count": 12,
     "metadata": {},
     "output_type": "execute_result"
    }
   ],
   "source": [
    "for col in ef_df.columns:\n",
    "    ef_df[col] = ef_df[col].astype('category')\n",
    "ef_df.dtypes"
   ]
  },
  {
   "cell_type": "code",
   "execution_count": 13,
   "metadata": {},
   "outputs": [],
   "source": [
    "# Split dataset\n",
    "labels_ef = list(ef_df['spam'])\n",
    "data_ef = ef_df.drop(\"spam\", axis='columns')\n",
    "X_train_ef, X_test_ef, y_train_ef, y_test_ef = train_test_split(data_ef, labels_ef, test_size=0.33, random_state=422)"
   ]
  },
  {
   "cell_type": "code",
   "execution_count": 14,
   "metadata": {},
   "outputs": [
    {
     "name": "stderr",
     "output_type": "stream",
     "text": [
      "[Parallel(n_jobs=4)]: Using backend ThreadingBackend with 4 concurrent workers.\n",
      "[Parallel(n_jobs=4)]: Done  42 tasks      | elapsed:  1.9min\n",
      "[Parallel(n_jobs=4)]: Done 100 out of 100 | elapsed:  4.2min finished\n"
     ]
    }
   ],
   "source": [
    "# Random forest model\n",
    "pipeline_ef = Pipeline([\n",
    "    (\"ohe\", OneHotEncoder()),\n",
    "    (\"clf\", RandomForestClassifier(n_estimators=100, n_jobs=4, verbose=True)),\n",
    "])\n",
    "\n",
    "# Trains the model. This might take some time (~7min)\n",
    "feature_clf = pipeline_ef.fit(X_train_ef, y_train_ef)"
   ]
  },
  {
   "cell_type": "code",
   "execution_count": 16,
   "metadata": {},
   "outputs": [],
   "source": [
    "save_model(feature_clf, '2020_11_14_rf_features.pkl')"
   ]
  },
  {
   "cell_type": "code",
   "execution_count": 17,
   "metadata": {},
   "outputs": [
    {
     "name": "stderr",
     "output_type": "stream",
     "text": [
      "[Parallel(n_jobs=4)]: Using backend ThreadingBackend with 4 concurrent workers.\n",
      "[Parallel(n_jobs=4)]: Done  42 tasks      | elapsed:    0.6s\n",
      "[Parallel(n_jobs=4)]: Done 100 out of 100 | elapsed:    1.4s finished\n"
     ]
    },
    {
     "name": "stdout",
     "output_type": "stream",
     "text": [
      "Counter({(False, False): 555423, (True, True): 10917, (True, False): 1414, (False, True): 607})\n",
      "Spam->Spam: 0.8853\n",
      "Ham -> Ham: 0.9989\n",
      "Accuracy: 0.9964\n"
     ]
    }
   ],
   "source": [
    "y_pred_ef = feature_clf.predict(X_test_ef)\n",
    "acc = [(ref, pred) for ref, pred in zip(y_test_ef, y_pred_ef)]\n",
    "c = Counter(acc)\n",
    "print(c)\n",
    "print(\"Spam->Spam: {0:.4f}\".format(c[(True, True)] / (c[(True, True)] + c[(True, False)])))\n",
    "print(\"Ham -> Ham: {0:.4f}\".format(c[(False, False)] / (c[(False, False)] + c[(False, True)])))\n",
    "print(\"Accuracy: {0:.4f}\".format((c[(False, False)] + c[(True, True)] ) / (len(acc))))"
   ]
  },
  {
   "cell_type": "code",
   "execution_count": 18,
   "metadata": {},
   "outputs": [
    {
     "data": {
      "image/png": "[encoded data removed]",
      "text/plain": [
       "<Figure size 432x288 with 1 Axes>"
      ]
     },
     "metadata": {
      "needs_background": "light"
     },
     "output_type": "display_data"
    }
   ],
   "source": [
    "cm_ef = confusion_matrix(y_pred=y_pred_ef, y_true=y_test_ef)\n",
    "plot_conf_mat(cm_ef)"
   ]
  },
  {
   "cell_type": "markdown",
   "metadata": {},
   "source": [
    "## Text based RF"
   ]
  },
  {
   "cell_type": "code",
   "execution_count": 19,
   "metadata": {},
   "outputs": [
    {
     "data": {
      "text/html": [
       "<div>\n",
       "<style scoped>\n",
       "    .dataframe tbody tr th:only-of-type {\n",
       "        vertical-align: middle;\n",
       "    }\n",
       "\n",
       "    .dataframe tbody tr th {\n",
       "        vertical-align: top;\n",
       "    }\n",
       "\n",
       "    .dataframe thead th {\n",
       "        text-align: right;\n",
       "    }\n",
       "</style>\n",
       "<table border=\"1\" class=\"dataframe\">\n",
       "  <thead>\n",
       "    <tr style=\"text-align: right;\">\n",
       "      <th></th>\n",
       "      <th>access_right</th>\n",
       "      <th>spam</th>\n",
       "      <th>num_keywords</th>\n",
       "      <th>num_files</th>\n",
       "      <th>has_image</th>\n",
       "      <th>num_communities</th>\n",
       "      <th>num_creators</th>\n",
       "      <th>creator_has_orcid</th>\n",
       "      <th>creator_has_affiliation</th>\n",
       "      <th>type</th>\n",
       "      <th>type_full</th>\n",
       "      <th>has_license</th>\n",
       "      <th>num_words_title</th>\n",
       "      <th>num_words_description</th>\n",
       "      <th>text_4000</th>\n",
       "      <th>text</th>\n",
       "    </tr>\n",
       "    <tr>\n",
       "      <th>recid</th>\n",
       "      <th></th>\n",
       "      <th></th>\n",
       "      <th></th>\n",
       "      <th></th>\n",
       "      <th></th>\n",
       "      <th></th>\n",
       "      <th></th>\n",
       "      <th></th>\n",
       "      <th></th>\n",
       "      <th></th>\n",
       "      <th></th>\n",
       "      <th></th>\n",
       "      <th></th>\n",
       "      <th></th>\n",
       "      <th></th>\n",
       "      <th></th>\n",
       "    </tr>\n",
       "  </thead>\n",
       "  <tbody>\n",
       "    <tr>\n",
       "      <th>3900603</th>\n",
       "      <td>open</td>\n",
       "      <td>False</td>\n",
       "      <td>0</td>\n",
       "      <td>3</td>\n",
       "      <td>False</td>\n",
       "      <td>1</td>\n",
       "      <td>1</td>\n",
       "      <td>True</td>\n",
       "      <td>True</td>\n",
       "      <td>software</td>\n",
       "      <td>software-None</td>\n",
       "      <td>other</td>\n",
       "      <td>4</td>\n",
       "      <td>100</td>\n",
       "      <td>the geodynamic world builder the geodynamic wo...</td>\n",
       "      <td>the geodynamic world builder the geodynamic wo...</td>\n",
       "    </tr>\n",
       "    <tr>\n",
       "      <th>3363990</th>\n",
       "      <td>open</td>\n",
       "      <td>False</td>\n",
       "      <td>6</td>\n",
       "      <td>5</td>\n",
       "      <td>False</td>\n",
       "      <td>0</td>\n",
       "      <td>3</td>\n",
       "      <td>True</td>\n",
       "      <td>True</td>\n",
       "      <td>publication</td>\n",
       "      <td>publication-article</td>\n",
       "      <td>CC-BY-4.0</td>\n",
       "      <td>30</td>\n",
       "      <td>75</td>\n",
       "      <td>alignment ambiguous characters indel maximum l...</td>\n",
       "      <td>alignment ambiguous characters indel maximum l...</td>\n",
       "    </tr>\n",
       "    <tr>\n",
       "      <th>3363503</th>\n",
       "      <td>open</td>\n",
       "      <td>False</td>\n",
       "      <td>8</td>\n",
       "      <td>1</td>\n",
       "      <td>True</td>\n",
       "      <td>1</td>\n",
       "      <td>7</td>\n",
       "      <td>False</td>\n",
       "      <td>False</td>\n",
       "      <td>image</td>\n",
       "      <td>image-figure</td>\n",
       "      <td>notspecified</td>\n",
       "      <td>24</td>\n",
       "      <td>75</td>\n",
       "      <td>biodiversity taxonomy animalia arthropoda inse...</td>\n",
       "      <td>biodiversity taxonomy animalia arthropoda inse...</td>\n",
       "    </tr>\n",
       "    <tr>\n",
       "      <th>3363619</th>\n",
       "      <td>open</td>\n",
       "      <td>False</td>\n",
       "      <td>8</td>\n",
       "      <td>1</td>\n",
       "      <td>True</td>\n",
       "      <td>1</td>\n",
       "      <td>1</td>\n",
       "      <td>False</td>\n",
       "      <td>False</td>\n",
       "      <td>image</td>\n",
       "      <td>image-figure</td>\n",
       "      <td>notspecified</td>\n",
       "      <td>21</td>\n",
       "      <td>50</td>\n",
       "      <td>biodiversity taxonomy animalia arthropoda maxi...</td>\n",
       "      <td>biodiversity taxonomy animalia arthropoda maxi...</td>\n",
       "    </tr>\n",
       "    <tr>\n",
       "      <th>3363729</th>\n",
       "      <td>closed</td>\n",
       "      <td>False</td>\n",
       "      <td>7</td>\n",
       "      <td>0</td>\n",
       "      <td>False</td>\n",
       "      <td>1</td>\n",
       "      <td>3</td>\n",
       "      <td>False</td>\n",
       "      <td>False</td>\n",
       "      <td>publication</td>\n",
       "      <td>publication-article</td>\n",
       "      <td>no-license</td>\n",
       "      <td>14</td>\n",
       "      <td>30</td>\n",
       "      <td>biodiversity taxonomy animalia arthropoda inse...</td>\n",
       "      <td>biodiversity taxonomy animalia arthropoda inse...</td>\n",
       "    </tr>\n",
       "  </tbody>\n",
       "</table>\n",
       "</div>"
      ],
      "text/plain": [
       "        access_right   spam  num_keywords  num_files  has_image  \\\n",
       "recid                                                             \n",
       "3900603         open  False             0          3      False   \n",
       "3363990         open  False             6          5      False   \n",
       "3363503         open  False             8          1       True   \n",
       "3363619         open  False             8          1       True   \n",
       "3363729       closed  False             7          0      False   \n",
       "\n",
       "         num_communities  num_creators  creator_has_orcid  \\\n",
       "recid                                                       \n",
       "3900603                1             1               True   \n",
       "3363990                0             3               True   \n",
       "3363503                1             7              False   \n",
       "3363619                1             1              False   \n",
       "3363729                1             3              False   \n",
       "\n",
       "         creator_has_affiliation         type            type_full  \\\n",
       "recid                                                                \n",
       "3900603                     True     software        software-None   \n",
       "3363990                     True  publication  publication-article   \n",
       "3363503                    False        image         image-figure   \n",
       "3363619                    False        image         image-figure   \n",
       "3363729                    False  publication  publication-article   \n",
       "\n",
       "          has_license  num_words_title  num_words_description  \\\n",
       "recid                                                           \n",
       "3900603         other                4                    100   \n",
       "3363990     CC-BY-4.0               30                     75   \n",
       "3363503  notspecified               24                     75   \n",
       "3363619  notspecified               21                     50   \n",
       "3363729    no-license               14                     30   \n",
       "\n",
       "                                                 text_4000  \\\n",
       "recid                                                        \n",
       "3900603  the geodynamic world builder the geodynamic wo...   \n",
       "3363990  alignment ambiguous characters indel maximum l...   \n",
       "3363503  biodiversity taxonomy animalia arthropoda inse...   \n",
       "3363619  biodiversity taxonomy animalia arthropoda maxi...   \n",
       "3363729  biodiversity taxonomy animalia arthropoda inse...   \n",
       "\n",
       "                                                      text  \n",
       "recid                                                       \n",
       "3900603  the geodynamic world builder the geodynamic wo...  \n",
       "3363990  alignment ambiguous characters indel maximum l...  \n",
       "3363503  biodiversity taxonomy animalia arthropoda inse...  \n",
       "3363619  biodiversity taxonomy animalia arthropoda maxi...  \n",
       "3363729  biodiversity taxonomy animalia arthropoda inse...  "
      ]
     },
     "execution_count": 19,
     "metadata": {},
     "output_type": "execute_result"
    }
   ],
   "source": [
    "full_df.head()"
   ]
  },
  {
   "cell_type": "markdown",
   "metadata": {},
   "source": [
    "### Full text"
   ]
  },
  {
   "cell_type": "code",
   "execution_count": 20,
   "metadata": {},
   "outputs": [],
   "source": [
    "# Split dataset\n",
    "labels_tb = full_df['spam']\n",
    "data_tb = full_df[\"text\"]\n",
    "X_train_tb, X_test_tb, y_train_tb, y_test_tb = train_test_split(data_tb, labels_tb, test_size=0.33, random_state=422)"
   ]
  },
  {
   "cell_type": "code",
   "execution_count": 21,
   "metadata": {},
   "outputs": [
    {
     "name": "stderr",
     "output_type": "stream",
     "text": [
      "[Parallel(n_jobs=4)]: Using backend ThreadingBackend with 4 concurrent workers.\n",
      "[Parallel(n_jobs=4)]: Done  42 tasks      | elapsed: 14.5min\n",
      "[Parallel(n_jobs=4)]: Done 100 out of 100 | elapsed: 32.9min finished\n"
     ]
    }
   ],
   "source": [
    "# Random forest model\n",
    "pipeline_tb = Pipeline([\n",
    "    (\"tfidf\", TfidfVectorizer(max_features=8000, ngram_range=(1, 1), analyzer='word', stop_words='english')),\n",
    "    (\"clf\", RandomForestClassifier(n_estimators=100, n_jobs=4, verbose=True)),\n",
    "])\n",
    "\n",
    "# Trains the model. This might take some time (~45min)\n",
    "text_clf = pipeline_tb.fit(X_train_tb, y_train_tb)"
   ]
  },
  {
   "cell_type": "code",
   "execution_count": 22,
   "metadata": {},
   "outputs": [],
   "source": [
    "save_model(text_clf, '2020_11_14_rf_tfidf_text.pkl')"
   ]
  },
  {
   "cell_type": "code",
   "execution_count": 23,
   "metadata": {},
   "outputs": [
    {
     "name": "stderr",
     "output_type": "stream",
     "text": [
      "[Parallel(n_jobs=4)]: Using backend ThreadingBackend with 4 concurrent workers.\n",
      "[Parallel(n_jobs=4)]: Done  42 tasks      | elapsed:    7.7s\n",
      "[Parallel(n_jobs=4)]: Done 100 out of 100 | elapsed:   17.6s finished\n"
     ]
    },
    {
     "name": "stdout",
     "output_type": "stream",
     "text": [
      "Counter({(False, False): 555945, (True, True): 11332, (True, False): 999, (False, True): 85})\n",
      "Spam->Spam: 0.9190\n",
      "Ham -> Ham: 0.9998\n",
      "Accuracy: 0.9981\n"
     ]
    }
   ],
   "source": [
    "y_pred_tb = text_clf.predict(X_test_tb)\n",
    "acc = [(ref, pred) for ref, pred in zip(y_test_tb, y_pred_tb)]\n",
    "c = Counter(acc)\n",
    "print(c)\n",
    "print(\"Spam->Spam: {0:.4f}\".format(c[(True, True)] / (c[(True, True)] + c[(True, False)])))\n",
    "print(\"Ham -> Ham: {0:.4f}\".format(c[(False, False)] / (c[(False, False)] + c[(False, True)])))\n",
    "print(\"Accuracy: {0:.4f}\".format((c[(False, False)] + c[(True, True)] ) / (len(acc))))"
   ]
  },
  {
   "cell_type": "code",
   "execution_count": 24,
   "metadata": {},
   "outputs": [
    {
     "data": {
      "image/png": "[encoded data removed]",
      "text/plain": [
       "<Figure size 432x288 with 1 Axes>"
      ]
     },
     "metadata": {
      "needs_background": "light"
     },
     "output_type": "display_data"
    }
   ],
   "source": [
    "cm_tb = confusion_matrix(y_pred=y_pred_tb, y_true=y_test_tb)\n",
    "plot_conf_mat(cm_tb)"
   ]
  },
  {
   "cell_type": "markdown",
   "metadata": {},
   "source": [
    "### Text 4000"
   ]
  },
  {
   "cell_type": "code",
   "execution_count": 26,
   "metadata": {},
   "outputs": [],
   "source": [
    "# Split dataset\n",
    "labels_tb4k = full_df['spam']\n",
    "data_tb4k = full_df[\"text_4000\"]\n",
    "X_train_tb4k, X_test_tb4k, y_train_tb4k, y_test_tb4k = train_test_split(data_tb4k, labels_tb4k, test_size=0.33, random_state=422)"
   ]
  },
  {
   "cell_type": "code",
   "execution_count": 27,
   "metadata": {},
   "outputs": [
    {
     "name": "stderr",
     "output_type": "stream",
     "text": [
      "[Parallel(n_jobs=4)]: Using backend ThreadingBackend with 4 concurrent workers.\n",
      "[Parallel(n_jobs=4)]: Done  42 tasks      | elapsed: 13.8min\n",
      "[Parallel(n_jobs=4)]: Done 100 out of 100 | elapsed: 31.4min finished\n"
     ]
    }
   ],
   "source": [
    "# Random forest model\n",
    "pipeline_tb4k = Pipeline([\n",
    "    (\"tfidf\", TfidfVectorizer(max_features=8000, ngram_range=(1, 1), analyzer='word', stop_words='english')),\n",
    "    (\"clf\", RandomForestClassifier(n_estimators=100, n_jobs=4, verbose=True)),\n",
    "])\n",
    "\n",
    "# Trains the model. This might take some time (~30min)\n",
    "text_clf4k = pipeline_tb4k.fit(X_train_tb4k, y_train_tb4k)"
   ]
  },
  {
   "cell_type": "code",
   "execution_count": 28,
   "metadata": {},
   "outputs": [],
   "source": [
    "save_model(text_clf4k, '2020_11_14_rf_tfidf_text4k.pkl')"
   ]
  },
  {
   "cell_type": "code",
   "execution_count": 29,
   "metadata": {},
   "outputs": [
    {
     "name": "stderr",
     "output_type": "stream",
     "text": [
      "[Parallel(n_jobs=4)]: Using backend ThreadingBackend with 4 concurrent workers.\n",
      "[Parallel(n_jobs=4)]: Done  42 tasks      | elapsed:    7.3s\n",
      "[Parallel(n_jobs=4)]: Done 100 out of 100 | elapsed:   17.0s finished\n"
     ]
    },
    {
     "name": "stdout",
     "output_type": "stream",
     "text": [
      "Counter({(False, False): 555935, (True, True): 11331, (True, False): 1000, (False, True): 95})\n",
      "Spam->Spam: 0.9189\n",
      "Ham -> Ham: 0.9998\n",
      "Accuracy: 0.9981\n"
     ]
    }
   ],
   "source": [
    "y_pred_tb4k = text_clf4k.predict(X_test_tb4k)\n",
    "acc = [(ref, pred) for ref, pred in zip(y_test_tb4k, y_pred_tb4k)]\n",
    "c = Counter(acc)\n",
    "print(c)\n",
    "print(\"Spam->Spam: {0:.4f}\".format(c[(True, True)] / (c[(True, True)] + c[(True, False)])))\n",
    "print(\"Ham -> Ham: {0:.4f}\".format(c[(False, False)] / (c[(False, False)] + c[(False, True)])))\n",
    "print(\"Accuracy: {0:.4f}\".format((c[(False, False)] + c[(True, True)] ) / (len(acc))))"
   ]
  },
  {
   "cell_type": "code",
   "execution_count": 30,
   "metadata": {},
   "outputs": [
    {
     "data": {
      "image/png": "[encoded data removed]",
      "text/plain": [
       "<Figure size 432x288 with 1 Axes>"
      ]
     },
     "metadata": {
      "needs_background": "light"
     },
     "output_type": "display_data"
    }
   ],
   "source": [
    "cm_tb4k = confusion_matrix(y_pred=y_pred_tb4k, y_true=y_test_tb4k)\n",
    "plot_conf_mat(cm_tb4k)"
   ]
  },
  {
   "cell_type": "markdown",
   "metadata": {},
   "source": [
    "## Check results"
   ]
  },
  {
   "cell_type": "markdown",
   "metadata": {},
   "source": [
    "In order to verify levels of contamination, check the records that the three models detected as spam but was originally classified as ham."
   ]
  },
  {
   "cell_type": "code",
   "execution_count": 31,
   "metadata": {},
   "outputs": [],
   "source": [
    "def get_fp(refs, preds):\n",
    "    fps = []\n",
    "    for idx, rec in enumerate(zip(refs, preds)):\n",
    "        ref, pred = rec[0], rec[1]\n",
    "        if not ref and pred:\n",
    "            fps.append(full_df.index[idx])\n",
    "    return fps"
   ]
  },
  {
   "cell_type": "code",
   "execution_count": 32,
   "metadata": {},
   "outputs": [
    {
     "name": "stdout",
     "output_type": "stream",
     "text": [
      "607 false positives with feature extraction.\n",
      "85 false positives with full text vectorization.\n",
      "95 false positives with text 4000 vectorization.\n",
      "13 false positives are in all sets.\n"
     ]
    }
   ],
   "source": [
    "feature_fp = get_fp(y_test_ef, y_pred_ef)\n",
    "print(f\"{len(feature_fp)} false positives with feature extraction.\")\n",
    "\n",
    "text_fp = get_fp(y_test_tb, y_pred_tb)\n",
    "print(f\"{len(text_fp)} false positives with full text vectorization.\")\n",
    "\n",
    "text4k_fp = get_fp(y_test_tb4k, y_pred_tb4k)\n",
    "print(f\"{len(text4k_fp)} false positives with text 4000 vectorization.\")\n",
    "\n",
    "intersect_fp = set(feature_fp).intersection(set(text_fp)).intersection(set(text4k_fp))\n",
    "print(f\"{len(intersect_fp)} false positives are in all sets.\"\"\")"
   ]
  },
  {
   "cell_type": "code",
   "execution_count": 33,
   "metadata": {},
   "outputs": [
    {
     "name": "stdout",
     "output_type": "stream",
     "text": [
      "https://zenodo.org/record/3515392\n",
      "https://zenodo.org/record/1000963\n",
      "https://zenodo.org/record/260003\n",
      "https://zenodo.org/record/44637\n",
      "https://zenodo.org/record/3942535\n",
      "https://zenodo.org/record/196873\n",
      "https://zenodo.org/record/1310443\n",
      "https://zenodo.org/record/270895\n",
      "https://zenodo.org/record/216688\n",
      "https://zenodo.org/record/3594323\n",
      "https://zenodo.org/record/3593686\n",
      "https://zenodo.org/record/235831\n",
      "https://zenodo.org/record/249469\n"
     ]
    }
   ],
   "source": [
    "for recid in intersect_fp:\n",
    "    print(f\"https://zenodo.org/record/{recid}\")"
   ]
  },
  {
   "cell_type": "markdown",
   "metadata": {},
   "source": [
    "The previous 13 records were manually checked, they are ham. Therefore the model made a mistake."
   ]
  }
 ],
 "metadata": {
  "kernelspec": {
   "display_name": "Python 3",
   "language": "python",
   "name": "python3"
  },
  "language_info": {
   "codemirror_mode": {
    "name": "ipython",
    "version": 3
   },
   "file_extension": ".py",
   "mimetype": "text/x-python",
   "name": "python",
   "nbconvert_exporter": "python",
   "pygments_lexer": "ipython3",
   "version": "3.7.7"
  }
 },
 "nbformat": 4,
 "nbformat_minor": 4
}
