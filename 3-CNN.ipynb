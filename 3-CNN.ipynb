{
 "cells": [
  {
   "cell_type": "markdown",
   "metadata": {},
   "source": [
    "# TODO\n",
    "https://medium.com/voice-tech-podcast/text-classification-using-cnn-9ade8155dfb9\n",
    "\n",
    "https://towardsdatascience.com/deciding-optimal-filter-size-for-cnns-d6f7b56f9363"
   ]
  },
  {
   "cell_type": "markdown",
   "metadata": {},
   "source": [
    "# Neural Networks: CNN\n",
    "\n",
    "The work of this notebook is based on the paper from Jain et al. [1][2]. A CNN is trained using semantically enriched vectors (using Word2Vec).\n",
    "\n",
    "\n",
    "[1] Gauri Jain, Manisha Sharma, and Basant Agarwal. Spam detection on social media using semantic convolutional neural network. *International Journal of Knowledge Discovery inBioinformatics (IJKDB)*, 8(1):12–26, 2018.\n",
    "\n",
    "[2] Gauri Jain, Manisha Sharma, and Basant Agarwal. Spam detection in social media using convolutional and long short term memory neural network. *Annals of Mathematics andArtificial Intelligence*, 85(1):21–44, 2019"
   ]
  },
  {
   "cell_type": "code",
   "execution_count": 53,
   "metadata": {},
   "outputs": [],
   "source": [
    "# Imports\n",
    "import numpy as np\n",
    "import matplotlib.pyplot as plt\n",
    "import pandas as pd\n",
    "\n",
    "from keras.utils import to_categorical\n",
    "from keras.models import Sequential\n",
    "from keras.layers import Conv1D, Dense, Dropout, Flatten, Input, MaxPooling1D\n",
    "from sklearn.feature_extraction.text import TfidfVectorizer\n",
    "from sklearn.metrics import accuracy_score, classification_report\n",
    "from sklearn.model_selection import train_test_split"
   ]
  },
  {
   "cell_type": "code",
   "execution_count": 54,
   "metadata": {},
   "outputs": [],
   "source": [
    "def plot_metrics(history, validation=False):\n",
    "    fig, (ax1, ax2) = plt.subplots(1, 2)\n",
    "    fig.set_figwidth(12)\n",
    "    # Accuracy\n",
    "    ax1.set_title('Model accuracy')\n",
    "    ax1.set_ylabel('Accuracy')\n",
    "    ax1.set_xlabel('Epoch')\n",
    "    ax1.plot(history['accuracy'])\n",
    "    if validation:\n",
    "        ax1.plot(history['val_accuracy'])\n",
    "    ax1.legend(['Train', 'Validation'], loc='upper left')\n",
    "\n",
    "    # Loss\n",
    "    ax2.set_title('Model loss') \n",
    "    ax2.set_ylabel('Loss') \n",
    "    ax2.set_xlabel('Epoch')\n",
    "    ax2.plot(history['loss'])\n",
    "    if validation:\n",
    "        ax2.plot(history['val_loss'])\n",
    "    ax2.legend(['Train', 'Validation'], loc='upper left') \n",
    "\n",
    "    plt.show()"
   ]
  },
  {
   "cell_type": "markdown",
   "metadata": {},
   "source": [
    "# Data loading and vectorization"
   ]
  },
  {
   "cell_type": "code",
   "execution_count": 2,
   "metadata": {},
   "outputs": [],
   "source": [
    "full_filepath = \"/Users/ppanero/Workspace/zenodo/zenodo-spam-classifier/zenodo_open_metadata_2020-10-19_processed.jsonl\"\n",
    "full_df = pd.read_json(full_filepath, lines=True)  # The file is JSONLines\n",
    "full_df = full_df.set_index('recid')"
   ]
  },
  {
   "cell_type": "code",
   "execution_count": 3,
   "metadata": {},
   "outputs": [
    {
     "data": {
      "text/html": [
       "<div>\n",
       "<style scoped>\n",
       "    .dataframe tbody tr th:only-of-type {\n",
       "        vertical-align: middle;\n",
       "    }\n",
       "\n",
       "    .dataframe tbody tr th {\n",
       "        vertical-align: top;\n",
       "    }\n",
       "\n",
       "    .dataframe thead th {\n",
       "        text-align: right;\n",
       "    }\n",
       "</style>\n",
       "<table border=\"1\" class=\"dataframe\">\n",
       "  <thead>\n",
       "    <tr style=\"text-align: right;\">\n",
       "      <th></th>\n",
       "      <th>access_right</th>\n",
       "      <th>spam</th>\n",
       "      <th>num_keywords</th>\n",
       "      <th>num_files</th>\n",
       "      <th>has_image</th>\n",
       "      <th>num_communities</th>\n",
       "      <th>num_creators</th>\n",
       "      <th>creator_has_orcid</th>\n",
       "      <th>creator_has_affiliation</th>\n",
       "      <th>type</th>\n",
       "      <th>type_full</th>\n",
       "      <th>num_words_title</th>\n",
       "      <th>num_words_description</th>\n",
       "      <th>text</th>\n",
       "      <th>has_license</th>\n",
       "    </tr>\n",
       "    <tr>\n",
       "      <th>recid</th>\n",
       "      <th></th>\n",
       "      <th></th>\n",
       "      <th></th>\n",
       "      <th></th>\n",
       "      <th></th>\n",
       "      <th></th>\n",
       "      <th></th>\n",
       "      <th></th>\n",
       "      <th></th>\n",
       "      <th></th>\n",
       "      <th></th>\n",
       "      <th></th>\n",
       "      <th></th>\n",
       "      <th></th>\n",
       "      <th></th>\n",
       "    </tr>\n",
       "  </thead>\n",
       "  <tbody>\n",
       "    <tr>\n",
       "      <th>3900603</th>\n",
       "      <td>open</td>\n",
       "      <td>False</td>\n",
       "      <td>0</td>\n",
       "      <td>3</td>\n",
       "      <td>False</td>\n",
       "      <td>1</td>\n",
       "      <td>1</td>\n",
       "      <td>True</td>\n",
       "      <td>True</td>\n",
       "      <td>software</td>\n",
       "      <td>software-None</td>\n",
       "      <td>4</td>\n",
       "      <td>100</td>\n",
       "      <td>the geodynamic world builder the geodynamic w...</td>\n",
       "      <td>other</td>\n",
       "    </tr>\n",
       "    <tr>\n",
       "      <th>3363990</th>\n",
       "      <td>open</td>\n",
       "      <td>False</td>\n",
       "      <td>6</td>\n",
       "      <td>5</td>\n",
       "      <td>False</td>\n",
       "      <td>0</td>\n",
       "      <td>3</td>\n",
       "      <td>True</td>\n",
       "      <td>True</td>\n",
       "      <td>publication</td>\n",
       "      <td>publication-article</td>\n",
       "      <td>30</td>\n",
       "      <td>75</td>\n",
       "      <td>alignment ambiguous characters indel maximum l...</td>\n",
       "      <td>CC-BY-4.0</td>\n",
       "    </tr>\n",
       "    <tr>\n",
       "      <th>3363503</th>\n",
       "      <td>open</td>\n",
       "      <td>False</td>\n",
       "      <td>8</td>\n",
       "      <td>1</td>\n",
       "      <td>True</td>\n",
       "      <td>1</td>\n",
       "      <td>7</td>\n",
       "      <td>False</td>\n",
       "      <td>False</td>\n",
       "      <td>image</td>\n",
       "      <td>image-figure</td>\n",
       "      <td>24</td>\n",
       "      <td>75</td>\n",
       "      <td>biodiversity taxonomy animalia arthropoda inse...</td>\n",
       "      <td>notspecified</td>\n",
       "    </tr>\n",
       "    <tr>\n",
       "      <th>3363619</th>\n",
       "      <td>open</td>\n",
       "      <td>False</td>\n",
       "      <td>8</td>\n",
       "      <td>1</td>\n",
       "      <td>True</td>\n",
       "      <td>1</td>\n",
       "      <td>1</td>\n",
       "      <td>False</td>\n",
       "      <td>False</td>\n",
       "      <td>image</td>\n",
       "      <td>image-figure</td>\n",
       "      <td>21</td>\n",
       "      <td>50</td>\n",
       "      <td>biodiversity taxonomy animalia arthropoda maxi...</td>\n",
       "      <td>notspecified</td>\n",
       "    </tr>\n",
       "    <tr>\n",
       "      <th>3363729</th>\n",
       "      <td>closed</td>\n",
       "      <td>False</td>\n",
       "      <td>7</td>\n",
       "      <td>0</td>\n",
       "      <td>False</td>\n",
       "      <td>1</td>\n",
       "      <td>3</td>\n",
       "      <td>False</td>\n",
       "      <td>False</td>\n",
       "      <td>publication</td>\n",
       "      <td>publication-article</td>\n",
       "      <td>14</td>\n",
       "      <td>30</td>\n",
       "      <td>biodiversity taxonomy animalia arthropoda inse...</td>\n",
       "      <td>no-license</td>\n",
       "    </tr>\n",
       "  </tbody>\n",
       "</table>\n",
       "</div>"
      ],
      "text/plain": [
       "        access_right   spam  num_keywords  num_files  has_image  \\\n",
       "recid                                                             \n",
       "3900603         open  False             0          3      False   \n",
       "3363990         open  False             6          5      False   \n",
       "3363503         open  False             8          1       True   \n",
       "3363619         open  False             8          1       True   \n",
       "3363729       closed  False             7          0      False   \n",
       "\n",
       "         num_communities  num_creators  creator_has_orcid  \\\n",
       "recid                                                       \n",
       "3900603                1             1               True   \n",
       "3363990                0             3               True   \n",
       "3363503                1             7              False   \n",
       "3363619                1             1              False   \n",
       "3363729                1             3              False   \n",
       "\n",
       "         creator_has_affiliation         type            type_full  \\\n",
       "recid                                                                \n",
       "3900603                     True     software        software-None   \n",
       "3363990                     True  publication  publication-article   \n",
       "3363503                    False        image         image-figure   \n",
       "3363619                    False        image         image-figure   \n",
       "3363729                    False  publication  publication-article   \n",
       "\n",
       "         num_words_title  num_words_description  \\\n",
       "recid                                             \n",
       "3900603                4                    100   \n",
       "3363990               30                     75   \n",
       "3363503               24                     75   \n",
       "3363619               21                     50   \n",
       "3363729               14                     30   \n",
       "\n",
       "                                                      text   has_license  \n",
       "recid                                                                     \n",
       "3900603   the geodynamic world builder the geodynamic w...         other  \n",
       "3363990  alignment ambiguous characters indel maximum l...     CC-BY-4.0  \n",
       "3363503  biodiversity taxonomy animalia arthropoda inse...  notspecified  \n",
       "3363619  biodiversity taxonomy animalia arthropoda maxi...  notspecified  \n",
       "3363729  biodiversity taxonomy animalia arthropoda inse...    no-license  "
      ]
     },
     "execution_count": 3,
     "metadata": {},
     "output_type": "execute_result"
    }
   ],
   "source": [
    "full_df.head()"
   ]
  },
  {
   "cell_type": "code",
   "execution_count": 27,
   "metadata": {},
   "outputs": [],
   "source": [
    "# Split dataset\n",
    "labels = full_df['spam']\n",
    "data = full_df[\"text\"]\n",
    "X_train_orig, X_test_orig, y_train, y_test = train_test_split(data, labels, test_size=0.9, random_state=422)\n",
    "X_train_orig, X_val_orig, y_train, y_val = train_test_split(X_train_orig, y_train, test_size=0.1, random_state=422)"
   ]
  },
  {
   "cell_type": "code",
   "execution_count": 28,
   "metadata": {},
   "outputs": [],
   "source": [
    "num_features = 8000"
   ]
  },
  {
   "cell_type": "code",
   "execution_count": 29,
   "metadata": {},
   "outputs": [],
   "source": [
    "# Vectorize text input\n",
    "tfidf = TfidfVectorizer(max_features=num_features, ngram_range=(4, 5), analyzer='word', stop_words='english')"
   ]
  },
  {
   "cell_type": "code",
   "execution_count": 30,
   "metadata": {},
   "outputs": [],
   "source": [
    "X_train_vec = tfidf.fit_transform(X_train_orig).todense()\n",
    "X_val_vec = tfidf.fit_transform(X_val_orig).todense()\n",
    "# X_test_vec = tfidf.transform(X_test_orig).todense()"
   ]
  },
  {
   "cell_type": "code",
   "execution_count": 31,
   "metadata": {},
   "outputs": [
    {
     "name": "stdout",
     "output_type": "stream",
     "text": [
      "Original training set shape (155007, 8000)\n",
      "Original validation set shape (17223, 8000)\n",
      "Original test set shape (172231, 8000)\n"
     ]
    }
   ],
   "source": [
    "print(f\"Original training set shape {X_train_vec.shape}\")\n",
    "print(f\"Original validation set shape {X_val_vec.shape}\")\n",
    "print(f\"Original test set shape {X_test_vec.shape}\")"
   ]
  },
  {
   "cell_type": "code",
   "execution_count": 32,
   "metadata": {},
   "outputs": [],
   "source": [
    "X_train = np.asarray(X_train_vec).reshape((len(X_train_vec), num_features, 1))\n",
    "X_val = np.asarray(X_val_vec).reshape(len(X_val_vec), num_features, 1)\n",
    "# X_test = np.asarray(X_test_vec).reshape(len(X_test_vec), num_features, 1)"
   ]
  },
  {
   "cell_type": "code",
   "execution_count": 33,
   "metadata": {},
   "outputs": [
    {
     "name": "stdout",
     "output_type": "stream",
     "text": [
      "Training set shape (155007, 8000, 1)\n",
      "Validation set shape (17223, 8000, 1)\n",
      "Test set shape (172231, 8000, 1)\n"
     ]
    }
   ],
   "source": [
    "print(f\"Training set shape {X_train.shape}\")\n",
    "print(f\"Validation set shape {X_val.shape}\")\n",
    "print(f\"Test set shape {X_test.shape}\")"
   ]
  },
  {
   "cell_type": "code",
   "execution_count": 34,
   "metadata": {},
   "outputs": [],
   "source": [
    "num_classes = 2  # Number of target classes (Spam and Ham)"
   ]
  },
  {
   "cell_type": "code",
   "execution_count": 35,
   "metadata": {},
   "outputs": [
    {
     "name": "stdout",
     "output_type": "stream",
     "text": [
      "Training labels set size (155007,)\n",
      "Validation labels set size (17223,)\n",
      "Test labels set size (1550075,)\n"
     ]
    }
   ],
   "source": [
    "print(f\"Training labels set size {y_train.shape}\")\n",
    "print(f\"Validation labels set size {y_val.shape}\")\n",
    "print(f\"Test labels set size {y_test.shape}\")"
   ]
  },
  {
   "cell_type": "markdown",
   "metadata": {},
   "source": [
    "An example basic model that would work with the original vectorized dataset:\n",
    "\n",
    "``` python\n",
    "example_model = Sequential()\n",
    "example_model.add(Dense(num_features, input_shape= (num_features,), activation=\"relu\"))\n",
    "example_model.add(Dense(num_features/2,activation=\"relu\"))\n",
    "example_model.add(Dense(num_features/4, activation=\"relu\"))\n",
    "example_model.add(Dropout(0.25))\n",
    "example_model.add(Dense(num_classes, activation=\"softmax\"))\n",
    "example_model.compile(optimizer=\"adagrad\", loss='binary_crossentropy', metrics=['accuracy'])\n",
    "```\n",
    "\n",
    "However, it would require to transfor the `SparseTensor` into an \"array\" understanble by the model:\n",
    "\n",
    "``` python\n",
    "X_train = X_train.todense()\n",
    "X_test = X_test.todense()\n",
    "```"
   ]
  },
  {
   "cell_type": "markdown",
   "metadata": {},
   "source": [
    "# CNN\n",
    "\n",
    "From the paper of Jain et al. the hyperparameters are:\n",
    "\n",
    "- Number of filters: 128\n",
    "- Filter length: 5\n",
    "- Droput: 0.1\n",
    "- Optimizer: Adagrad (default learning rate, 0.1)\n",
    "- Activation function: ReLu\n",
    "- Epochs: 10"
   ]
  },
  {
   "cell_type": "code",
   "execution_count": 44,
   "metadata": {},
   "outputs": [],
   "source": [
    "cnn_model = Sequential()\n",
    "\n",
    "# Strides is redundant since default is 1. Added for clarity.\n",
    "cnn_model.add(Conv1D(filters=128, kernel_size=5, input_shape=(num_features, 1), activation=\"relu\"))\n",
    "cnn_model.add(Dropout(rate=0.1))\n",
    "cnn_model.add(Flatten())\n",
    "cnn_model.add(Dense(units=num_classes, activation=\"softmax\"))"
   ]
  },
  {
   "cell_type": "markdown",
   "metadata": {},
   "source": [
    "Two classes (True-False) make a binary classification, therefore the loss function is `binary_crossentropy`)."
   ]
  },
  {
   "cell_type": "code",
   "execution_count": 45,
   "metadata": {},
   "outputs": [],
   "source": [
    "cnn_model.compile(optimizer=\"adagrad\", loss='binary_crossentropy', metrics=['accuracy'])"
   ]
  },
  {
   "cell_type": "code",
   "execution_count": 46,
   "metadata": {},
   "outputs": [],
   "source": [
    "batch_size = 128"
   ]
  },
  {
   "cell_type": "code",
   "execution_count": 47,
   "metadata": {},
   "outputs": [
    {
     "name": "stdout",
     "output_type": "stream",
     "text": [
      "Epoch 1/10\n",
      "1211/1211 [==============================] - 1317s 1s/step - loss: 0.6932 - accuracy: 0.7391 - val_loss: 0.6931 - val_accuracy: 0.8848\n",
      "Epoch 2/10\n",
      "1211/1211 [==============================] - 1271s 1s/step - loss: 0.6932 - accuracy: 0.7476 - val_loss: 0.6931 - val_accuracy: 0.8848\n",
      "Epoch 3/10\n",
      "1211/1211 [==============================] - 1202s 993ms/step - loss: 0.6932 - accuracy: 0.7493 - val_loss: 0.6931 - val_accuracy: 0.8829\n",
      "Epoch 4/10\n",
      "1211/1211 [==============================] - 1212s 1s/step - loss: 0.6932 - accuracy: 0.7511 - val_loss: 0.6931 - val_accuracy: 0.8804\n",
      "Epoch 5/10\n",
      "1211/1211 [==============================] - 1210s 999ms/step - loss: 0.6932 - accuracy: 0.7518 - val_loss: 0.6931 - val_accuracy: 0.8793\n",
      "Epoch 6/10\n",
      "1211/1211 [==============================] - 1211s 1s/step - loss: 0.6932 - accuracy: 0.7537 - val_loss: 0.6931 - val_accuracy: 0.8760\n",
      "Epoch 7/10\n",
      "1211/1211 [==============================] - 1211s 1s/step - loss: 0.6932 - accuracy: 0.7551 - val_loss: 0.6931 - val_accuracy: 0.8759\n",
      "Epoch 8/10\n",
      "1211/1211 [==============================] - 1211s 1s/step - loss: 0.6932 - accuracy: 0.7561 - val_loss: 0.6931 - val_accuracy: 0.8757\n",
      "Epoch 9/10\n",
      "1211/1211 [==============================] - 1211s 1s/step - loss: 0.6932 - accuracy: 0.7571 - val_loss: 0.6931 - val_accuracy: 0.8755\n",
      "Epoch 10/10\n",
      "1211/1211 [==============================] - 1211s 1s/step - loss: 0.6932 - accuracy: 0.7591 - val_loss: 0.6931 - val_accuracy: 0.8753\n"
     ]
    }
   ],
   "source": [
    "history = cnn_model.fit(\n",
    "    X_train,\n",
    "    y_train,\n",
    "    batch_size=batch_size,\n",
    "    epochs=10,\n",
    "    validation_data=(X_val, y_val)\n",
    ")"
   ]
  },
  {
   "cell_type": "code",
   "execution_count": 48,
   "metadata": {},
   "outputs": [
    {
     "name": "stdout",
     "output_type": "stream",
     "text": [
      "Model: \"sequential_3\"\n",
      "_________________________________________________________________\n",
      "Layer (type)                 Output Shape              Param #   \n",
      "=================================================================\n",
      "conv1d_5 (Conv1D)            (None, 7996, 128)         768       \n",
      "_________________________________________________________________\n",
      "dropout_5 (Dropout)          (None, 7996, 128)         0         \n",
      "_________________________________________________________________\n",
      "flatten_3 (Flatten)          (None, 1023488)           0         \n",
      "_________________________________________________________________\n",
      "dense_6 (Dense)              (None, 2)                 2046978   \n",
      "=================================================================\n",
      "Total params: 2,047,746\n",
      "Trainable params: 2,047,746\n",
      "Non-trainable params: 0\n",
      "_________________________________________________________________\n"
     ]
    }
   ],
   "source": [
    "cnn_model.summary()"
   ]
  },
  {
   "cell_type": "code",
   "execution_count": 55,
   "metadata": {},
   "outputs": [
    {
     "data": {
      "image/png": "[encoded data removed]",
      "text/plain": [
       "<Figure size 864x288 with 2 Axes>"
      ]
     },
     "metadata": {
      "needs_background": "light"
     },
     "output_type": "display_data"
    }
   ],
   "source": [
    "plot_metrics(history.history, validation=True)"
   ]
  },
  {
   "cell_type": "code",
   "execution_count": 52,
   "metadata": {},
   "outputs": [
    {
     "name": "stdout",
     "output_type": "stream",
     "text": [
      "WARNING:tensorflow:From /Users/ppanero/.virtualenvs/zenodo-spam-classifier/lib/python3.7/site-packages/tensorflow/python/training/tracking/tracking.py:111: Model.state_updates (from tensorflow.python.keras.engine.training) is deprecated and will be removed in a future version.\n",
      "Instructions for updating:\n",
      "This property should not be used in TensorFlow 2.0, as updates are applied automatically.\n",
      "WARNING:tensorflow:From /Users/ppanero/.virtualenvs/zenodo-spam-classifier/lib/python3.7/site-packages/tensorflow/python/training/tracking/tracking.py:111: Layer.updates (from tensorflow.python.keras.engine.base_layer) is deprecated and will be removed in a future version.\n",
      "Instructions for updating:\n",
      "This property should not be used in TensorFlow 2.0, as updates are applied automatically.\n",
      "INFO:tensorflow:Assets written to: /Users/ppanero/Workspace/zenodo/zenodo-spam-classifier/models//2020_11_05_cnn/assets\n"
     ]
    }
   ],
   "source": [
    "# Save model\n",
    "models_path = \"/Users/ppanero/Workspace/zenodo/zenodo-spam-classifier/models/\"\n",
    "cnn_model.save(f\"{models_path}/2020_11_05_cnn\")"
   ]
  },
  {
   "cell_type": "code",
   "execution_count": 51,
   "metadata": {},
   "outputs": [
    {
     "name": "stdout",
     "output_type": "stream",
     "text": [
      "Train accuracy: 0.751\n",
      "Train Classification Report\n",
      "              precision    recall  f1-score   support\n",
      "\n",
      "       False       0.98      0.76      0.86    151606\n",
      "        True       0.02      0.25      0.04      3401\n",
      "\n",
      "    accuracy                           0.75    155007\n",
      "   macro avg       0.50      0.51      0.45    155007\n",
      "weighted avg       0.96      0.75      0.84    155007\n",
      "\n"
     ]
    }
   ],
   "source": [
    "y_train_predclass = cnn_model.predict_classes(X_train, batch_size=batch_size)\n",
    "\n",
    "train_accuracy = round(accuracy_score(y_train, y_train_predclass), 3)\n",
    "print(f\"Train accuracy: {train_accuracy}\")\n",
    "\n",
    "print(\"Train Classification Report\")\n",
    "print(classification_report(y_train, y_train_predclass))"
   ]
  },
  {
   "cell_type": "code",
   "execution_count": null,
   "metadata": {},
   "outputs": [],
   "source": [
    "y_test_predclass = cnn_model.predict_classes(X_test, batch_size=batch_size)\n",
    "\n",
    "test_accuracy = round(accuracy_score(y_test, y_test_predclass), 3)\n",
    "print(f\"Test accuracy: {test_accuracy}\")\n",
    "\n",
    "print(\"Test Classification Report\")\n",
    "print (classification_report(y_test,y_test_predclass))"
   ]
  }
 ],
 "metadata": {
  "kernelspec": {
   "display_name": "Python 3",
   "language": "python",
   "name": "python3"
  },
  "language_info": {
   "codemirror_mode": {
    "name": "ipython",
    "version": 3
   },
   "file_extension": ".py",
   "mimetype": "text/x-python",
   "name": "python",
   "nbconvert_exporter": "python",
   "pygments_lexer": "ipython3",
   "version": "3.7.7"
  }
 },
 "nbformat": 4,
 "nbformat_minor": 4
}
