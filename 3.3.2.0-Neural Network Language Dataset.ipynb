{
 "cells": [
  {
   "cell_type": "markdown",
   "metadata": {},
   "source": [
    "# Loading and vectorization"
   ]
  },
  {
   "cell_type": "code",
   "execution_count": 1,
   "metadata": {},
   "outputs": [],
   "source": [
    "# Imports\n",
    "import pandas as pd\n",
    "\n",
    "from imblearn.under_sampling import RandomUnderSampler"
   ]
  },
  {
   "cell_type": "markdown",
   "metadata": {},
   "source": [
    "## Data loading\n",
    "\n",
    "In the descriptive analysis step we produced 3 datasets:\n",
    "\n",
    "- Full, including all the extracted features\n",
    "- Full text, which contains only one field (apart form the recid and the spam label). This field is a concatenation of the keywords, title and description, which were cleaned from HTML tags, punctuation marks and decoded using unicode.\n",
    "- Text 4000, which is similar to the previous one but the amount of text of each field was limited, to sum up a maximum of 4000 words. Keywords was limited to 100, title to 400 and description to 3500. This numbers were taken from the descriptive analysis and it can be understoo that most of the records will either contain less words or will not have important information in the word that are removed.\n",
    "\n",
    "Now we want to produce two additional balanced datasets:\n",
    "\n",
    "- Full text\n",
    "- Text 4000"
   ]
  },
  {
   "cell_type": "code",
   "execution_count": 2,
   "metadata": {},
   "outputs": [],
   "source": [
    "base_path = \".\""
   ]
  },
  {
   "cell_type": "code",
   "execution_count": null,
   "metadata": {},
   "outputs": [],
   "source": [
    "full_filepath = f\"{base_path}/datasets/zenodo_open_metadata_2020-11-14_processed_text.jsonl\"\n",
    "full_df = pd.read_json(full_filepath, lines=True)  # The file is JSONLines"
   ]
  },
  {
   "cell_type": "code",
   "execution_count": null,
   "metadata": {},
   "outputs": [],
   "source": [
    "full_df.head()"
   ]
  },
  {
   "cell_type": "code",
   "execution_count": null,
   "metadata": {},
   "outputs": [],
   "source": [
    "spam_ham = full_df.spam.value_counts()\n",
    "print(spam_ham)"
   ]
  },
  {
   "cell_type": "code",
   "execution_count": null,
   "metadata": {},
   "outputs": [],
   "source": [
    "text4k_filepath = f\"{base_path}/datasets/zenodo_open_metadata_2020-11-14_processed_text_4000.jsonl\"\n",
    "text4k_df = pd.read_json(text4k_filepath, lines=True)  # The file is JSONLines"
   ]
  },
  {
   "cell_type": "code",
   "execution_count": null,
   "metadata": {},
   "outputs": [],
   "source": [
    "text4k_df.head()"
   ]
  },
  {
   "cell_type": "code",
   "execution_count": null,
   "metadata": {},
   "outputs": [],
   "source": [
    "spam_ham = text4k_df.spam.value_counts()\n",
    "print(spam_ham)"
   ]
  },
  {
   "cell_type": "markdown",
   "metadata": {},
   "source": [
    "## Balanced dataset: Undersampling\n",
    "\n",
    "It has been seen on the next steps (Neural Networks) that the classfication accuracy is being tampered due to the imbalanced nature of the dataset. That is, the classfier ouputs the majority class in most of the cases, getting a high accuracy score. Therefore, a balanced version of the dataset is provided.\n",
    "\n",
    "This dataset contains 90% of the minority class samples, and the same amount of majority class samples obtained by undersampling. This is done using the `imblearn` library.\n",
    "\n",
    "To balance the data set we will use the RandomUnderSampler. There is enough data for a random sample to be uniformly distributed accross the different types of sub-classes on the majority class. However, if there were pointers to a loss of information we would use the Condensed Nearest Neighbors, or CNN for short, is an undersampling technique that seeks a subset of a collection of samples that results in no loss in model performance, referred to as a minimal consistent set.\n",
    "\n",
    "The store (resulting set) is comprised of all examples in the minority set and only examples from the majority set that cannot be classified correctly are added incrementally to the store."
   ]
  },
  {
   "cell_type": "code",
   "execution_count": null,
   "metadata": {},
   "outputs": [],
   "source": [
    "# Default strategy is `not minority` therefore it will only resample the ham (False) class\n",
    "def undersample(data, labels):\n",
    "    random_undersampler = RandomUnderSampler(random_state=777) # For reproducibility\n",
    "    data_random_balanced, labels_random_balanced = random_undersampler.fit_resample(data, labels)\n",
    "    data_random_balanced['spam'] = labels_random_balanced\n",
    "    \n",
    "    return data_random_balanced"
   ]
  },
  {
   "cell_type": "markdown",
   "metadata": {},
   "source": [
    "### Full text"
   ]
  },
  {
   "cell_type": "code",
   "execution_count": null,
   "metadata": {},
   "outputs": [],
   "source": [
    "labels = full_df['spam']\n",
    "data = full_df.drop('spam', axis=1)\n",
    "\n",
    "full_text_undersample = undersample(data, labels)"
   ]
  },
  {
   "cell_type": "code",
   "execution_count": null,
   "metadata": {},
   "outputs": [],
   "source": [
    "full_text_undersample.head()"
   ]
  },
  {
   "cell_type": "code",
   "execution_count": null,
   "metadata": {},
   "outputs": [],
   "source": [
    "spam_ham = full_text_undersample.spam.value_counts()\n",
    "print(spam_ham)"
   ]
  },
  {
   "cell_type": "code",
   "execution_count": null,
   "metadata": {},
   "outputs": [],
   "source": [
    "output_filepath = f\"{base_path}/datasets/zenodo_open_metadata_2020-11-14_balanced_full.jsonl\"\n",
    "full_text_undersample.to_json(output_filepath, orient='records', lines=True)"
   ]
  },
  {
   "cell_type": "markdown",
   "metadata": {},
   "source": [
    "### Text 4000"
   ]
  },
  {
   "cell_type": "code",
   "execution_count": null,
   "metadata": {},
   "outputs": [],
   "source": [
    "labels = text4k_df['spam']\n",
    "data = text4k_df.drop('spam', axis=1)\n",
    "\n",
    "text4k_undersample = undersample(data, labels)"
   ]
  },
  {
   "cell_type": "code",
   "execution_count": null,
   "metadata": {},
   "outputs": [],
   "source": [
    "text4k_undersample.head()"
   ]
  },
  {
   "cell_type": "code",
   "execution_count": null,
   "metadata": {},
   "outputs": [],
   "source": [
    "spam_ham = text4k_undersample.spam.value_counts()\n",
    "print(spam_ham)"
   ]
  },
  {
   "cell_type": "code",
   "execution_count": null,
   "metadata": {},
   "outputs": [],
   "source": [
    "output_filepath = f\"{base_path}/datasets/zenodo_open_metadata_2020-11-14_balanced_text_4000.jsonl\"\n",
    "text4k_undersample.to_json(output_filepath, orient='records', lines=True)"
   ]
  },
  {
   "cell_type": "markdown",
   "metadata": {},
   "source": [
    "## Language detection\n",
    "\n",
    "Using `langdetect` as per: https://arxiv.org/pdf/1801.07779.pdf\n",
    "\n",
    "CLD-2 is pretty good and extremely fast\n",
    "lang-detect is a tiny bit better, but much slower\n",
    "langid is good, but CLD-2 and lang-detect are much better\n",
    "NLTK's Textcat is neither efficient nor effective."
   ]
  },
  {
   "cell_type": "code",
   "execution_count": 4,
   "metadata": {},
   "outputs": [
    {
     "data": {
      "text/html": [
       "<div>\n",
       "<style scoped>\n",
       "    .dataframe tbody tr th:only-of-type {\n",
       "        vertical-align: middle;\n",
       "    }\n",
       "\n",
       "    .dataframe tbody tr th {\n",
       "        vertical-align: top;\n",
       "    }\n",
       "\n",
       "    .dataframe thead th {\n",
       "        text-align: right;\n",
       "    }\n",
       "</style>\n",
       "<table border=\"1\" class=\"dataframe\">\n",
       "  <thead>\n",
       "    <tr style=\"text-align: right;\">\n",
       "      <th></th>\n",
       "      <th>recid</th>\n",
       "      <th>text_4000</th>\n",
       "      <th>spam</th>\n",
       "    </tr>\n",
       "  </thead>\n",
       "  <tbody>\n",
       "    <tr>\n",
       "      <th>0</th>\n",
       "      <td>1835666</td>\n",
       "      <td>the etiology of acute pleurisy with effusion n/a</td>\n",
       "      <td>False</td>\n",
       "    </tr>\n",
       "    <tr>\n",
       "      <th>1</th>\n",
       "      <td>3044415</td>\n",
       "      <td>biodiversity taxonomy terrestrial herbarium so...</td>\n",
       "      <td>False</td>\n",
       "    </tr>\n",
       "    <tr>\n",
       "      <th>2</th>\n",
       "      <td>2071031</td>\n",
       "      <td>zur kenntniss des olivenls n/a</td>\n",
       "      <td>False</td>\n",
       "    </tr>\n",
       "    <tr>\n",
       "      <th>3</th>\n",
       "      <td>2825828</td>\n",
       "      <td>science school was burned: a case study of cri...</td>\n",
       "      <td>False</td>\n",
       "    </tr>\n",
       "    <tr>\n",
       "      <th>4</th>\n",
       "      <td>1683734</td>\n",
       "      <td>the heat of vaporization of air n/a</td>\n",
       "      <td>False</td>\n",
       "    </tr>\n",
       "  </tbody>\n",
       "</table>\n",
       "</div>"
      ],
      "text/plain": [
       "     recid                                          text_4000   spam\n",
       "0  1835666   the etiology of acute pleurisy with effusion n/a  False\n",
       "1  3044415  biodiversity taxonomy terrestrial herbarium so...  False\n",
       "2  2071031                     zur kenntniss des olivenls n/a  False\n",
       "3  2825828  science school was burned: a case study of cri...  False\n",
       "4  1683734                the heat of vaporization of air n/a  False"
      ]
     },
     "execution_count": 4,
     "metadata": {},
     "output_type": "execute_result"
    }
   ],
   "source": [
    "text4k_undersample = f\"{base_path}/datasets/zenodo_open_metadata_2020-11-14_balanced_text_4000.jsonl\"\n",
    "text4k_df = pd.read_json(text4k_undersample, lines=True)  # The file is JSONLines\n",
    "text4k_df.head()"
   ]
  },
  {
   "cell_type": "code",
   "execution_count": 8,
   "metadata": {},
   "outputs": [],
   "source": [
    "from langdetect import detect\n",
    "from langdetect.lang_detect_exception import LangDetectException\n",
    "\n",
    "def lang(text):\n",
    "    try:\n",
    "        return detect(text)\n",
    "    except LangDetectException:\n",
    "        return 'unknown'\n",
    "        "
   ]
  },
  {
   "cell_type": "code",
   "execution_count": 9,
   "metadata": {},
   "outputs": [],
   "source": [
    "text4k_df['lang'] = text4k_df.apply(lambda x: lang(x['text_4000']), axis=1)"
   ]
  },
  {
   "cell_type": "code",
   "execution_count": 10,
   "metadata": {},
   "outputs": [],
   "source": [
    "output_filepath = f\"{base_path}/datasets/zenodo_open_metadata_2020-11-24_balanced_text_4000_lang.jsonl\"\n",
    "text4k_df.to_json(output_filepath, orient='records', lines=True)"
   ]
  },
  {
   "cell_type": "code",
   "execution_count": 5,
   "metadata": {},
   "outputs": [
    {
     "name": "stdout",
     "output_type": "stream",
     "text": [
      "en         56190\n",
      "fr          3886\n",
      "de          3479\n",
      "id          3004\n",
      "es          1396\n",
      "tr          1320\n",
      "pt          1272\n",
      "it          1054\n",
      "cs           597\n",
      "nl           432\n",
      "af           425\n",
      "ca           330\n",
      "ro           295\n",
      "sw           256\n",
      "tl           243\n",
      "hu           189\n",
      "cy           183\n",
      "sl           160\n",
      "sv           129\n",
      "da           115\n",
      "sk           114\n",
      "so            83\n",
      "vi            79\n",
      "no            74\n",
      "et            74\n",
      "pl            57\n",
      "fi            46\n",
      "hr            44\n",
      "lt            13\n",
      "el            12\n",
      "lv             8\n",
      "sq             6\n",
      "unknown        3\n",
      "Name: lang, dtype: int64\n"
     ]
    },
    {
     "data": {
      "text/plain": [
       "<AxesSubplot:>"
      ]
     },
     "execution_count": 5,
     "metadata": {},
     "output_type": "execute_result"
    },
    {
     "data": {
      "image/png": "[encoded data removed]",
      "text/plain": [
       "<Figure size 864x864 with 1 Axes>"
      ]
     },
     "metadata": {
      "needs_background": "light"
     },
     "output_type": "display_data"
    }
   ],
   "source": [
    "lang_count = text4k_df.lang.value_counts()\n",
    "print(lang_count)\n",
    "lang_count.plot(kind='bar', figsize=(12,12))"
   ]
  },
  {
   "cell_type": "code",
   "execution_count": 6,
   "metadata": {},
   "outputs": [
    {
     "name": "stdout",
     "output_type": "stream",
     "text": [
      "en         25172\n",
      "fr          3435\n",
      "id          2862\n",
      "tr          1271\n",
      "pt          1160\n",
      "es           939\n",
      "cs           587\n",
      "it           544\n",
      "de           288\n",
      "sw           247\n",
      "tl           194\n",
      "nl           190\n",
      "hu           183\n",
      "vi            79\n",
      "sv            77\n",
      "sl            76\n",
      "so            71\n",
      "af            67\n",
      "sk            57\n",
      "ca            51\n",
      "et            41\n",
      "cy            37\n",
      "pl            31\n",
      "da            29\n",
      "hr            29\n",
      "ro            26\n",
      "no            15\n",
      "el             9\n",
      "lt             8\n",
      "fi             5\n",
      "sq             2\n",
      "unknown        1\n",
      "lv             1\n",
      "Name: lang, dtype: int64\n"
     ]
    },
    {
     "data": {
      "text/plain": [
       "<AxesSubplot:>"
      ]
     },
     "execution_count": 6,
     "metadata": {},
     "output_type": "execute_result"
    },
    {
     "data": {
      "image/png": "[encoded data removed]",
      "text/plain": [
       "<Figure size 864x864 with 1 Axes>"
      ]
     },
     "metadata": {
      "needs_background": "light"
     },
     "output_type": "display_data"
    }
   ],
   "source": [
    "lang_count = text4k_df[text4k_df.spam == True].lang.value_counts()\n",
    "print(lang_count)\n",
    "lang_count.plot(kind='bar', figsize=(12,12))"
   ]
  },
  {
   "cell_type": "code",
   "execution_count": 7,
   "metadata": {},
   "outputs": [
    {
     "name": "stdout",
     "output_type": "stream",
     "text": [
      "en         31018\n",
      "de          3191\n",
      "it           510\n",
      "es           457\n",
      "fr           451\n",
      "af           358\n",
      "ca           279\n",
      "ro           269\n",
      "nl           242\n",
      "cy           146\n",
      "id           142\n",
      "pt           112\n",
      "da            86\n",
      "sl            84\n",
      "no            59\n",
      "sk            57\n",
      "sv            52\n",
      "tr            49\n",
      "tl            49\n",
      "fi            41\n",
      "et            33\n",
      "pl            26\n",
      "hr            15\n",
      "so            12\n",
      "cs            10\n",
      "sw             9\n",
      "lv             7\n",
      "hu             6\n",
      "lt             5\n",
      "sq             4\n",
      "el             3\n",
      "unknown        2\n",
      "Name: lang, dtype: int64\n"
     ]
    },
    {
     "data": {
      "text/plain": [
       "<AxesSubplot:>"
      ]
     },
     "execution_count": 7,
     "metadata": {},
     "output_type": "execute_result"
    },
    {
     "data": {
      "image/png": "[encoded data removed]",
      "text/plain": [
       "<Figure size 864x864 with 1 Axes>"
      ]
     },
     "metadata": {
      "needs_background": "light"
     },
     "output_type": "display_data"
    }
   ],
   "source": [
    "lang_count = text4k_df[text4k_df.spam == False].lang.value_counts()\n",
    "print(lang_count)\n",
    "lang_count.plot(kind='bar', figsize=(12,12))"
   ]
  },
  {
   "cell_type": "code",
   "execution_count": 16,
   "metadata": {},
   "outputs": [
    {
     "data": {
      "text/html": [
       "<div>\n",
       "<style scoped>\n",
       "    .dataframe tbody tr th:only-of-type {\n",
       "        vertical-align: middle;\n",
       "    }\n",
       "\n",
       "    .dataframe tbody tr th {\n",
       "        vertical-align: top;\n",
       "    }\n",
       "\n",
       "    .dataframe thead th {\n",
       "        text-align: right;\n",
       "    }\n",
       "</style>\n",
       "<table border=\"1\" class=\"dataframe\">\n",
       "  <thead>\n",
       "    <tr style=\"text-align: right;\">\n",
       "      <th></th>\n",
       "      <th>recid</th>\n",
       "      <th>text_4000</th>\n",
       "      <th>spam</th>\n",
       "      <th>lang</th>\n",
       "    </tr>\n",
       "  </thead>\n",
       "  <tbody>\n",
       "    <tr>\n",
       "      <th>0</th>\n",
       "      <td>1835666</td>\n",
       "      <td>the etiology of acute pleurisy with effusion n/a</td>\n",
       "      <td>False</td>\n",
       "      <td>en</td>\n",
       "    </tr>\n",
       "    <tr>\n",
       "      <th>1</th>\n",
       "      <td>3044415</td>\n",
       "      <td>biodiversity taxonomy terrestrial herbarium so...</td>\n",
       "      <td>False</td>\n",
       "      <td>en</td>\n",
       "    </tr>\n",
       "    <tr>\n",
       "      <th>3</th>\n",
       "      <td>2825828</td>\n",
       "      <td>science school was burned: a case study of cri...</td>\n",
       "      <td>False</td>\n",
       "      <td>en</td>\n",
       "    </tr>\n",
       "    <tr>\n",
       "      <th>4</th>\n",
       "      <td>1683734</td>\n",
       "      <td>the heat of vaporization of air n/a</td>\n",
       "      <td>False</td>\n",
       "      <td>en</td>\n",
       "    </tr>\n",
       "    <tr>\n",
       "      <th>6</th>\n",
       "      <td>3788697</td>\n",
       "      <td>biodiversity taxonomy animalia arthropoda inse...</td>\n",
       "      <td>False</td>\n",
       "      <td>en</td>\n",
       "    </tr>\n",
       "  </tbody>\n",
       "</table>\n",
       "</div>"
      ],
      "text/plain": [
       "     recid                                          text_4000   spam lang\n",
       "0  1835666   the etiology of acute pleurisy with effusion n/a  False   en\n",
       "1  3044415  biodiversity taxonomy terrestrial herbarium so...  False   en\n",
       "3  2825828  science school was burned: a case study of cri...  False   en\n",
       "4  1683734                the heat of vaporization of air n/a  False   en\n",
       "6  3788697  biodiversity taxonomy animalia arthropoda inse...  False   en"
      ]
     },
     "execution_count": 16,
     "metadata": {},
     "output_type": "execute_result"
    }
   ],
   "source": [
    "text4k_df_en = text4k_df[text4k_df.lang == 'en']\n",
    "text4k_df_en.head()"
   ]
  },
  {
   "cell_type": "code",
   "execution_count": 19,
   "metadata": {},
   "outputs": [
    {
     "data": {
      "text/plain": [
       "False    31018\n",
       "True     25172\n",
       "Name: spam, dtype: int64"
      ]
     },
     "execution_count": 19,
     "metadata": {},
     "output_type": "execute_result"
    }
   ],
   "source": [
    "text4k_df_en.spam.value_counts()"
   ]
  },
  {
   "cell_type": "code",
   "execution_count": 20,
   "metadata": {},
   "outputs": [],
   "source": [
    "output_filepath = f\"{base_path}/datasets/zenodo_open_metadata_2020-11-26_balanced_text_4000_lang_en.jsonl\"\n",
    "text4k_df_en.to_json(output_filepath, orient='records', lines=True)"
   ]
  },
  {
   "cell_type": "code",
   "execution_count": null,
   "metadata": {},
   "outputs": [],
   "source": []
  }
 ],
 "metadata": {
  "kernelspec": {
   "display_name": "Python 3",
   "language": "python",
   "name": "python3"
  },
  "language_info": {
   "codemirror_mode": {
    "name": "ipython",
    "version": 3
   },
   "file_extension": ".py",
   "mimetype": "text/x-python",
   "name": "python",
   "nbconvert_exporter": "python",
   "pygments_lexer": "ipython3",
   "version": "3.7.7"
  }
 },
 "nbformat": 4,
 "nbformat_minor": 4
}
