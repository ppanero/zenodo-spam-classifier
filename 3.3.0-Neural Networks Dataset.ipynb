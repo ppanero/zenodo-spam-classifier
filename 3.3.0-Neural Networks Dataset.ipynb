{
  "nbformat": 4,
  "nbformat_minor": 0,
  "metadata": {
    "kernelspec": {
      "display_name": "Python 3",
      "language": "python",
      "name": "python3"
    },
    "language_info": {
      "codemirror_mode": {
        "name": "ipython",
        "version": 3
      },
      "file_extension": ".py",
      "mimetype": "text/x-python",
      "name": "python",
      "nbconvert_exporter": "python",
      "pygments_lexer": "ipython3",
      "version": "3.7.7"
    },
    "colab": {
      "name": "2.0-Neural Networks Dataset.ipynb",
      "provenance": [],
      "collapsed_sections": [],
      "toc_visible": true
    }
  },
  "cells": [
    {
      "cell_type": "markdown",
      "metadata": {
        "id": "WjoVPB2UI-zT"
      },
      "source": [
        "# Neural Networks: Dataset\n",
        "\n",
        "Creation of training, validation and tests dataset to have comparable results when running the models."
      ]
    },
    {
      "cell_type": "markdown",
      "metadata": {
        "id": "n0nt-C0N6dLP"
      },
      "source": [
        "## Imports and function definitions"
      ]
    },
    {
      "cell_type": "code",
      "metadata": {
        "id": "qjYSSTP2I-zY",
        "colab": {
          "base_uri": "https://localhost:8080/"
        },
        "outputId": "8f178eaf-cd66-46ee-ba19-36d0fafa2c3d"
      },
      "source": [
        "# Imports\n",
        "import numpy as np\n",
        "import matplotlib.pyplot as plt\n",
        "import pandas as pd\n",
        "import pickle\n",
        "\n",
        "from imblearn.under_sampling import CondensedNearestNeighbour, RandomUnderSampler\n",
        "from keras.utils import to_categorical\n",
        "from sklearn.decomposition import PCA\n",
        "from sklearn.model_selection import train_test_split"
      ],
      "execution_count": 6,
      "outputs": [
        {
          "output_type": "stream",
          "text": [
            "/usr/local/lib/python3.6/dist-packages/sklearn/externals/six.py:31: FutureWarning: The module is deprecated in version 0.21 and will be removed in version 0.23 since we've dropped support for Python 2.7. Please rely on the official version of six (https://pypi.org/project/six/).\n",
            "  \"(https://pypi.org/project/six/).\", FutureWarning)\n",
            "/usr/local/lib/python3.6/dist-packages/sklearn/utils/deprecation.py:144: FutureWarning: The sklearn.neighbors.base module is  deprecated in version 0.22 and will be removed in version 0.24. The corresponding classes / functions should instead be imported from sklearn.neighbors. Anything that cannot be imported from sklearn.neighbors is now part of the private API.\n",
            "  warnings.warn(message, FutureWarning)\n"
          ],
          "name": "stderr"
        }
      ]
    },
    {
      "cell_type": "code",
      "metadata": {
        "id": "APDTx3nmI-zh"
      },
      "source": [
        "# One Hot encoding\n",
        "from keras.preprocessing.text import one_hot\n",
        "from keras.preprocessing.sequence import pad_sequences"
      ],
      "execution_count": 7,
      "outputs": []
    },
    {
      "cell_type": "code",
      "metadata": {
        "id": "ug4GdWvWI-zu"
      },
      "source": [
        "def plot_2d_space(X, y, label='Classes'):   \n",
        "    colors = ['#1F77B4', '#FF7F0E']\n",
        "    markers = ['o', 's']\n",
        "    for l, c, m in zip(np.unique(y), colors, markers):\n",
        "        plt.scatter(\n",
        "            X[y==l, 0],\n",
        "            X[y==l, 1],\n",
        "            c=c, label=l, marker=m\n",
        "        )\n",
        "    plt.title(label)\n",
        "    plt.legend(loc='upper right')\n",
        "    plt.show()"
      ],
      "execution_count": 8,
      "outputs": []
    },
    {
      "cell_type": "code",
      "metadata": {
        "id": "guEFfA1hI-zw"
      },
      "source": [
        "from mpl_toolkits.mplot3d import Axes3D\n",
        "\n",
        "def plot_3d_space(X, y, title):  \n",
        "    colors = ['#1F77B4', '#FF7F0E']\n",
        "    markers = ['o', 's']\n",
        "    fig = plt.figure(figsize=(8, 8))\n",
        "    ax = Axes3D(fig, elev=20, azim=134)\n",
        "    \n",
        "    for l, c, m in zip(np.unique(y), colors, markers):\n",
        "        ax.scatter(\n",
        "            X[y==l, 0],\n",
        "            X[y==l, 0],\n",
        "            X[y==l, 0],\n",
        "            c=c, label=l, marker=m, edgecolor='k'\n",
        "        )\n",
        "\n",
        "    ax.w_xaxis.set_ticklabels([])\n",
        "    ax.w_yaxis.set_ticklabels([])\n",
        "    ax.w_zaxis.set_ticklabels([])\n",
        "    ax.dist = 12\n",
        "    ax.set_title(title)\n",
        "    ax.legend(loc='upper right')"
      ],
      "execution_count": 9,
      "outputs": []
    },
    {
      "cell_type": "markdown",
      "metadata": {
        "id": "gmPoCb2dI-zy"
      },
      "source": [
        "## Data loading"
      ]
    },
    {
      "cell_type": "code",
      "metadata": {
        "id": "rsvTM6l9JPkU",
        "colab": {
          "base_uri": "https://localhost:8080/"
        },
        "outputId": "0477613b-e4f7-4b1f-e9df-959c0503d741"
      },
      "source": [
        "# When using Goolge Colab\n",
        "from google.colab import drive\n",
        "drive.mount('/content/drive')"
      ],
      "execution_count": 10,
      "outputs": [
        {
          "output_type": "stream",
          "text": [
            "Mounted at /content/drive\n"
          ],
          "name": "stdout"
        }
      ]
    },
    {
      "cell_type": "code",
      "metadata": {
        "id": "8HR86XOjJQ5w"
      },
      "source": [
        "base_path = \"/content/drive/My Drive\""
      ],
      "execution_count": 11,
      "outputs": []
    },
    {
      "cell_type": "code",
      "metadata": {
        "id": "85vRBj5eJL05"
      },
      "source": [
        "full_filepath = f\"{base_path}/datasets/neural_networks/zenodo_open_metadata_2020-11-26_balanced_text_4000_lang_en.jsonl\"\n",
        "full_df = pd.read_json(full_filepath, lines=True)  # The file is JSONLines"
      ],
      "execution_count": 12,
      "outputs": []
    },
    {
      "cell_type": "code",
      "metadata": {
        "id": "DhGu9HWBI-z1",
        "colab": {
          "base_uri": "https://localhost:8080/",
          "height": 204
        },
        "outputId": "f4f990b3-312a-4be7-e237-e1f2a63e5e97"
      },
      "source": [
        "full_df.head()"
      ],
      "execution_count": 13,
      "outputs": [
        {
          "output_type": "execute_result",
          "data": {
            "text/html": [
              "<div>\n",
              "<style scoped>\n",
              "    .dataframe tbody tr th:only-of-type {\n",
              "        vertical-align: middle;\n",
              "    }\n",
              "\n",
              "    .dataframe tbody tr th {\n",
              "        vertical-align: top;\n",
              "    }\n",
              "\n",
              "    .dataframe thead th {\n",
              "        text-align: right;\n",
              "    }\n",
              "</style>\n",
              "<table border=\"1\" class=\"dataframe\">\n",
              "  <thead>\n",
              "    <tr style=\"text-align: right;\">\n",
              "      <th></th>\n",
              "      <th>recid</th>\n",
              "      <th>text_4000</th>\n",
              "      <th>spam</th>\n",
              "      <th>lang</th>\n",
              "    </tr>\n",
              "  </thead>\n",
              "  <tbody>\n",
              "    <tr>\n",
              "      <th>0</th>\n",
              "      <td>1835666</td>\n",
              "      <td>the etiology of acute pleurisy with effusion n/a</td>\n",
              "      <td>False</td>\n",
              "      <td>en</td>\n",
              "    </tr>\n",
              "    <tr>\n",
              "      <th>1</th>\n",
              "      <td>3044415</td>\n",
              "      <td>biodiversity taxonomy terrestrial herbarium so...</td>\n",
              "      <td>False</td>\n",
              "      <td>en</td>\n",
              "    </tr>\n",
              "    <tr>\n",
              "      <th>2</th>\n",
              "      <td>2825828</td>\n",
              "      <td>science school was burned: a case study of cri...</td>\n",
              "      <td>False</td>\n",
              "      <td>en</td>\n",
              "    </tr>\n",
              "    <tr>\n",
              "      <th>3</th>\n",
              "      <td>1683734</td>\n",
              "      <td>the heat of vaporization of air n/a</td>\n",
              "      <td>False</td>\n",
              "      <td>en</td>\n",
              "    </tr>\n",
              "    <tr>\n",
              "      <th>4</th>\n",
              "      <td>3788697</td>\n",
              "      <td>biodiversity taxonomy animalia arthropoda inse...</td>\n",
              "      <td>False</td>\n",
              "      <td>en</td>\n",
              "    </tr>\n",
              "  </tbody>\n",
              "</table>\n",
              "</div>"
            ],
            "text/plain": [
              "     recid                                          text_4000   spam lang\n",
              "0  1835666   the etiology of acute pleurisy with effusion n/a  False   en\n",
              "1  3044415  biodiversity taxonomy terrestrial herbarium so...  False   en\n",
              "2  2825828  science school was burned: a case study of cri...  False   en\n",
              "3  1683734                the heat of vaporization of air n/a  False   en\n",
              "4  3788697  biodiversity taxonomy animalia arthropoda inse...  False   en"
            ]
          },
          "metadata": {
            "tags": []
          },
          "execution_count": 13
        }
      ]
    },
    {
      "cell_type": "code",
      "metadata": {
        "id": "Px9NcY--I-z3"
      },
      "source": [
        "# Split dataset\n",
        "\n",
        "labels = full_df['spam']\n",
        "cat_labels = to_categorical(labels)\n",
        "data = full_df[\"text_4000\"]"
      ],
      "execution_count": 14,
      "outputs": []
    },
    {
      "cell_type": "code",
      "metadata": {
        "id": "RmBhJ5caI-z4",
        "colab": {
          "base_uri": "https://localhost:8080/"
        },
        "outputId": "eb227ecb-378d-47cd-b2b8-35b7e6164ca1"
      },
      "source": [
        "data.head()"
      ],
      "execution_count": 15,
      "outputs": [
        {
          "output_type": "execute_result",
          "data": {
            "text/plain": [
              "0     the etiology of acute pleurisy with effusion n/a\n",
              "1    biodiversity taxonomy terrestrial herbarium so...\n",
              "2    science school was burned: a case study of cri...\n",
              "3                  the heat of vaporization of air n/a\n",
              "4    biodiversity taxonomy animalia arthropoda inse...\n",
              "Name: text_4000, dtype: object"
            ]
          },
          "metadata": {
            "tags": []
          },
          "execution_count": 15
        }
      ]
    },
    {
      "cell_type": "code",
      "metadata": {
        "id": "ZjqwTB5NI-z6",
        "colab": {
          "base_uri": "https://localhost:8080/"
        },
        "outputId": "adaa7ad1-447d-4d7a-ae42-3fcd8ad15f08"
      },
      "source": [
        "spam_ham = full_df.spam.value_counts()\n",
        "print(spam_ham)"
      ],
      "execution_count": 16,
      "outputs": [
        {
          "output_type": "stream",
          "text": [
            "False    31018\n",
            "True     25172\n",
            "Name: spam, dtype: int64\n"
          ],
          "name": "stdout"
        }
      ]
    },
    {
      "cell_type": "markdown",
      "metadata": {
        "id": "Vx8Wloon82sb"
      },
      "source": [
        "## Stopwords removal\n",
        "\n",
        "Only possible when treating the English only dataset"
      ]
    },
    {
      "cell_type": "code",
      "metadata": {
        "colab": {
          "base_uri": "https://localhost:8080/"
        },
        "id": "j3bxP8Ya81Ps",
        "outputId": "8a778cbf-1997-4c4f-ac42-9d1c112ef110"
      },
      "source": [
        "import nltk\n",
        "from nltk.corpus import stopwords\n",
        "\n",
        "nltk.download('stopwords')\n",
        "\n",
        "stopwords = set(stopwords.words('english'))\n",
        "\n",
        "def remove_stopwords(text):\n",
        "    text_array = text.split(' ')  # Assumes it was preprocessed to be punctuationless\n",
        "    diff = set(text_array).difference(set(stopwords))  # Not perfect but good enough\n",
        "\n",
        "    return ' '.join(diff)"
      ],
      "execution_count": 19,
      "outputs": [
        {
          "output_type": "stream",
          "text": [
            "[nltk_data] Downloading package stopwords to /root/nltk_data...\n",
            "[nltk_data]   Package stopwords is already up-to-date!\n"
          ],
          "name": "stdout"
        }
      ]
    },
    {
      "cell_type": "code",
      "metadata": {
        "id": "0BhmB8M_-Olr"
      },
      "source": [
        "full_df['text_stop'] = full_df.apply(lambda x: remove_stopwords(x['text_4000']), axis=1)"
      ],
      "execution_count": 20,
      "outputs": []
    },
    {
      "cell_type": "code",
      "metadata": {
        "colab": {
          "base_uri": "https://localhost:8080/"
        },
        "id": "uso_D3AN-xbT",
        "outputId": "0f727432-200e-4ea1-98f7-608d7adbcd27"
      },
      "source": [
        "data = full_df[\"text_stop\"]\n",
        "data.head()"
      ],
      "execution_count": 21,
      "outputs": [
        {
          "output_type": "execute_result",
          "data": {
            "text/plain": [
              "0                 effusion acute pleurisy etiology n/a\n",
              "1    physalodes botanic meise (br0000014444050) her...\n",
              "2    thailand (4.4 crisis. denial, usd). education ...\n",
              "3                            vaporization heat air n/a\n",
              "4     catocala female (coll. jessica. states edward...\n",
              "Name: text_stop, dtype: object"
            ]
          },
          "metadata": {
            "tags": []
          },
          "execution_count": 21
        }
      ]
    },
    {
      "cell_type": "markdown",
      "metadata": {
        "id": "Rkdlji9CI-z8"
      },
      "source": [
        "## One Hot vectorization\n",
        "\n",
        "One hot encoding allows to have each term identified in a vocabulary, which is needed for the input of the `Embedding` layerd. In addition, TF-IDF can camuflage different words with a similar score and we want the Embedding to find this out."
      ]
    },
    {
      "cell_type": "code",
      "metadata": {
        "id": "KWmk8YGPI-z8"
      },
      "source": [
        "vocab_size = 150000  # To account for different languages\n",
        "max_input_length = 4000 # We assume that there cannot be more than 4000k words "
      ],
      "execution_count": 23,
      "outputs": []
    },
    {
      "cell_type": "code",
      "metadata": {
        "id": "iraw4qR6I-z9",
        "colab": {
          "base_uri": "https://localhost:8080/"
        },
        "outputId": "f5fdca67-3363-47f3-ba25-5ebb1c38753c"
      },
      "source": [
        "data_vec = []\n",
        "max_length = -1\n",
        "safeguard = 4000\n",
        "\n",
        "for record in data:\n",
        "    # filters and lower should not be needed. Those were applied on preprocessing (notebook 0)\n",
        "    vec = one_hot(record, vocab_size, split=' ')\n",
        "    vec_len = len(vec)\n",
        "    if vec_len > max_length:\n",
        "      max_length = vec_len\n",
        "\n",
        "    # This should never happen, it is just a safeguard\n",
        "    if vec_len > safeguard:\n",
        "      if len(record.split(' ')) > safeguard:  # This should never be True. It is a safeguard.\n",
        "        print(f\"Hard failure. input len {len(record)}\")\n",
        "      print(f\"Soft failure. One hot expanded, found length {vec_len}\")\n",
        "    \n",
        "    data_vec.append(vec)\n",
        "    \n",
        "print(f\"Maximum length {max_length}\")"
      ],
      "execution_count": 24,
      "outputs": [
        {
          "output_type": "stream",
          "text": [
            "Maximum length 1528\n"
          ],
          "name": "stdout"
        }
      ]
    },
    {
      "cell_type": "code",
      "metadata": {
        "id": "Bd-om6usI-0A"
      },
      "source": [
        "data_vec_padded = pad_sequences(data_vec, maxlen=max_length)"
      ],
      "execution_count": 25,
      "outputs": []
    },
    {
      "cell_type": "markdown",
      "metadata": {
        "id": "mEwk9VZiI-0B"
      },
      "source": [
        "### Display the distribution in 2D and 3D using PCA"
      ]
    },
    {
      "cell_type": "code",
      "metadata": {
        "id": "Jn4wJ120I-0C"
      },
      "source": [
        "pca_2 = PCA(n_components=2)\n",
        "\n",
        "# y = labels (no need to assign)\n",
        "# If using TF-IDF the data_vec needs to be made dense (it is a sparse one), use `.todense()`\n",
        "X_2d = pca_2.fit_transform(data_vec_padded)"
      ],
      "execution_count": 26,
      "outputs": []
    },
    {
      "cell_type": "code",
      "metadata": {
        "id": "gTSi7qxSI-0E",
        "colab": {
          "base_uri": "https://localhost:8080/",
          "height": 294
        },
        "outputId": "8d78a265-51b3-47e9-e4e4-7a3e7e8a27b2"
      },
      "source": [
        "plot_2d_space(X_2d, labels, 'Balanced dataset One Hot padded (2 PCA components)')"
      ],
      "execution_count": 27,
      "outputs": [
        {
          "output_type": "display_data",
          "data": {
            "image/png": "[encoded data removed]",
            "text/plain": [
              "<Figure size 432x288 with 1 Axes>"
            ]
          },
          "metadata": {
            "tags": [],
            "needs_background": "light"
          }
        }
      ]
    },
    {
      "cell_type": "code",
      "metadata": {
        "id": "BXI6-p1HI-0G"
      },
      "source": [
        "pca_3 = PCA(n_components=3)\n",
        "\n",
        "# y = labels (no need to assign)\n",
        "# If using TF-IDF the data_vec needs to be made dense (it is a sparse one), use `.todense()`\n",
        "X_3d = pca_3.fit_transform(data_vec_padded)"
      ],
      "execution_count": 28,
      "outputs": []
    },
    {
      "cell_type": "code",
      "metadata": {
        "id": "sN7d2U0UI-0I",
        "colab": {
          "base_uri": "https://localhost:8080/",
          "height": 607
        },
        "outputId": "61e98391-3e7f-4f5b-8fda-3df5cd869ac4"
      },
      "source": [
        "plot_3d_space(X_3d, labels, 'Balanced dataset One Hot padded  (3 PCA components)')"
      ],
      "execution_count": 29,
      "outputs": [
        {
          "output_type": "display_data",
          "data": {
            "image/png": "[encoded data removed]",
            "text/plain": [
              "<Figure size 576x576 with 1 Axes>"
            ]
          },
          "metadata": {
            "tags": [],
            "needs_background": "light"
          }
        }
      ]
    },
    {
      "cell_type": "markdown",
      "metadata": {
        "id": "K8eRcueII-0J"
      },
      "source": [
        "## Dataset split"
      ]
    },
    {
      "cell_type": "code",
      "metadata": {
        "id": "bbq_qwK4I-0M"
      },
      "source": [
        "X_train, X_test, y_train, y_test = train_test_split(data_vec_padded, cat_labels, test_size=0.3, random_state=422)\n",
        "X_train, X_val, y_train, y_val = train_test_split(X_train, y_train, test_size=0.1, random_state=422)"
      ],
      "execution_count": 30,
      "outputs": []
    },
    {
      "cell_type": "code",
      "metadata": {
        "id": "rij1N49cI-0O",
        "colab": {
          "base_uri": "https://localhost:8080/"
        },
        "outputId": "8dc4a3e2-00ae-405e-ab58-ae61d137c8fa"
      },
      "source": [
        "print(f\"Training set shape {X_train.shape}\")\n",
        "print(f\"Validation set shape {X_val.shape}\")\n",
        "print(f\"Test set shape {X_test.shape}\")"
      ],
      "execution_count": 31,
      "outputs": [
        {
          "output_type": "stream",
          "text": [
            "Training set shape (35399, 1528)\n",
            "Validation set shape (3934, 1528)\n",
            "Test set shape (16857, 1528)\n"
          ],
          "name": "stdout"
        }
      ]
    },
    {
      "cell_type": "code",
      "metadata": {
        "id": "QmaYYoehI-0O"
      },
      "source": [
        "num_classes = 2  # Number of target classes (Spam and Ham)"
      ],
      "execution_count": 32,
      "outputs": []
    },
    {
      "cell_type": "code",
      "metadata": {
        "id": "62mNbvsgI-0P",
        "colab": {
          "base_uri": "https://localhost:8080/"
        },
        "outputId": "ae4f1f91-aae8-4d4a-d0a9-172b6f3ede51"
      },
      "source": [
        "print(f\"Training labels set size {y_train.shape}\")\n",
        "print(f\"Validation labels set size {y_val.shape}\")\n",
        "print(f\"Test labels set size {y_test.shape}\")"
      ],
      "execution_count": 33,
      "outputs": [
        {
          "output_type": "stream",
          "text": [
            "Training labels set size (35399, 2)\n",
            "Validation labels set size (3934, 2)\n",
            "Test labels set size (16857, 2)\n"
          ],
          "name": "stdout"
        }
      ]
    },
    {
      "cell_type": "code",
      "metadata": {
        "id": "-dA2v6PHI2v5"
      },
      "source": [
        "pickle.dump(X_train, open(f\"{base_path}/datasets/neural_networks/zenodo_open_metadata_2020-11-26_X_train_en.pkl\",\"wb\"))\n",
        "pickle.dump(X_val, open(f\"{base_path}/datasets/neural_networks/zenodo_open_metadata_2020-11-26_X_val_en.pkl\",\"wb\"))\n",
        "pickle.dump(X_test, open(f\"{base_path}/datasets/neural_networks/zenodo_open_metadata_2020-11-26_X_test_en.pkl\",\"wb\"))\n",
        "\n",
        "pickle.dump(y_train, open(f\"{base_path}/datasets/neural_networks/zenodo_open_metadata_2020-11-26_y_train_en.pkl\",\"wb\"))\n",
        "pickle.dump(y_val, open(f\"{base_path}/datasets/neural_networks/zenodo_open_metadata_2020-11-26_y_val_en.pkl\",\"wb\"))\n",
        "pickle.dump(y_test, open(f\"{base_path}/datasets/neural_networks/zenodo_open_metadata_2020-11-26_y_test_en.pkl\",\"wb\"))"
      ],
      "execution_count": 34,
      "outputs": []
    },
    {
      "cell_type": "code",
      "metadata": {
        "id": "x1Ke7cX-J5-J"
      },
      "source": [
        ""
      ],
      "execution_count": null,
      "outputs": []
    }
  ]
}