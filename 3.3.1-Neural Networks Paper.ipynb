{
  "nbformat": 4,
  "nbformat_minor": 0,
  "metadata": {
    "kernelspec": {
      "display_name": "Python 3",
      "language": "python",
      "name": "python3"
    },
    "language_info": {
      "codemirror_mode": {
        "name": "ipython",
        "version": 3
      },
      "file_extension": ".py",
      "mimetype": "text/x-python",
      "name": "python",
      "nbconvert_exporter": "python",
      "pygments_lexer": "ipython3",
      "version": "3.7.7"
    },
    "colab": {
      "name": "2.2-Neural Networks Paper.ipynb",
      "provenance": [],
      "collapsed_sections": [
        "n0nt-C0N6dLP",
        "gmPoCb2dI-zy",
        "5f_lX2NKI-0Q",
        "NABpDjhz6l1g",
        "eVNcUya-Gg39"
      ],
      "toc_visible": true
    },
    "accelerator": "GPU"
  },
  "cells": [
    {
      "cell_type": "markdown",
      "metadata": {
        "id": "WjoVPB2UI-zT"
      },
      "source": [
        "# Neural Networks: CNN\n",
        "\n",
        "The work of this notebook is based on the paper from Jain et al. [1][2]. A CNN is trained using semantically enriched vectors (using Word2Vec).\n",
        "\n",
        "\n",
        "[1] Gauri Jain, Manisha Sharma, and Basant Agarwal. Spam detection on social media using semantic convolutional neural network. *International Journal of Knowledge Discovery inBioinformatics (IJKDB)*, 8(1):12–26, 2018.\n",
        "\n",
        "[2] Gauri Jain, Manisha Sharma, and Basant Agarwal. Spam detection in social media using convolutional and long short term memory neural network. *Annals of Mathematics andArtificial Intelligence*, 85(1):21–44, 2019"
      ]
    },
    {
      "cell_type": "markdown",
      "metadata": {
        "id": "n0nt-C0N6dLP"
      },
      "source": [
        "## Imports and function definitions"
      ]
    },
    {
      "cell_type": "code",
      "metadata": {
        "id": "qjYSSTP2I-zY"
      },
      "source": [
        "# Imports\n",
        "import numpy as np\n",
        "import matplotlib.pyplot as plt\n",
        "import pickle\n",
        "\n",
        "from keras.models import Sequential\n",
        "from keras.layers import Conv1D, Dense, Dropout, Flatten, Input, LSTM, MaxPooling1D\n",
        "from keras.layers.embeddings import Embedding\n",
        "from sklearn.metrics import accuracy_score, classification_report"
      ],
      "execution_count": 22,
      "outputs": []
    },
    {
      "cell_type": "code",
      "metadata": {
        "id": "9JZnC_xwI-zr"
      },
      "source": [
        "def plot_metrics(history, validation=False):\n",
        "    fig, (ax1, ax2) = plt.subplots(1, 2)\n",
        "    fig.set_figwidth(12)\n",
        "    # Accuracy\n",
        "    ax1.set_title('Model accuracy')\n",
        "    ax1.set_ylabel('Accuracy')\n",
        "    ax1.set_xlabel('Epoch')\n",
        "    ax1.plot(history['accuracy'])\n",
        "    if validation:\n",
        "        ax1.plot(history['val_accuracy'])\n",
        "    ax1.legend(['Train', 'Validation'], loc='upper left')\n",
        "\n",
        "    # Loss\n",
        "    ax2.set_title('Model loss') \n",
        "    ax2.set_ylabel('Loss') \n",
        "    ax2.set_xlabel('Epoch')\n",
        "    ax2.plot(history['loss'])\n",
        "    if validation:\n",
        "        ax2.plot(history['val_loss'])\n",
        "    ax2.legend(['Train', 'Validation'], loc='upper left') \n",
        "\n",
        "    plt.show()"
      ],
      "execution_count": 23,
      "outputs": []
    },
    {
      "cell_type": "code",
      "metadata": {
        "id": "XF6IuV0-JMa3",
        "colab": {
          "base_uri": "https://localhost:8080/"
        },
        "outputId": "077b79ef-1850-47a7-c445-e19eaa1105be"
      },
      "source": [
        "# Show versions\n",
        "import platform\n",
        "import keras\n",
        "import tensorflow as tf\n",
        "\n",
        "print(f\"Python: {platform.python_version()}\")\n",
        "print(f\"Keras: {keras.__version__}\")\n",
        "print(f\"Tensorflow: {tf.__version__}\")"
      ],
      "execution_count": 24,
      "outputs": [
        {
          "output_type": "stream",
          "text": [
            "Python: 3.6.9\n",
            "Keras: 2.4.3\n",
            "Tensorflow: 2.3.0\n"
          ],
          "name": "stdout"
        }
      ]
    },
    {
      "cell_type": "code",
      "metadata": {
        "id": "8tpg7LYYJOGo",
        "colab": {
          "base_uri": "https://localhost:8080/"
        },
        "outputId": "ce954676-9a60-4029-c266-376d90c455e2"
      },
      "source": [
        "# Connect to GPU\n",
        "%tensorflow_version 2.x\n",
        "import tensorflow as tf\n",
        "device_name = tf.test.gpu_device_name()\n",
        "if device_name != '/device:GPU:0':\n",
        "  raise SystemError('GPU device not found')\n",
        "print('Found GPU at: {}'.format(device_name))"
      ],
      "execution_count": 25,
      "outputs": [
        {
          "output_type": "stream",
          "text": [
            "Found GPU at: /device:GPU:0\n"
          ],
          "name": "stdout"
        }
      ]
    },
    {
      "cell_type": "markdown",
      "metadata": {
        "id": "gmPoCb2dI-zy"
      },
      "source": [
        "## Data loading"
      ]
    },
    {
      "cell_type": "code",
      "metadata": {
        "id": "rsvTM6l9JPkU",
        "colab": {
          "base_uri": "https://localhost:8080/"
        },
        "outputId": "3ed94e21-68da-468e-f759-650c203a184d"
      },
      "source": [
        "# When using Goolge Colab\n",
        "from google.colab import drive\n",
        "drive.mount('/content/drive')"
      ],
      "execution_count": 26,
      "outputs": [
        {
          "output_type": "stream",
          "text": [
            "Drive already mounted at /content/drive; to attempt to forcibly remount, call drive.mount(\"/content/drive\", force_remount=True).\n"
          ],
          "name": "stdout"
        }
      ]
    },
    {
      "cell_type": "code",
      "metadata": {
        "id": "8HR86XOjJQ5w"
      },
      "source": [
        "base_path = \"/content/drive/My Drive\""
      ],
      "execution_count": 27,
      "outputs": []
    },
    {
      "cell_type": "code",
      "metadata": {
        "id": "bbq_qwK4I-0M"
      },
      "source": [
        "X_train = pickle.load(open(f\"{base_path}/datasets/neural_networks/zenodo_open_metadata_2020-11-21_X_train.pkl\",\"rb\"))\n",
        "X_test = pickle.load(open(f\"{base_path}/datasets/neural_networks/zenodo_open_metadata_2020-11-21_X_test.pkl\",\"rb\"))\n",
        "X_val = pickle.load(open(f\"{base_path}/datasets/neural_networks/zenodo_open_metadata_2020-11-21_X_val.pkl\",\"rb\"))\n",
        "y_train = pickle.load(open(f\"{base_path}/datasets/neural_networks/zenodo_open_metadata_2020-11-21_y_train.pkl\",\"rb\"))\n",
        "y_test = pickle.load(open(f\"{base_path}/datasets/neural_networks/zenodo_open_metadata_2020-11-21_y_test.pkl\",\"rb\"))\n",
        "y_val = pickle.load(open(f\"{base_path}/datasets/neural_networks/zenodo_open_metadata_2020-11-21_y_val.pkl\",\"rb\"))"
      ],
      "execution_count": 28,
      "outputs": []
    },
    {
      "cell_type": "code",
      "metadata": {
        "id": "rij1N49cI-0O",
        "colab": {
          "base_uri": "https://localhost:8080/"
        },
        "outputId": "4c8a0067-788c-4181-c720-68bd47a31c31"
      },
      "source": [
        "print(f\"Training set shape {X_train.shape}\")\n",
        "print(f\"Validation set shape {X_val.shape}\")\n",
        "print(f\"Test set shape {X_test.shape}\")"
      ],
      "execution_count": 29,
      "outputs": [
        {
          "output_type": "stream",
          "text": [
            "Training set shape (47607, 4539)\n",
            "Validation set shape (5290, 4539)\n",
            "Test set shape (22671, 4539)\n"
          ],
          "name": "stdout"
        }
      ]
    },
    {
      "cell_type": "code",
      "metadata": {
        "id": "QmaYYoehI-0O"
      },
      "source": [
        "num_classes = 2  # Number of target classes (Spam and Ham)"
      ],
      "execution_count": 30,
      "outputs": []
    },
    {
      "cell_type": "code",
      "metadata": {
        "id": "62mNbvsgI-0P",
        "colab": {
          "base_uri": "https://localhost:8080/"
        },
        "outputId": "ca570887-7c12-4d79-eb98-345299332c35"
      },
      "source": [
        "print(f\"Training labels set size {y_train.shape}\")\n",
        "print(f\"Validation labels set size {y_val.shape}\")\n",
        "print(f\"Test labels set size {y_test.shape}\")"
      ],
      "execution_count": 31,
      "outputs": [
        {
          "output_type": "stream",
          "text": [
            "Training labels set size (47607, 2)\n",
            "Validation labels set size (5290, 2)\n",
            "Test labels set size (22671, 2)\n"
          ],
          "name": "stdout"
        }
      ]
    },
    {
      "cell_type": "code",
      "metadata": {
        "id": "urQW86VKtEuV"
      },
      "source": [
        "vocab_size = 150000\n",
        "max_length = 4539"
      ],
      "execution_count": 32,
      "outputs": []
    },
    {
      "cell_type": "markdown",
      "metadata": {
        "id": "5f_lX2NKI-0Q"
      },
      "source": [
        "## CNN\n",
        "\n",
        "From the paper of Jain et al. the hyperparameters are:\n",
        "\n",
        "|   | SMS | Twitter |\n",
        "|:--|:---:|:-------:|\n",
        "|Number of filters| 128 | 54 |\n",
        "|Filter length| 5 | 4 |\n",
        "|Droput | 0.1 | 0.2 |\n",
        "|Optimizer | Adagrad (lr: 0.1) | Adagrad (lr: 0.1) |\n",
        "|Activation function | ReLu | ReLu |\n",
        "|Epochs | 10 | 10 |\n",
        "\n",
        "Note that we had to ignore the number of features used by the atuthor to be able to fit the vocabulary in the embedding, accounting for multi-language content (i.e. a bigger number of words). To run one or the other simply change the configuration in the code below."
      ]
    },
    {
      "cell_type": "code",
      "metadata": {
        "id": "kd7pTgcNI-0Q",
        "colab": {
          "base_uri": "https://localhost:8080/"
        },
        "outputId": "d5678807-7770-4c69-97dd-7674b7a0a3ed"
      },
      "source": [
        "with tf.device('/device:GPU:0'):\n",
        "  \n",
        "  cnn_model = Sequential()\n",
        "\n",
        "  cnn_model.add(Embedding(input_dim=vocab_size, output_dim=200, input_length=max_length))\n",
        "  cnn_model.add(Conv1D(filters=128, kernel_size=5, activation=\"relu\"))\n",
        "  cnn_model.add(MaxPooling1D())\n",
        "  cnn_model.add(Dropout(rate=0.1))\n",
        "  cnn_model.add(Flatten())\n",
        "  cnn_model.add(Dense(units=num_classes, activation=\"softmax\"))\n",
        "\n",
        "  cnn_model.compile(optimizer='adagrad', loss='categorical_crossentropy', metrics=['accuracy'])\n",
        "\n",
        "  cnn_history = cnn_model.fit(\n",
        "      X_train,\n",
        "      y_train,\n",
        "      epochs=10,\n",
        "      validation_data=(X_val, y_val)\n",
        "  )"
      ],
      "execution_count": 26,
      "outputs": [
        {
          "output_type": "stream",
          "text": [
            "Epoch 1/10\n",
            "1488/1488 [==============================] - 116s 78ms/step - loss: 0.4171 - accuracy: 0.7988 - val_loss: 0.3944 - val_accuracy: 0.8164\n",
            "Epoch 2/10\n",
            "1488/1488 [==============================] - 115s 77ms/step - loss: 0.3784 - accuracy: 0.8215 - val_loss: 0.3708 - val_accuracy: 0.8388\n",
            "Epoch 3/10\n",
            "1488/1488 [==============================] - 115s 77ms/step - loss: 0.3514 - accuracy: 0.8454 - val_loss: 0.3387 - val_accuracy: 0.8656\n",
            "Epoch 4/10\n",
            "1488/1488 [==============================] - 115s 78ms/step - loss: 0.3161 - accuracy: 0.8748 - val_loss: 0.3026 - val_accuracy: 0.8773\n",
            "Epoch 5/10\n",
            "1488/1488 [==============================] - 116s 78ms/step - loss: 0.2807 - accuracy: 0.8882 - val_loss: 0.2722 - val_accuracy: 0.8868\n",
            "Epoch 6/10\n",
            "1488/1488 [==============================] - 116s 78ms/step - loss: 0.2499 - accuracy: 0.9050 - val_loss: 0.2434 - val_accuracy: 0.9059\n",
            "Epoch 7/10\n",
            "1488/1488 [==============================] - 116s 78ms/step - loss: 0.2228 - accuracy: 0.9206 - val_loss: 0.2162 - val_accuracy: 0.9200\n",
            "Epoch 8/10\n",
            "1488/1488 [==============================] - 117s 79ms/step - loss: 0.1991 - accuracy: 0.9302 - val_loss: 0.1934 - val_accuracy: 0.9323\n",
            "Epoch 9/10\n",
            "1488/1488 [==============================] - 117s 78ms/step - loss: 0.1791 - accuracy: 0.9382 - val_loss: 0.1751 - val_accuracy: 0.9423\n",
            "Epoch 10/10\n",
            "1488/1488 [==============================] - 117s 78ms/step - loss: 0.1628 - accuracy: 0.9462 - val_loss: 0.1621 - val_accuracy: 0.9514\n"
          ],
          "name": "stdout"
        }
      ]
    },
    {
      "cell_type": "code",
      "metadata": {
        "id": "yrn1UhBcNX4k",
        "colab": {
          "base_uri": "https://localhost:8080/"
        },
        "outputId": "837ff242-9ac6-4e2c-a6c2-66792ad939c7"
      },
      "source": [
        "cnn_model.summary()"
      ],
      "execution_count": 27,
      "outputs": [
        {
          "output_type": "stream",
          "text": [
            "Model: \"sequential_2\"\n",
            "_________________________________________________________________\n",
            "Layer (type)                 Output Shape              Param #   \n",
            "=================================================================\n",
            "embedding_1 (Embedding)      (None, 4539, 200)         30000000  \n",
            "_________________________________________________________________\n",
            "conv1d_1 (Conv1D)            (None, 4535, 128)         128128    \n",
            "_________________________________________________________________\n",
            "max_pooling1d_1 (MaxPooling1 (None, 2267, 128)         0         \n",
            "_________________________________________________________________\n",
            "dropout_1 (Dropout)          (None, 2267, 128)         0         \n",
            "_________________________________________________________________\n",
            "flatten_1 (Flatten)          (None, 290176)            0         \n",
            "_________________________________________________________________\n",
            "dense_1 (Dense)              (None, 2)                 580354    \n",
            "=================================================================\n",
            "Total params: 30,708,482\n",
            "Trainable params: 30,708,482\n",
            "Non-trainable params: 0\n",
            "_________________________________________________________________\n"
          ],
          "name": "stdout"
        }
      ]
    },
    {
      "cell_type": "code",
      "metadata": {
        "id": "WHwIPE4JI-0U",
        "colab": {
          "base_uri": "https://localhost:8080/",
          "height": 295
        },
        "outputId": "d4cad62b-731e-4805-e8ff-c102209841f1"
      },
      "source": [
        "plot_metrics(cnn_history.history, validation=True)"
      ],
      "execution_count": 28,
      "outputs": [
        {
          "output_type": "display_data",
          "data": {
            "image/png": "[encoded data removed]",
            "text/plain": [
              "<Figure size 864x288 with 2 Axes>"
            ]
          },
          "metadata": {
            "tags": [],
            "needs_background": "light"
          }
        }
      ]
    },
    {
      "cell_type": "code",
      "metadata": {
        "id": "h92l9ScrI-0V",
        "colab": {
          "base_uri": "https://localhost:8080/"
        },
        "outputId": "2cdb7f69-7304-4513-c880-9b8eb0d1333b"
      },
      "source": [
        "# Save model\n",
        "cnn_model.save(f\"{base_path}/models/2020_11_21_paper_sms_cnn\")"
      ],
      "execution_count": 29,
      "outputs": [
        {
          "output_type": "stream",
          "text": [
            "INFO:tensorflow:Assets written to: /content/drive/My Drive/models/2020_11_21_paper_sms_cnn/assets\n"
          ],
          "name": "stdout"
        }
      ]
    },
    {
      "cell_type": "code",
      "metadata": {
        "id": "IlIVaQbQI-0W",
        "colab": {
          "base_uri": "https://localhost:8080/"
        },
        "outputId": "33e6609c-ce44-4235-c48d-201785fe1ff5"
      },
      "source": [
        "cnn_y_train_predclass = cnn_model.predict(X_train)\n",
        "\n",
        "sl_cnn_y_train_predclass = np.argmax(cnn_y_train_predclass, axis=1)\n",
        "sl_y_train = np.argmax(y_train, axis=1)\n",
        "\n",
        "cnn_train_accuracy = round(accuracy_score(sl_y_train, sl_cnn_y_train_predclass), 3)\n",
        "print(f\"Train accuracy: {cnn_train_accuracy}\")\n",
        "\n",
        "print(\"Train Classification Report\")\n",
        "print(classification_report(sl_y_train, sl_cnn_y_train_predclass))"
      ],
      "execution_count": 30,
      "outputs": [
        {
          "output_type": "stream",
          "text": [
            "Train accuracy: 0.951\n",
            "Train Classification Report\n",
            "              precision    recall  f1-score   support\n",
            "\n",
            "           0       0.93      0.97      0.95     23694\n",
            "           1       0.97      0.93      0.95     23913\n",
            "\n",
            "    accuracy                           0.95     47607\n",
            "   macro avg       0.95      0.95      0.95     47607\n",
            "weighted avg       0.95      0.95      0.95     47607\n",
            "\n"
          ],
          "name": "stdout"
        }
      ]
    },
    {
      "cell_type": "code",
      "metadata": {
        "id": "hdNx4_gSI-0X",
        "colab": {
          "base_uri": "https://localhost:8080/"
        },
        "outputId": "d7e33138-35a7-4bdc-a081-598af3dd5669"
      },
      "source": [
        "cnn_y_test_predclass = cnn_model.predict(X_test)\n",
        "\n",
        "sl_cnn_y_test_predclass = np.argmax(cnn_y_test_predclass, axis=1)\n",
        "sl_y_test = np.argmax(y_test, axis=1)\n",
        "\n",
        "cnn_test_accuracy = round(accuracy_score(sl_y_test, sl_cnn_y_test_predclass), 3)\n",
        "print(f\"Test accuracy: {cnn_test_accuracy}\")\n",
        "\n",
        "print(\"Test Classification Report\")\n",
        "print (classification_report(sl_y_test, sl_cnn_y_test_predclass))"
      ],
      "execution_count": 31,
      "outputs": [
        {
          "output_type": "stream",
          "text": [
            "Test accuracy: 0.95\n",
            "Test Classification Report\n",
            "              precision    recall  f1-score   support\n",
            "\n",
            "           0       0.93      0.97      0.95     11448\n",
            "           1       0.97      0.93      0.95     11223\n",
            "\n",
            "    accuracy                           0.95     22671\n",
            "   macro avg       0.95      0.95      0.95     22671\n",
            "weighted avg       0.95      0.95      0.95     22671\n",
            "\n"
          ],
          "name": "stdout"
        }
      ]
    },
    {
      "cell_type": "markdown",
      "metadata": {
        "id": "pcpm2sdAURzu"
      },
      "source": [
        "### Results\n",
        "\n",
        "Configuration specific to this problem:\n",
        "- Embedding dimension: 200\n",
        "- Batch size: 32 (default)\n",
        "- Vocabulary size: 150000\n",
        "- Max vector length: 4539\n",
        "\n",
        "**SMS configuration** (/models/2020_11_21_paper_sms_cnn)\n",
        "\n",
        "- Time per epoch: ~116s\n",
        "- 10th epoch accuracy: 0.9462\n",
        "- 10th epoch validation accuracty: 0.9414\n",
        "- Train set accuracy: 0.951\n",
        "- Test set accuracy: 0.95\n",
        "\n",
        "Train set report:\n",
        "\n",
        "|  |Precission|Recall|F1 Score|Support|\n",
        "|:-|:-:|:-:|:-:|:-:|\n",
        "|0|0.93|0.97|0.95|23694|\n",
        "|1|0.97|0.93|0.95|23913|\n",
        "||||||\n",
        "|accuracy|||0.95|47607|\n",
        "|macro avg|0.95|0.95|0.95|47607|\n",
        "|weighted avg|0.95|0.95|0.95|47607|\n",
        "\n",
        "Test set report:\n",
        "\n",
        "|  |Precission|Recall|F1 Score|Support|\n",
        "|:-|:-:|:-:|:-:|:-:|\n",
        "|0|0.93|0.97|0.95|11448|\n",
        "|1|0.97|0.93|0.95|11223|\n",
        "||||||\n",
        "|accuracy|||0.95|22671|\n",
        "|macro avg|0.95|0.95|0.95|22671|\n",
        "|weighted avg|0.95|0.95|0.95|22671|\n",
        "\n",
        "\n",
        "**Twitter configuration** (/models/2020_11_21_paper_twitter_cnn)\n",
        "\n",
        "- Time per epoch: ~99s\n",
        "- 10th epoch accuracy: 0.9441\n",
        "- 10th epoch validation accuracty: 0.9482\n",
        "- Train set accuracy: 0.948\n",
        "- Test set accuracy: 0.946\n",
        "\n",
        "Train set report:\n",
        "\n",
        "|  |Precission|Recall|F1 Score|Support|\n",
        "|:-|:-:|:-:|:-:|:-:|\n",
        "|0|0.92|0.98|0.95|23694|\n",
        "|1|0.98|0.92|0.95|23913|\n",
        "||||||\n",
        "|accuracy|||0.95|47607|\n",
        "|macro avg|0.95|0.95|0.95|47607|\n",
        "|weighted avg|0.95|0.95|0.95|47607|\n",
        "\n",
        "Test set report:\n",
        "\n",
        "|  |Precission|Recall|F1 Score|Support|\n",
        "|:-|:-:|:-:|:-:|:-:|\n",
        "|0|0.92|0.98|0.95|11448|\n",
        "|1|0.98|0.91|0.94|11223|\n",
        "||||||\n",
        "|accuracy|||0.95|22671|\n",
        "|macro avg|0.95|0.95|0.95|22671|\n",
        "|weighted avg|0.95|0.95|0.95|22671|"
      ]
    },
    {
      "cell_type": "markdown",
      "metadata": {
        "id": "ONVTTlrEI-0X"
      },
      "source": [
        "## RNN\n",
        "\n",
        "From the paper of Jain et al. the hyperparameters are:\n",
        "\n",
        "|   | SMS | Twitter |\n",
        "|:--|:---:|:-------:|\n",
        "|Number of units| 100 | 100 |\n",
        "|Droput | 0.1 | 0.2 |\n",
        "|Optimizer | Adagrad (lr: 0.1) | Adagrad (lr: 0.1) |\n",
        "|Activation function | ReLu | ReLu |\n",
        "|Epochs | 10 | 10 |\n",
        "\n",
        "Note that we had to ignore the number of features used by the atuthor to be able to fit the vocabulary in the embedding, accounting for multi-language content (i.e. a bigger number of words). To run one or the other simply change the configuration in the code below.\n",
        "\n"
      ]
    },
    {
      "cell_type": "code",
      "metadata": {
        "id": "2UwpErVoI-0Y",
        "colab": {
          "base_uri": "https://localhost:8080/"
        },
        "outputId": "a515f941-81ad-40bf-d07b-a15774d05878"
      },
      "source": [
        "with tf.device('/device:GPU:0'):\n",
        "  \n",
        "  rnn_model = Sequential()\n",
        "\n",
        "  rnn_model.add(Embedding(input_dim=vocab_size, output_dim=200, input_length=max_length))\n",
        "  rnn_model.add(LSTM(units=100))\n",
        "  rnn_model.add(Dropout(rate=0.1))\n",
        "  rnn_model.add(Dense(units=num_classes, activation=\"sigmoid\"))\n",
        "\n",
        "  rnn_model.compile(loss='categorical_crossentropy', optimizer='adagrad', metrics=['accuracy'])\n",
        "\n",
        "  rnn_history = rnn_model.fit(\n",
        "    X_train,\n",
        "    y_train,\n",
        "    epochs=10,\n",
        "    validation_data=(X_val, y_val)\n",
        ")"
      ],
      "execution_count": 48,
      "outputs": [
        {
          "output_type": "stream",
          "text": [
            "Epoch 1/10\n",
            "1488/1488 [==============================] - 357s 240ms/step - loss: 0.6894 - accuracy: 0.6993 - val_loss: 0.6861 - val_accuracy: 0.7274\n",
            "Epoch 2/10\n",
            "1488/1488 [==============================] - 357s 240ms/step - loss: 0.6817 - accuracy: 0.7311 - val_loss: 0.6754 - val_accuracy: 0.7302\n",
            "Epoch 3/10\n",
            "1488/1488 [==============================] - 359s 241ms/step - loss: 0.5986 - accuracy: 0.7704 - val_loss: 0.3951 - val_accuracy: 0.8484\n",
            "Epoch 4/10\n",
            "1488/1488 [==============================] - 369s 248ms/step - loss: 0.3382 - accuracy: 0.8718 - val_loss: 0.3111 - val_accuracy: 0.8854\n",
            "Epoch 5/10\n",
            "1488/1488 [==============================] - 368s 247ms/step - loss: 0.2759 - accuracy: 0.8978 - val_loss: 0.2617 - val_accuracy: 0.8989\n",
            "Epoch 6/10\n",
            "1488/1488 [==============================] - 369s 248ms/step - loss: 0.4174 - accuracy: 0.8262 - val_loss: 0.5748 - val_accuracy: 0.7161\n",
            "Epoch 7/10\n",
            "1488/1488 [==============================] - 373s 251ms/step - loss: 0.4033 - accuracy: 0.8041 - val_loss: 0.3254 - val_accuracy: 0.8461\n",
            "Epoch 8/10\n",
            "1488/1488 [==============================] - 373s 251ms/step - loss: 0.2825 - accuracy: 0.8763 - val_loss: 0.2525 - val_accuracy: 0.8970\n",
            "Epoch 9/10\n",
            "1488/1488 [==============================] - 373s 250ms/step - loss: 0.2320 - accuracy: 0.9131 - val_loss: 0.2269 - val_accuracy: 0.9149\n",
            "Epoch 10/10\n",
            "1488/1488 [==============================] - 373s 250ms/step - loss: 0.2165 - accuracy: 0.9207 - val_loss: 0.2128 - val_accuracy: 0.9227\n"
          ],
          "name": "stdout"
        }
      ]
    },
    {
      "cell_type": "code",
      "metadata": {
        "id": "FSoGtmccXS3O",
        "colab": {
          "base_uri": "https://localhost:8080/"
        },
        "outputId": "e29dedf4-2a68-4dc0-fda8-33ec21c64836"
      },
      "source": [
        "rnn_model.summary()"
      ],
      "execution_count": 49,
      "outputs": [
        {
          "output_type": "stream",
          "text": [
            "Model: \"sequential_7\"\n",
            "_________________________________________________________________\n",
            "Layer (type)                 Output Shape              Param #   \n",
            "=================================================================\n",
            "embedding_6 (Embedding)      (None, 4539, 200)         30000000  \n",
            "_________________________________________________________________\n",
            "lstm_4 (LSTM)                (None, 100)               120400    \n",
            "_________________________________________________________________\n",
            "dropout_4 (Dropout)          (None, 100)               0         \n",
            "_________________________________________________________________\n",
            "dense_4 (Dense)              (None, 2)                 202       \n",
            "=================================================================\n",
            "Total params: 30,120,602\n",
            "Trainable params: 30,120,602\n",
            "Non-trainable params: 0\n",
            "_________________________________________________________________\n"
          ],
          "name": "stdout"
        }
      ]
    },
    {
      "cell_type": "code",
      "metadata": {
        "colab": {
          "base_uri": "https://localhost:8080/",
          "height": 295
        },
        "id": "ejKCOg70ELbe",
        "outputId": "fae70858-23d0-4157-a10e-65a46006a64c"
      },
      "source": [
        "plot_metrics(rnn_history.history, validation=True)"
      ],
      "execution_count": 50,
      "outputs": [
        {
          "output_type": "display_data",
          "data": {
            "image/png": "[encoded data removed]",
            "text/plain": [
              "<Figure size 864x288 with 2 Axes>"
            ]
          },
          "metadata": {
            "tags": [],
            "needs_background": "light"
          }
        }
      ]
    },
    {
      "cell_type": "code",
      "metadata": {
        "colab": {
          "base_uri": "https://localhost:8080/"
        },
        "id": "u23IpJF7EOz2",
        "outputId": "fa4bf17a-9141-45cf-c627-5bb9632e90ea"
      },
      "source": [
        "rnn_model.save(f\"{base_path}/models/2020_11_19_paper_sms_rnn\")"
      ],
      "execution_count": 51,
      "outputs": [
        {
          "output_type": "stream",
          "text": [
            "INFO:tensorflow:Assets written to: /content/drive/My Drive/models/2020_11_19_paper_sms_rnn/assets\n"
          ],
          "name": "stdout"
        }
      ]
    },
    {
      "cell_type": "code",
      "metadata": {
        "colab": {
          "base_uri": "https://localhost:8080/"
        },
        "id": "v7xUt3AiEVdy",
        "outputId": "a27c52be-100b-45ab-8397-d5bb5639f6f2"
      },
      "source": [
        "rnn_y_train_predclass = rnn_model.predict(X_train)\n",
        "\n",
        "sl_rnn_y_train_predclass = np.argmax(rnn_y_train_predclass, axis=1)\n",
        "sl_y_train = np.argmax(y_train, axis=1)\n",
        "\n",
        "rnn_train_accuracy = round(accuracy_score(sl_y_train, sl_rnn_y_train_predclass), 3)\n",
        "print(f\"Train accuracy: {rnn_train_accuracy}\")\n",
        "\n",
        "print(\"Train Classification Report\")\n",
        "print(classification_report(sl_y_train, sl_rnn_y_train_predclass))"
      ],
      "execution_count": 52,
      "outputs": [
        {
          "output_type": "stream",
          "text": [
            "Train accuracy: 0.925\n",
            "Train Classification Report\n",
            "              precision    recall  f1-score   support\n",
            "\n",
            "           0       0.87      1.00      0.93     23694\n",
            "           1       0.99      0.86      0.92     23913\n",
            "\n",
            "    accuracy                           0.93     47607\n",
            "   macro avg       0.93      0.93      0.92     47607\n",
            "weighted avg       0.93      0.93      0.92     47607\n",
            "\n"
          ],
          "name": "stdout"
        }
      ]
    },
    {
      "cell_type": "code",
      "metadata": {
        "colab": {
          "base_uri": "https://localhost:8080/"
        },
        "id": "xU8AqCe4Er5N",
        "outputId": "a231da1e-5efa-4f6c-d6d3-4ce1505cb56e"
      },
      "source": [
        "rnn_y_test_predclass = rnn_model.predict(X_test)\n",
        "\n",
        "sl_rnn_y_test_predclass = np.argmax(rnn_y_test_predclass, axis=1)\n",
        "sl_y_test = np.argmax(y_test, axis=1)\n",
        "\n",
        "rnn_test_accuracy = round(accuracy_score(sl_y_test, sl_rnn_y_test_predclass), 3)\n",
        "print(f\"Test accuracy: {rnn_test_accuracy}\")\n",
        "\n",
        "print(\"Test Classification Report\")\n",
        "print (classification_report(sl_y_test, sl_rnn_y_test_predclass))"
      ],
      "execution_count": 53,
      "outputs": [
        {
          "output_type": "stream",
          "text": [
            "Test accuracy: 0.923\n",
            "Test Classification Report\n",
            "              precision    recall  f1-score   support\n",
            "\n",
            "           0       0.87      0.99      0.93     11448\n",
            "           1       0.99      0.85      0.92     11223\n",
            "\n",
            "    accuracy                           0.92     22671\n",
            "   macro avg       0.93      0.92      0.92     22671\n",
            "weighted avg       0.93      0.92      0.92     22671\n",
            "\n"
          ],
          "name": "stdout"
        }
      ]
    },
    {
      "cell_type": "markdown",
      "metadata": {
        "id": "5Efchwz3c_0n"
      },
      "source": [
        "### Results\n",
        "\n",
        "Configuration specific to this problem:\n",
        "- Embedding dimension: 200\n",
        "- Batch size: 32 (default)\n",
        "- Vocabulary size: 150000\n",
        "- Max vector length: 4539\n",
        "\n",
        "**SMS configuration** (/models/2020_11_19_paper_sms_rnn)\n",
        "\n",
        "- Time per epoch: ~369s\n",
        "- 10th epoch accuracy: 0.9207\n",
        "- 10th epoch validation accuracty: 0.9227\n",
        "- Train set accuracy: 0.925\n",
        "- Test set accuracy: 0.923\n",
        "\n",
        "Train set report:\n",
        "\n",
        "|  |Precission|Recall|F1 Score|Support|\n",
        "|:-|:-:|:-:|:-:|:-:|\n",
        "|0|0.87|1.00|0.93|23694|\n",
        "|1|0.99|0.86|0.92|23913|\n",
        "||||||\n",
        "|accuracy|||0.93|47607|\n",
        "|macro avg|0.93|0.93|0.92|47607|\n",
        "|weighted avg|0.93|0.93|0.92|47607|\n",
        "\n",
        "Test set report:\n",
        "\n",
        "|  |Precission|Recall|F1 Score|Support|\n",
        "|:-|:-:|:-:|:-:|:-:|\n",
        "|0|0.87|0.99|0.93|11448|\n",
        "|1|0.99|0.85|0.92|11223|\n",
        "||||||\n",
        "|accuracy|||0.92|22671|\n",
        "|macro avg|0.93|0.92|0.92|22671|\n",
        "|weighted avg|0.93|0.92|0.92|22671|\n",
        "\n",
        "\n",
        "**Twitter configuration** (/models/2020_11_19_paper_twitter_rnn)\n",
        "\n",
        "- Time per epoch: ~365s\n",
        "- 10th epoch accuracy: 0.9515\n",
        "- 10th epoch validation accuracty: 0.9597\n",
        "- Train set accuracy: 0.96\n",
        "- Test set accuracy: 0.957\n",
        "\n",
        "Train set report:\n",
        "\n",
        "|  |Precission|Recall|F1 Score|Support|\n",
        "|:-|:-:|:-:|:-:|:-:|\n",
        "|0|0.94|0.99|0.96|23694|\n",
        "|1|0.99|0.93|0.96|23913|\n",
        "||||||\n",
        "|accuracy|||0.96|47607|\n",
        "|macro avg|0.96|0.96|0.96|47607|\n",
        "|weighted avg|0.96|0.96|0.96|47607|\n",
        "\n",
        "Test set report:\n",
        "\n",
        "|  |Precission|Recall|F1 Score|Support|\n",
        "|:-|:-:|:-:|:-:|:-:|\n",
        "|0|0.93|0.99|0.96|11448|\n",
        "|1|0.99|0.92|0.96|11223|\n",
        "||||||\n",
        "|accuracy|||0.96|22671|\n",
        "|macro avg|0.96|0.96|0.96|22671|\n",
        "|weighted avg|0.96|0.96|0.96|22671|"
      ]
    },
    {
      "cell_type": "markdown",
      "metadata": {
        "id": "NABpDjhz6l1g"
      },
      "source": [
        "## CNN + RNN\n",
        "\n",
        "\n",
        "From the paper of Jain et al. the hyperparameters are:\n",
        "\n",
        "|   | SMS | Twitter |\n",
        "|:--|:---:|:-------:|\n",
        "|Number of filters| 128 | 54 |\n",
        "|Number of units| 100 | 100 |\n",
        "|Filter length| 5 | 4 |\n",
        "|Droput | 0.1 | 0.2 |\n",
        "|Optimizer | Adagrad (lr: 0.1) | Adagrad (lr: 0.1) |\n",
        "|Activation function | ReLu | ReLu |\n",
        "|Epochs | 10 | 10 |\n",
        "\n",
        "Note that we had to ignore the number of features used by the atuthor to be able to fit the vocabulary in the embedding, accounting for multi-language content (i.e. a bigger number of words). To run one or the other simply change the configuration in the code below."
      ]
    },
    {
      "cell_type": "code",
      "metadata": {
        "colab": {
          "base_uri": "https://localhost:8080/"
        },
        "id": "2v01LC_56x1J",
        "outputId": "ce9cd7c9-b49d-4695-ee48-0542e9cca400"
      },
      "source": [
        "with tf.device('/device:GPU:0'):\n",
        "  \n",
        "  crnn_model = Sequential()\n",
        "\n",
        "  crnn_model.add(Embedding(input_dim=vocab_size, output_dim=200, input_length=max_length))\n",
        "  crnn_model.add(Conv1D(filters=128, kernel_size=5, activation=\"relu\"))\n",
        "  crnn_model.add(MaxPooling1D())\n",
        "  crnn_model.add(LSTM(units=100))\n",
        "  crnn_model.add(Dropout(rate=0.1))\n",
        "  crnn_model.add(Flatten())\n",
        "  crnn_model.add(Dense(units=num_classes, activation=\"softmax\"))\n",
        "\n",
        "  crnn_model.compile(loss='categorical_crossentropy', optimizer='adagrad', metrics=['accuracy'])\n",
        "\n",
        "  crnn_history = crnn_model.fit(\n",
        "    X_train,\n",
        "    y_train,\n",
        "    epochs=10,\n",
        "    validation_data=(X_val, y_val)\n",
        ")"
      ],
      "execution_count": 33,
      "outputs": [
        {
          "output_type": "stream",
          "text": [
            "Epoch 1/10\n",
            "1488/1488 [==============================] - 252s 169ms/step - loss: 0.5691 - accuracy: 0.7513 - val_loss: 0.3725 - val_accuracy: 0.8352\n",
            "Epoch 2/10\n",
            "1488/1488 [==============================] - 253s 170ms/step - loss: 0.3161 - accuracy: 0.8732 - val_loss: 0.2798 - val_accuracy: 0.8845\n",
            "Epoch 3/10\n",
            "1488/1488 [==============================] - 252s 169ms/step - loss: 0.2467 - accuracy: 0.9074 - val_loss: 0.1984 - val_accuracy: 0.9408\n",
            "Epoch 4/10\n",
            "1488/1488 [==============================] - 251s 169ms/step - loss: 0.1837 - accuracy: 0.9379 - val_loss: 0.1561 - val_accuracy: 0.9488\n",
            "Epoch 5/10\n",
            "1488/1488 [==============================] - 251s 169ms/step - loss: 0.1473 - accuracy: 0.9514 - val_loss: 0.1350 - val_accuracy: 0.9573\n",
            "Epoch 6/10\n",
            "1488/1488 [==============================] - 251s 169ms/step - loss: 0.1304 - accuracy: 0.9577 - val_loss: 0.1300 - val_accuracy: 0.9567\n",
            "Epoch 7/10\n",
            "1488/1488 [==============================] - 250s 168ms/step - loss: 0.1162 - accuracy: 0.9640 - val_loss: 0.1177 - val_accuracy: 0.9641\n",
            "Epoch 8/10\n",
            "1488/1488 [==============================] - 251s 168ms/step - loss: 0.1116 - accuracy: 0.9653 - val_loss: 0.1184 - val_accuracy: 0.9639\n",
            "Epoch 9/10\n",
            "1488/1488 [==============================] - 250s 168ms/step - loss: 0.1028 - accuracy: 0.9693 - val_loss: 0.1110 - val_accuracy: 0.9669\n",
            "Epoch 10/10\n",
            "1488/1488 [==============================] - 250s 168ms/step - loss: 0.1796 - accuracy: 0.9427 - val_loss: 0.1112 - val_accuracy: 0.9647\n"
          ],
          "name": "stdout"
        }
      ]
    },
    {
      "cell_type": "code",
      "metadata": {
        "colab": {
          "base_uri": "https://localhost:8080/"
        },
        "id": "OyMX6r2m7GYU",
        "outputId": "a333c5cc-5ca4-42e6-ad7d-920758bcaa9b"
      },
      "source": [
        "crnn_model.summary()"
      ],
      "execution_count": 34,
      "outputs": [
        {
          "output_type": "stream",
          "text": [
            "Model: \"sequential_1\"\n",
            "_________________________________________________________________\n",
            "Layer (type)                 Output Shape              Param #   \n",
            "=================================================================\n",
            "embedding_1 (Embedding)      (None, 4539, 200)         30000000  \n",
            "_________________________________________________________________\n",
            "conv1d_1 (Conv1D)            (None, 4535, 128)         128128    \n",
            "_________________________________________________________________\n",
            "max_pooling1d_1 (MaxPooling1 (None, 2267, 128)         0         \n",
            "_________________________________________________________________\n",
            "lstm_1 (LSTM)                (None, 100)               91600     \n",
            "_________________________________________________________________\n",
            "dropout_1 (Dropout)          (None, 100)               0         \n",
            "_________________________________________________________________\n",
            "flatten_1 (Flatten)          (None, 100)               0         \n",
            "_________________________________________________________________\n",
            "dense_1 (Dense)              (None, 2)                 202       \n",
            "=================================================================\n",
            "Total params: 30,219,930\n",
            "Trainable params: 30,219,930\n",
            "Non-trainable params: 0\n",
            "_________________________________________________________________\n"
          ],
          "name": "stdout"
        }
      ]
    },
    {
      "cell_type": "code",
      "metadata": {
        "colab": {
          "base_uri": "https://localhost:8080/",
          "height": 295
        },
        "id": "4JkL6Kaf_ux7",
        "outputId": "ebdadf3e-66c9-49b4-a8a6-74439017c25e"
      },
      "source": [
        "plot_metrics(crnn_history.history, validation=True)"
      ],
      "execution_count": 35,
      "outputs": [
        {
          "output_type": "display_data",
          "data": {
            "image/png": "[encoded data removed]",
            "text/plain": [
              "<Figure size 864x288 with 2 Axes>"
            ]
          },
          "metadata": {
            "tags": [],
            "needs_background": "light"
          }
        }
      ]
    },
    {
      "cell_type": "code",
      "metadata": {
        "colab": {
          "base_uri": "https://localhost:8080/"
        },
        "id": "UQadXwSn_0Pj",
        "outputId": "b197688f-f7b4-4647-8b0f-308e2ba7ccdf"
      },
      "source": [
        "crnn_model.save(f\"{base_path}/models/2020_11_19_paper_sms_crnn\")"
      ],
      "execution_count": 36,
      "outputs": [
        {
          "output_type": "stream",
          "text": [
            "INFO:tensorflow:Assets written to: /content/drive/My Drive/models/2020_11_19_paper_sms_crnn/assets\n"
          ],
          "name": "stdout"
        }
      ]
    },
    {
      "cell_type": "code",
      "metadata": {
        "colab": {
          "base_uri": "https://localhost:8080/"
        },
        "id": "-UT444Aq_5ew",
        "outputId": "b9d161b2-dd82-4633-d54a-b0aa93539b24"
      },
      "source": [
        "crnn_y_train_predclass = crnn_model.predict(X_train)\n",
        "\n",
        "sl_crnn_y_train_predclass = np.argmax(crnn_y_train_predclass, axis=1)\n",
        "sl_y_train = np.argmax(y_train, axis=1)\n",
        "\n",
        "crnn_train_accuracy = round(accuracy_score(sl_y_train, sl_crnn_y_train_predclass), 3)\n",
        "print(f\"Train accuracy: {crnn_train_accuracy}\")\n",
        "\n",
        "print(\"Train Classification Report\")\n",
        "print(classification_report(sl_y_train, sl_crnn_y_train_predclass))"
      ],
      "execution_count": 37,
      "outputs": [
        {
          "output_type": "stream",
          "text": [
            "Train accuracy: 0.97\n",
            "Train Classification Report\n",
            "              precision    recall  f1-score   support\n",
            "\n",
            "           0       0.95      0.99      0.97     23694\n",
            "           1       0.99      0.95      0.97     23913\n",
            "\n",
            "    accuracy                           0.97     47607\n",
            "   macro avg       0.97      0.97      0.97     47607\n",
            "weighted avg       0.97      0.97      0.97     47607\n",
            "\n"
          ],
          "name": "stdout"
        }
      ]
    },
    {
      "cell_type": "code",
      "metadata": {
        "colab": {
          "base_uri": "https://localhost:8080/"
        },
        "id": "LvbbMAVM_-_B",
        "outputId": "b8b06212-95be-45cc-cb9b-f10c8b3477de"
      },
      "source": [
        "crnn_y_test_predclass = crnn_model.predict(X_test)\n",
        "\n",
        "sl_crnn_y_test_predclass = np.argmax(crnn_y_test_predclass, axis=1)\n",
        "sl_y_test = np.argmax(y_test, axis=1)\n",
        "\n",
        "crnn_test_accuracy = round(accuracy_score(sl_y_test, sl_crnn_y_test_predclass), 3)\n",
        "print(f\"Test accuracy: {crnn_test_accuracy}\")\n",
        "\n",
        "print(\"Test Classification Report\")\n",
        "print (classification_report(sl_y_test, sl_crnn_y_test_predclass))"
      ],
      "execution_count": 38,
      "outputs": [
        {
          "output_type": "stream",
          "text": [
            "Test accuracy: 0.965\n",
            "Test Classification Report\n",
            "              precision    recall  f1-score   support\n",
            "\n",
            "           0       0.95      0.99      0.97     11448\n",
            "           1       0.99      0.94      0.96     11223\n",
            "\n",
            "    accuracy                           0.96     22671\n",
            "   macro avg       0.97      0.96      0.96     22671\n",
            "weighted avg       0.97      0.96      0.96     22671\n",
            "\n"
          ],
          "name": "stdout"
        }
      ]
    },
    {
      "cell_type": "markdown",
      "metadata": {
        "id": "eVNcUya-Gg39"
      },
      "source": [
        "### Results\n",
        "\n",
        "Configuration specific to this problem:\n",
        "- Embedding dimension: 200\n",
        "- Batch size: 32 (default)\n",
        "- Vocabulary size: 150000\n",
        "- Max vector length: 4539\n",
        "\n",
        "**SMS configuration** (/models/2020_11_19_paper_sms_crnn)\n",
        "\n",
        "- Time per epoch: ~250s\n",
        "- 10th epoch accuracy: 0.9427\n",
        "- 10th epoch validation accuracy: 0.9647\n",
        "- Train set accuracy: 0.97\n",
        "- Test set accuracy: 0.965\n",
        "\n",
        "Train set report:\n",
        "\n",
        "|  |Precission|Recall|F1 Score|Support|\n",
        "|:-|:-:|:-:|:-:|:-:|\n",
        "|0|0.95|0.99|0.97|23694|\n",
        "|1|0.99|0.95|0.97|23913|\n",
        "||||||\n",
        "|accuracy|||0.97|47607|\n",
        "|macro avg|0.97|0.97|0.97|47607|\n",
        "|weighted avg|0.97|0.97|0.97|47607|\n",
        "\n",
        "Test set report:\n",
        "\n",
        "|  |Precission|Recall|F1 Score|Support|\n",
        "|:-|:-:|:-:|:-:|:-:|\n",
        "|0|0.95|0.99|0.97|11448|\n",
        "|1|0.99|0.94|0.96|11223|\n",
        "||||||\n",
        "|accuracy|||0.96|22671|\n",
        "|macro avg|0.97|0.96|0.96|22671|\n",
        "|weighted avg|0.97|0.96|0.96|22671|\n",
        "\n",
        "\n",
        "**Twitter configuration** (/models/2020_11_19_paper_crnn_twitter)\n",
        "\n",
        "- Time per epoch: ~220s\n",
        "- 10th epoch accuracy: 0.9629\n",
        "- 10th epoch validation accuracy: 0.9612\n",
        "- Train set accuracy: 0.964\n",
        "- Test set accuracy: 0.96\n",
        "\n",
        "Train set report:\n",
        "\n",
        "|  |Precission|Recall|F1 Score|Support|\n",
        "|:-|:-:|:-:|:-:|:-:|\n",
        "|0|0.93|0.99|0.96|23694|\n",
        "|1|0.99|0.93|0.96|23913|\n",
        "||||||\n",
        "|accuracy|||0.96|47607|\n",
        "|macro avg|0.96|0.96|0.96|47607|\n",
        "|weighted avg|0.96|0.96|0.96|47607|\n",
        "\n",
        "Test set report:\n",
        "\n",
        "|  |Precission|Recall|F1 Score|Support|\n",
        "|:-|:-:|:-:|:-:|:-:|\n",
        "|0|0.93|0.99|0.96|11448|\n",
        "|1|0.99|0.93|0.96|11223|\n",
        "||||||\n",
        "|accuracy|||0.96|22671|\n",
        "|macro avg|0.96|0.96|0.96|22671|\n",
        "|weighted avg|0.96|0.96|0.96|22671|"
      ]
    },
    {
      "cell_type": "code",
      "metadata": {
        "id": "0f0Q4MJkHSkY"
      },
      "source": [
        ""
      ],
      "execution_count": null,
      "outputs": []
    }
  ]
}