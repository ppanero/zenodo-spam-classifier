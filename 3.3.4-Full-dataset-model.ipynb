{
 "cells": [
  {
   "cell_type": "markdown",
   "metadata": {},
   "source": [
    "# Proposed model over the full dataset\n",
    "\n",
    "The full dataset is pre-processed and predicted."
   ]
  },
  {
   "cell_type": "code",
   "execution_count": 29,
   "metadata": {},
   "outputs": [],
   "source": [
    "import keras\n",
    "import matplotlib.pyplot as plt  \n",
    "import numpy as np\n",
    "import pandas as pd\n",
    "import pickle\n",
    "import seaborn as sns\n",
    "import tensorflow as tf\n",
    "\n",
    "from keras.utils import to_categorical\n",
    "from keras.preprocessing.text import one_hot\n",
    "from keras.preprocessing.sequence import pad_sequences\n",
    "from sklearn.metrics import accuracy_score, classification_report, confusion_matrix"
   ]
  },
  {
   "cell_type": "markdown",
   "metadata": {},
   "source": [
    "## Data loading"
   ]
  },
  {
   "cell_type": "code",
   "execution_count": null,
   "metadata": {},
   "outputs": [],
   "source": [
    "# When using Goolge Colab\n",
    "from google.colab import drive\n",
    "drive.mount('/content/drive')"
   ]
  },
  {
   "cell_type": "code",
   "execution_count": 6,
   "metadata": {},
   "outputs": [],
   "source": [
    "base_path = \".\""
   ]
  },
  {
   "cell_type": "code",
   "execution_count": 10,
   "metadata": {},
   "outputs": [],
   "source": [
    "full_filepath = f\"{base_path}/datasets/zenodo_open_metadata_2020-11-14_processed_text_4000.jsonl\"\n",
    "full_df = pd.read_json(full_filepath, lines=True)  # The file is JSONLines"
   ]
  },
  {
   "cell_type": "code",
   "execution_count": 11,
   "metadata": {},
   "outputs": [
    {
     "data": {
      "text/html": [
       "<div>\n",
       "<style scoped>\n",
       "    .dataframe tbody tr th:only-of-type {\n",
       "        vertical-align: middle;\n",
       "    }\n",
       "\n",
       "    .dataframe tbody tr th {\n",
       "        vertical-align: top;\n",
       "    }\n",
       "\n",
       "    .dataframe thead th {\n",
       "        text-align: right;\n",
       "    }\n",
       "</style>\n",
       "<table border=\"1\" class=\"dataframe\">\n",
       "  <thead>\n",
       "    <tr style=\"text-align: right;\">\n",
       "      <th></th>\n",
       "      <th>recid</th>\n",
       "      <th>spam</th>\n",
       "      <th>text_4000</th>\n",
       "    </tr>\n",
       "  </thead>\n",
       "  <tbody>\n",
       "    <tr>\n",
       "      <th>0</th>\n",
       "      <td>3900603</td>\n",
       "      <td>False</td>\n",
       "      <td>the geodynamic world builder the geodynamic wo...</td>\n",
       "    </tr>\n",
       "    <tr>\n",
       "      <th>1</th>\n",
       "      <td>3363990</td>\n",
       "      <td>False</td>\n",
       "      <td>alignment ambiguous characters indel maximum l...</td>\n",
       "    </tr>\n",
       "    <tr>\n",
       "      <th>2</th>\n",
       "      <td>3363503</td>\n",
       "      <td>False</td>\n",
       "      <td>biodiversity taxonomy animalia arthropoda inse...</td>\n",
       "    </tr>\n",
       "    <tr>\n",
       "      <th>3</th>\n",
       "      <td>3363619</td>\n",
       "      <td>False</td>\n",
       "      <td>biodiversity taxonomy animalia arthropoda maxi...</td>\n",
       "    </tr>\n",
       "    <tr>\n",
       "      <th>4</th>\n",
       "      <td>3363729</td>\n",
       "      <td>False</td>\n",
       "      <td>biodiversity taxonomy animalia arthropoda inse...</td>\n",
       "    </tr>\n",
       "  </tbody>\n",
       "</table>\n",
       "</div>"
      ],
      "text/plain": [
       "     recid   spam                                          text_4000\n",
       "0  3900603  False  the geodynamic world builder the geodynamic wo...\n",
       "1  3363990  False  alignment ambiguous characters indel maximum l...\n",
       "2  3363503  False  biodiversity taxonomy animalia arthropoda inse...\n",
       "3  3363619  False  biodiversity taxonomy animalia arthropoda maxi...\n",
       "4  3363729  False  biodiversity taxonomy animalia arthropoda inse..."
      ]
     },
     "execution_count": 11,
     "metadata": {},
     "output_type": "execute_result"
    }
   ],
   "source": [
    "full_df.head()"
   ]
  },
  {
   "cell_type": "code",
   "execution_count": 12,
   "metadata": {},
   "outputs": [],
   "source": [
    "# Split dataset\n",
    "\n",
    "labels = full_df['spam']\n",
    "cat_labels = to_categorical(labels)\n",
    "data = full_df[\"text_4000\"]"
   ]
  },
  {
   "cell_type": "code",
   "execution_count": 13,
   "metadata": {},
   "outputs": [
    {
     "data": {
      "text/html": [
       "<div>\n",
       "<style scoped>\n",
       "    .dataframe tbody tr th:only-of-type {\n",
       "        vertical-align: middle;\n",
       "    }\n",
       "\n",
       "    .dataframe tbody tr th {\n",
       "        vertical-align: top;\n",
       "    }\n",
       "\n",
       "    .dataframe thead th {\n",
       "        text-align: right;\n",
       "    }\n",
       "</style>\n",
       "<table border=\"1\" class=\"dataframe\">\n",
       "  <thead>\n",
       "    <tr style=\"text-align: right;\">\n",
       "      <th></th>\n",
       "      <th>recid</th>\n",
       "      <th>spam</th>\n",
       "      <th>text_4000</th>\n",
       "    </tr>\n",
       "  </thead>\n",
       "  <tbody>\n",
       "    <tr>\n",
       "      <th>0</th>\n",
       "      <td>3900603</td>\n",
       "      <td>False</td>\n",
       "      <td>the geodynamic world builder the geodynamic wo...</td>\n",
       "    </tr>\n",
       "    <tr>\n",
       "      <th>1</th>\n",
       "      <td>3363990</td>\n",
       "      <td>False</td>\n",
       "      <td>alignment ambiguous characters indel maximum l...</td>\n",
       "    </tr>\n",
       "    <tr>\n",
       "      <th>2</th>\n",
       "      <td>3363503</td>\n",
       "      <td>False</td>\n",
       "      <td>biodiversity taxonomy animalia arthropoda inse...</td>\n",
       "    </tr>\n",
       "    <tr>\n",
       "      <th>3</th>\n",
       "      <td>3363619</td>\n",
       "      <td>False</td>\n",
       "      <td>biodiversity taxonomy animalia arthropoda maxi...</td>\n",
       "    </tr>\n",
       "    <tr>\n",
       "      <th>4</th>\n",
       "      <td>3363729</td>\n",
       "      <td>False</td>\n",
       "      <td>biodiversity taxonomy animalia arthropoda inse...</td>\n",
       "    </tr>\n",
       "  </tbody>\n",
       "</table>\n",
       "</div>"
      ],
      "text/plain": [
       "     recid   spam                                          text_4000\n",
       "0  3900603  False  the geodynamic world builder the geodynamic wo...\n",
       "1  3363990  False  alignment ambiguous characters indel maximum l...\n",
       "2  3363503  False  biodiversity taxonomy animalia arthropoda inse...\n",
       "3  3363619  False  biodiversity taxonomy animalia arthropoda maxi...\n",
       "4  3363729  False  biodiversity taxonomy animalia arthropoda inse..."
      ]
     },
     "execution_count": 13,
     "metadata": {},
     "output_type": "execute_result"
    }
   ],
   "source": [
    "full_df.head()"
   ]
  },
  {
   "cell_type": "code",
   "execution_count": 14,
   "metadata": {},
   "outputs": [
    {
     "name": "stdout",
     "output_type": "stream",
     "text": [
      "False    1684521\n",
      "True       37784\n",
      "Name: spam, dtype: int64\n"
     ]
    }
   ],
   "source": [
    "spam_ham = full_df.spam.value_counts()\n",
    "print(spam_ham)"
   ]
  },
  {
   "cell_type": "markdown",
   "metadata": {},
   "source": [
    "## One Hot vectorization\n",
    "\n",
    "One hot encoding allows to have each term identified in a vocabulary, which is needed for the input of the `Embedding` layerd. In addition, TF-IDF can camuflage different words with a similar score and we want the Embedding to find this out."
   ]
  },
  {
   "cell_type": "code",
   "execution_count": 15,
   "metadata": {},
   "outputs": [],
   "source": [
    "vocab_size = 150000  # To account for different languages\n",
    "max_input_length = 4000 # We assume that there cannot be more than 4000k words "
   ]
  },
  {
   "cell_type": "code",
   "execution_count": 16,
   "metadata": {
    "scrolled": true
   },
   "outputs": [
    {
     "name": "stdout",
     "output_type": "stream",
     "text": [
      "Soft failure. One hot expanded, found length 4053\n",
      "Soft failure. One hot expanded, found length 4244\n",
      "Soft failure. One hot expanded, found length 4341\n",
      "Soft failure. One hot expanded, found length 4141\n",
      "Soft failure. One hot expanded, found length 4149\n",
      "Soft failure. One hot expanded, found length 4132\n",
      "Soft failure. One hot expanded, found length 4120\n",
      "Soft failure. One hot expanded, found length 4127\n",
      "Soft failure. One hot expanded, found length 4539\n",
      "Soft failure. One hot expanded, found length 4117\n",
      "Soft failure. One hot expanded, found length 4136\n",
      "Soft failure. One hot expanded, found length 4118\n",
      "Soft failure. One hot expanded, found length 4141\n",
      "Soft failure. One hot expanded, found length 4141\n",
      "Soft failure. One hot expanded, found length 4141\n",
      "Soft failure. One hot expanded, found length 4141\n",
      "Soft failure. One hot expanded, found length 4362\n",
      "Soft failure. One hot expanded, found length 4141\n",
      "Soft failure. One hot expanded, found length 4141\n",
      "Soft failure. One hot expanded, found length 4184\n",
      "Soft failure. One hot expanded, found length 4356\n",
      "Soft failure. One hot expanded, found length 4455\n",
      "Soft failure. One hot expanded, found length 4244\n",
      "Soft failure. One hot expanded, found length 4100\n",
      "Maximum length 4539\n"
     ]
    }
   ],
   "source": [
    "data_vec = []\n",
    "max_length = -1\n",
    "safeguard = 4000\n",
    "\n",
    "for record in data:\n",
    "    # filters and lower should not be needed. Those were applied on preprocessing (notebook 0)\n",
    "    vec = one_hot(record, vocab_size, split=' ')\n",
    "    vec_len = len(vec)\n",
    "    if vec_len > max_length:\n",
    "        max_length = vec_len\n",
    "\n",
    "    # This should never happen, it is just a safeguard\n",
    "    if vec_len > safeguard:\n",
    "        if len(record.split(' ')) > safeguard:  # This should never be True. It is a safeguard.\n",
    "            print(f\"Hard failure. input len {len(record)}\")\n",
    "        print(f\"Soft failure. One hot expanded, found length {vec_len}\")\n",
    "    \n",
    "    data_vec.append(vec)\n",
    "    \n",
    "print(f\"Maximum length {max_length}\")"
   ]
  },
  {
   "cell_type": "code",
   "execution_count": 17,
   "metadata": {},
   "outputs": [],
   "source": [
    "# Cannot save the padded vector cuz it weights more than 4GiB\n",
    "pickle.dump(data_vec, open(f\"{base_path}/vectors/zenodo_open_metadata_2020-12-13-full_text_4000_one_hot_padded.pkl\",\"wb\"))\n",
    "pickle.dump(cat_labels, open(f\"{base_path}/vectors/zenodo_open_metadata_2020-12-13_full_cat_labels.pkl\",\"wb\"))"
   ]
  },
  {
   "cell_type": "code",
   "execution_count": 18,
   "metadata": {},
   "outputs": [],
   "source": [
    "# Execute only if needed\n",
    "data_vec = pickle.load(open(f\"{base_path}/vectors/zenodo_open_metadata_2020-12-13-full_text_4000_one_hot_padded.pkl\",\"rb\"))\n",
    "cat_labels = pickle.load(open(f\"{base_path}/vectors/zenodo_open_metadata_2020-12-13_full_cat_labels.pkl\",\"rb\"))"
   ]
  },
  {
   "cell_type": "code",
   "execution_count": 19,
   "metadata": {},
   "outputs": [],
   "source": [
    "data_vec_padded = pad_sequences(data_vec, maxlen=max_length)"
   ]
  },
  {
   "cell_type": "markdown",
   "metadata": {},
   "source": [
    "## Predict the full dataset\n",
    "\n",
    "Using the chosen model (VI), saved as `models/2020_11_26_deeper_crnn`. Note that verbose shows the amount of batches (aprox num of records divided by 32)."
   ]
  },
  {
   "cell_type": "code",
   "execution_count": 62,
   "metadata": {},
   "outputs": [],
   "source": [
    "model_vi = tf.keras.models.load_model(f\"{base_path}/models/2020_11_21_paper_twitter_rnn\")"
   ]
  },
  {
   "cell_type": "code",
   "execution_count": null,
   "metadata": {},
   "outputs": [
    {
     "name": "stdout",
     "output_type": "stream",
     "text": [
      "53773/53823 [============================>.] - ETA: 43s"
     ]
    }
   ],
   "source": [
    "y_predclass = model_vi.predict(data_vec_padded, workers=10, verbose=True)\n",
    "\n",
    "y_predclass = np.argmax(y_predclass, axis=1)\n",
    "y = np.argmax(cat_labels, axis=1)\n",
    "\n",
    "model_accuracy = round(accuracy_score(y, y_predclass), 3)\n",
    "print(f\"Train accuracy: {model_accuracy}\")\n",
    "\n",
    "print(\"Train Classification Report\")\n",
    "print(classification_report(y, y_predclass))"
   ]
  },
  {
   "cell_type": "code",
   "execution_count": null,
   "metadata": {},
   "outputs": [],
   "source": [
    "pickle.dump(y_predclass, open(f\"{base_path}/vectors/zenodo_open_metadata_2020-11-21_y_predclass_paper_twitter_rnn.pkl\",\"wb\"))"
   ]
  },
  {
   "cell_type": "code",
   "execution_count": 44,
   "metadata": {},
   "outputs": [],
   "source": [
    "def plot_conf_mat(conf_mat):\n",
    "    plt.figure()\n",
    "    ax = plt.subplot()\n",
    "    sns.heatmap(conf_mat, annot=True, ax = ax, cbar=False, cmap=\"Accent_r\", fmt='g', #annot=True to annotate cells\n",
    "                vmin=1500, vmax=10000) # To display properly as confusion matrix\n",
    "    # YlGnBu\n",
    "    # TN | FP\n",
    "    #--------\n",
    "    # FN | TN\n",
    "    \n",
    "    # labels, title and ticks\n",
    "    ax.set_xlabel('Predicted labels')\n",
    "    ax.set_ylabel('True labels')\n",
    "    ax.set_title('Confusion Matrix')\n",
    "    ax.xaxis.set_ticklabels(['Ham', 'Spam'])\n",
    "    ax.yaxis.set_ticklabels(['Ham', 'Spam'])"
   ]
  },
  {
   "cell_type": "code",
   "execution_count": 45,
   "metadata": {},
   "outputs": [
    {
     "data": {
      "text/plain": [
       "0"
      ]
     },
     "execution_count": 45,
     "metadata": {},
     "output_type": "execute_result"
    }
   ],
   "source": [
    "y_predclass[-1]"
   ]
  },
  {
   "cell_type": "code",
   "execution_count": 46,
   "metadata": {},
   "outputs": [
    {
     "data": {
      "image/png": "[encoded data removed]",
      "text/plain": [
       "<Figure size 432x288 with 1 Axes>"
      ]
     },
     "metadata": {
      "needs_background": "light"
     },
     "output_type": "display_data"
    }
   ],
   "source": [
    "cm = confusion_matrix(y_pred=y_predclass, y_true=y)\n",
    "plot_conf_mat(cm)"
   ]
  },
  {
   "cell_type": "code",
   "execution_count": null,
   "metadata": {},
   "outputs": [],
   "source": []
  }
 ],
 "metadata": {
  "kernelspec": {
   "display_name": "Python 3",
   "language": "python",
   "name": "python3"
  },
  "language_info": {
   "codemirror_mode": {
    "name": "ipython",
    "version": 3
   },
   "file_extension": ".py",
   "mimetype": "text/x-python",
   "name": "python",
   "nbconvert_exporter": "python",
   "pygments_lexer": "ipython3",
   "version": "3.7.7"
  }
 },
 "nbformat": 4,
 "nbformat_minor": 4
}
